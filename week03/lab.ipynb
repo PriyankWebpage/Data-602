{
 "cells": [
  {
   "cell_type": "markdown",
   "id": "d41a66f8",
   "metadata": {},
   "source": [
    "# Priyank Sai Pannem - XR97612"
   ]
  },
  {
   "cell_type": "markdown",
   "id": "57771d6f",
   "metadata": {},
   "source": [
    "# Week 3 Lab"
   ]
  },
  {
   "cell_type": "markdown",
   "id": "ccb647fd",
   "metadata": {},
   "source": [
    "## Questions:\n",
    "- Differences between supervised and unsupervised learning?  \n",
    "- Differences between classification and regression?  \n",
    "- Classification and regression are the only types of supervised learning? "
   ]
  },
  {
   "cell_type": "markdown",
   "id": "03e12e71",
   "metadata": {},
   "source": []
  },
  {
   "cell_type": "markdown",
   "id": "b4add4a9",
   "metadata": {},
   "source": [
    "# Supervised Vs Unsupervised learning"
   ]
  },
  {
   "cell_type": "markdown",
   "id": "61d3d324",
   "metadata": {},
   "source": [
    "#### Supervised Learning\n",
    "- If labels are passed along with data to train the model, then this type of learning is called supervised learning\n",
    "- The goal of supervised learning is to predict the outcome.\n",
    "- To create forecasts, supervision is required.\n",
    "- Supervised learning requires us to train the model with labels before it gains knowledge to anticipate the outcome and this makes it fall short of AI\n",
    "- When both the input and the associated output are known, supervised learning may be applied.\n",
    "- linear regression, logistic regression, SVM, and decision trees are a few examples of supervised learning.\n",
    "\n",
    "#### Unsupervised Learning\n",
    "- If a model requires only data without any labels for training then this type of training is called unsupervised learing \n",
    "- The goal of unsupervised learning is to identify hidden patterns in the data.\n",
    "- Supervision is not required to train model using unsupervised learnig technique\n",
    "- As an unsupervised learning model gains knowledge from experience, it is closer to AI\n",
    "- In cases where there is no output unsupervised learning favours training the model. \n",
    "- Clustering, KNN are few examples of the unsupervised learning."
   ]
  },
  {
   "cell_type": "markdown",
   "id": "9f7651c0",
   "metadata": {},
   "source": [
    "# Classification Vs Regression"
   ]
  },
  {
   "cell_type": "markdown",
   "id": "1215aef6",
   "metadata": {},
   "source": [
    "#### Regression\n",
    "\n",
    "-  The prediction variable must be real or continuous value.\n",
    "- Regression seeks to identify the line with the best fit to forecast the value of new data points.\n",
    "- There are two types in regression namely linear and non-linear\n",
    "- Regression is used to predict house price prediction, stock price predictions\n",
    "\n",
    "#### Classification\n",
    "- The prediction variable must be real or discrete  value.\n",
    "- Classification aims to find the line or curve  that separates data into different cluster\n",
    "- There are two types in classification namely binary class and multi class\n",
    "- Classification is used to classify spam emails, fruits classification\n",
    "\n"
   ]
  },
  {
   "cell_type": "markdown",
   "id": "d1181254",
   "metadata": {},
   "source": [
    "# Classification and regression are the only types of supervised learning?\n",
    "\n",
    "\n",
    "YES "
   ]
  },
  {
   "cell_type": "code",
   "execution_count": null,
   "id": "bdbfcc22",
   "metadata": {},
   "outputs": [],
   "source": []
  }
 ],
 "metadata": {
  "kernelspec": {
   "display_name": "Python 3 (ipykernel)",
   "language": "python",
   "name": "python3"
  },
  "language_info": {
   "codemirror_mode": {
    "name": "ipython",
    "version": 3
   },
   "file_extension": ".py",
   "mimetype": "text/x-python",
   "name": "python",
   "nbconvert_exporter": "python",
   "pygments_lexer": "ipython3",
   "version": "3.9.12"
  },
  "toc": {
   "base_numbering": 1,
   "nav_menu": {},
   "number_sections": true,
   "sideBar": true,
   "skip_h1_title": false,
   "title_cell": "Table of Contents",
   "title_sidebar": "Contents",
   "toc_cell": false,
   "toc_position": {},
   "toc_section_display": true,
   "toc_window_display": false
  }
 },
 "nbformat": 4,
 "nbformat_minor": 5
}
