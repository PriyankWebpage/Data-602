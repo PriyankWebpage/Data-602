{
 "cells": [
  {
   "cell_type": "markdown",
   "metadata": {},
   "source": [
    "# Homework 4\n",
    "\n",
    "- Execute the below code, then answer the numbered questions."
   ]
  },
  {
   "cell_type": "code",
   "execution_count": 1,
   "metadata": {},
   "outputs": [
    {
     "name": "stdout",
     "output_type": "stream",
     "text": [
      "<class 'pandas.core.frame.DataFrame'>\n",
      "RangeIndex: 9055 entries, 0 to 9054\n",
      "Data columns (total 7 columns):\n",
      " #   Column         Non-Null Count  Dtype  \n",
      "---  ------         --------------  -----  \n",
      " 0   make           8164 non-null   object \n",
      " 1   transmission   8106 non-null   object \n",
      " 2   state          8152 non-null   object \n",
      " 3   condition      8173 non-null   float64\n",
      " 4   odometer       8178 non-null   float64\n",
      " 5   auction_value  8107 non-null   float64\n",
      " 6   selling_price  9055 non-null   float64\n",
      "dtypes: float64(4), object(3)\n",
      "memory usage: 495.3+ KB\n"
     ]
    }
   ],
   "source": [
    "import pandas as pd\n",
    "import numpy as np\n",
    "df = pd.read_csv('https://raw.githubusercontent.com/msaricaumbc/DS_data/master/ds602/regression/car-reg-data.csv')\n",
    "df.info()"
   ]
  },
  {
   "cell_type": "code",
   "execution_count": 2,
   "metadata": {},
   "outputs": [
    {
     "name": "stdout",
     "output_type": "stream",
     "text": [
      "Records in training data: 7,244\n",
      "Records in test data: 1,811\n",
      "\n",
      "Features:\n",
      "make\n",
      "transmission\n",
      "state\n",
      "condition\n",
      "odometer\n",
      "auction_value\n"
     ]
    }
   ],
   "source": [
    "from sklearn.model_selection import train_test_split\n",
    "features = [x for x in df.columns if x != 'selling_price']\n",
    "\n",
    "X = df[features]\n",
    "y = df['selling_price']\n",
    "\n",
    "X_train, X_test, y_train, y_test = train_test_split(X, y, test_size=0.2, random_state=100)\n",
    "\n",
    "print(f'Records in training data: {X_train.shape[0]:,}')\n",
    "print(f'Records in test data: {X_test.shape[0]:,}')\n",
    "print('\\nFeatures:')\n",
    "print(*X_train.columns, sep='\\n')"
   ]
  },
  {
   "cell_type": "code",
   "execution_count": 3,
   "metadata": {},
   "outputs": [
    {
     "data": {
      "text/plain": [
       "Index(['make', 'transmission', 'state', 'condition', 'odometer',\n",
       "       'auction_value'],\n",
       "      dtype='object')"
      ]
     },
     "execution_count": 3,
     "metadata": {},
     "output_type": "execute_result"
    }
   ],
   "source": [
    "X.columns"
   ]
  },
  {
   "cell_type": "markdown",
   "metadata": {},
   "source": [
    "## Question 1: Split the features into two lists, one for the numerical features and another for the categorical features."
   ]
  },
  {
   "cell_type": "code",
   "execution_count": 4,
   "metadata": {},
   "outputs": [],
   "source": [
    "numerical_features = ['condition','odometer','auction_value'] \n",
    "categorical_features = ['make','transmission','state']"
   ]
  },
  {
   "cell_type": "markdown",
   "metadata": {},
   "source": [
    "## Question 2: Using the numerical variables, create a pipeline that replaces the missing values with the median and then standardizes the values using a standard scaler."
   ]
  },
  {
   "cell_type": "code",
   "execution_count": 5,
   "metadata": {},
   "outputs": [
    {
     "data": {
      "text/html": [
       "<style>#sk-9246dbe1-95ee-45ca-a85d-6c6f78905bae {color: black;background-color: white;}#sk-9246dbe1-95ee-45ca-a85d-6c6f78905bae pre{padding: 0;}#sk-9246dbe1-95ee-45ca-a85d-6c6f78905bae div.sk-toggleable {background-color: white;}#sk-9246dbe1-95ee-45ca-a85d-6c6f78905bae label.sk-toggleable__label {cursor: pointer;display: block;width: 100%;margin-bottom: 0;padding: 0.3em;box-sizing: border-box;text-align: center;}#sk-9246dbe1-95ee-45ca-a85d-6c6f78905bae label.sk-toggleable__label-arrow:before {content: \"▸\";float: left;margin-right: 0.25em;color: #696969;}#sk-9246dbe1-95ee-45ca-a85d-6c6f78905bae label.sk-toggleable__label-arrow:hover:before {color: black;}#sk-9246dbe1-95ee-45ca-a85d-6c6f78905bae div.sk-estimator:hover label.sk-toggleable__label-arrow:before {color: black;}#sk-9246dbe1-95ee-45ca-a85d-6c6f78905bae div.sk-toggleable__content {max-height: 0;max-width: 0;overflow: hidden;text-align: left;background-color: #f0f8ff;}#sk-9246dbe1-95ee-45ca-a85d-6c6f78905bae div.sk-toggleable__content pre {margin: 0.2em;color: black;border-radius: 0.25em;background-color: #f0f8ff;}#sk-9246dbe1-95ee-45ca-a85d-6c6f78905bae input.sk-toggleable__control:checked~div.sk-toggleable__content {max-height: 200px;max-width: 100%;overflow: auto;}#sk-9246dbe1-95ee-45ca-a85d-6c6f78905bae input.sk-toggleable__control:checked~label.sk-toggleable__label-arrow:before {content: \"▾\";}#sk-9246dbe1-95ee-45ca-a85d-6c6f78905bae div.sk-estimator input.sk-toggleable__control:checked~label.sk-toggleable__label {background-color: #d4ebff;}#sk-9246dbe1-95ee-45ca-a85d-6c6f78905bae div.sk-label input.sk-toggleable__control:checked~label.sk-toggleable__label {background-color: #d4ebff;}#sk-9246dbe1-95ee-45ca-a85d-6c6f78905bae input.sk-hidden--visually {border: 0;clip: rect(1px 1px 1px 1px);clip: rect(1px, 1px, 1px, 1px);height: 1px;margin: -1px;overflow: hidden;padding: 0;position: absolute;width: 1px;}#sk-9246dbe1-95ee-45ca-a85d-6c6f78905bae div.sk-estimator {font-family: monospace;background-color: #f0f8ff;border: 1px dotted black;border-radius: 0.25em;box-sizing: border-box;margin-bottom: 0.5em;}#sk-9246dbe1-95ee-45ca-a85d-6c6f78905bae div.sk-estimator:hover {background-color: #d4ebff;}#sk-9246dbe1-95ee-45ca-a85d-6c6f78905bae div.sk-parallel-item::after {content: \"\";width: 100%;border-bottom: 1px solid gray;flex-grow: 1;}#sk-9246dbe1-95ee-45ca-a85d-6c6f78905bae div.sk-label:hover label.sk-toggleable__label {background-color: #d4ebff;}#sk-9246dbe1-95ee-45ca-a85d-6c6f78905bae div.sk-serial::before {content: \"\";position: absolute;border-left: 1px solid gray;box-sizing: border-box;top: 2em;bottom: 0;left: 50%;}#sk-9246dbe1-95ee-45ca-a85d-6c6f78905bae div.sk-serial {display: flex;flex-direction: column;align-items: center;background-color: white;padding-right: 0.2em;padding-left: 0.2em;}#sk-9246dbe1-95ee-45ca-a85d-6c6f78905bae div.sk-item {z-index: 1;}#sk-9246dbe1-95ee-45ca-a85d-6c6f78905bae div.sk-parallel {display: flex;align-items: stretch;justify-content: center;background-color: white;}#sk-9246dbe1-95ee-45ca-a85d-6c6f78905bae div.sk-parallel::before {content: \"\";position: absolute;border-left: 1px solid gray;box-sizing: border-box;top: 2em;bottom: 0;left: 50%;}#sk-9246dbe1-95ee-45ca-a85d-6c6f78905bae div.sk-parallel-item {display: flex;flex-direction: column;position: relative;background-color: white;}#sk-9246dbe1-95ee-45ca-a85d-6c6f78905bae div.sk-parallel-item:first-child::after {align-self: flex-end;width: 50%;}#sk-9246dbe1-95ee-45ca-a85d-6c6f78905bae div.sk-parallel-item:last-child::after {align-self: flex-start;width: 50%;}#sk-9246dbe1-95ee-45ca-a85d-6c6f78905bae div.sk-parallel-item:only-child::after {width: 0;}#sk-9246dbe1-95ee-45ca-a85d-6c6f78905bae div.sk-dashed-wrapped {border: 1px dashed gray;margin: 0 0.4em 0.5em 0.4em;box-sizing: border-box;padding-bottom: 0.4em;background-color: white;position: relative;}#sk-9246dbe1-95ee-45ca-a85d-6c6f78905bae div.sk-label label {font-family: monospace;font-weight: bold;background-color: white;display: inline-block;line-height: 1.2em;}#sk-9246dbe1-95ee-45ca-a85d-6c6f78905bae div.sk-label-container {position: relative;z-index: 2;text-align: center;}#sk-9246dbe1-95ee-45ca-a85d-6c6f78905bae div.sk-container {/* jupyter's `normalize.less` sets `[hidden] { display: none; }` but bootstrap.min.css set `[hidden] { display: none !important; }` so we also need the `!important` here to be able to override the default hidden behavior on the sphinx rendered scikit-learn.org. See: https://github.com/scikit-learn/scikit-learn/issues/21755 */display: inline-block !important;position: relative;}#sk-9246dbe1-95ee-45ca-a85d-6c6f78905bae div.sk-text-repr-fallback {display: none;}</style><div id=\"sk-9246dbe1-95ee-45ca-a85d-6c6f78905bae\" class=\"sk-top-container\"><div class=\"sk-text-repr-fallback\"><pre>Pipeline(steps=[(&#x27;impute_missing&#x27;, SimpleImputer(strategy=&#x27;median&#x27;)),\n",
       "                (&#x27;standardize_num&#x27;, StandardScaler())])</pre><b>Please rerun this cell to show the HTML repr or trust the notebook.</b></div><div class=\"sk-container\" hidden><div class=\"sk-item sk-dashed-wrapped\"><div class=\"sk-label-container\"><div class=\"sk-label sk-toggleable\"><input class=\"sk-toggleable__control sk-hidden--visually\" id=\"1bc9cbf6-c87e-4a6e-8e74-03056ebb3a57\" type=\"checkbox\" ><label for=\"1bc9cbf6-c87e-4a6e-8e74-03056ebb3a57\" class=\"sk-toggleable__label sk-toggleable__label-arrow\">Pipeline</label><div class=\"sk-toggleable__content\"><pre>Pipeline(steps=[(&#x27;impute_missing&#x27;, SimpleImputer(strategy=&#x27;median&#x27;)),\n",
       "                (&#x27;standardize_num&#x27;, StandardScaler())])</pre></div></div></div><div class=\"sk-serial\"><div class=\"sk-item\"><div class=\"sk-estimator sk-toggleable\"><input class=\"sk-toggleable__control sk-hidden--visually\" id=\"5211cb8a-9537-4928-892c-600a5d8ecbd0\" type=\"checkbox\" ><label for=\"5211cb8a-9537-4928-892c-600a5d8ecbd0\" class=\"sk-toggleable__label sk-toggleable__label-arrow\">SimpleImputer</label><div class=\"sk-toggleable__content\"><pre>SimpleImputer(strategy=&#x27;median&#x27;)</pre></div></div></div><div class=\"sk-item\"><div class=\"sk-estimator sk-toggleable\"><input class=\"sk-toggleable__control sk-hidden--visually\" id=\"83de7077-2d04-4646-bd52-c600080cd130\" type=\"checkbox\" ><label for=\"83de7077-2d04-4646-bd52-c600080cd130\" class=\"sk-toggleable__label sk-toggleable__label-arrow\">StandardScaler</label><div class=\"sk-toggleable__content\"><pre>StandardScaler()</pre></div></div></div></div></div></div></div>"
      ],
      "text/plain": [
       "Pipeline(steps=[('impute_missing', SimpleImputer(strategy='median')),\n",
       "                ('standardize_num', StandardScaler())])"
      ]
     },
     "execution_count": 5,
     "metadata": {},
     "output_type": "execute_result"
    }
   ],
   "source": [
    "from sklearn import set_config\n",
    "from sklearn.pipeline import Pipeline\n",
    "from sklearn.impute import SimpleImputer\n",
    "from sklearn.preprocessing import StandardScaler\n",
    "numerical_pipeline = Pipeline([('impute_missing', SimpleImputer(strategy='median')),\n",
    "                           ('standardize_num', StandardScaler())\n",
    "                        ])\n",
    "set_config(display='diagram')\n",
    "numerical_pipeline"
   ]
  },
  {
   "cell_type": "code",
   "execution_count": 6,
   "metadata": {},
   "outputs": [
    {
     "data": {
      "text/html": [
       "<style>#sk-9e327fe1-5b22-4d2e-8649-85eded24ccab {color: black;background-color: white;}#sk-9e327fe1-5b22-4d2e-8649-85eded24ccab pre{padding: 0;}#sk-9e327fe1-5b22-4d2e-8649-85eded24ccab div.sk-toggleable {background-color: white;}#sk-9e327fe1-5b22-4d2e-8649-85eded24ccab label.sk-toggleable__label {cursor: pointer;display: block;width: 100%;margin-bottom: 0;padding: 0.3em;box-sizing: border-box;text-align: center;}#sk-9e327fe1-5b22-4d2e-8649-85eded24ccab label.sk-toggleable__label-arrow:before {content: \"▸\";float: left;margin-right: 0.25em;color: #696969;}#sk-9e327fe1-5b22-4d2e-8649-85eded24ccab label.sk-toggleable__label-arrow:hover:before {color: black;}#sk-9e327fe1-5b22-4d2e-8649-85eded24ccab div.sk-estimator:hover label.sk-toggleable__label-arrow:before {color: black;}#sk-9e327fe1-5b22-4d2e-8649-85eded24ccab div.sk-toggleable__content {max-height: 0;max-width: 0;overflow: hidden;text-align: left;background-color: #f0f8ff;}#sk-9e327fe1-5b22-4d2e-8649-85eded24ccab div.sk-toggleable__content pre {margin: 0.2em;color: black;border-radius: 0.25em;background-color: #f0f8ff;}#sk-9e327fe1-5b22-4d2e-8649-85eded24ccab input.sk-toggleable__control:checked~div.sk-toggleable__content {max-height: 200px;max-width: 100%;overflow: auto;}#sk-9e327fe1-5b22-4d2e-8649-85eded24ccab input.sk-toggleable__control:checked~label.sk-toggleable__label-arrow:before {content: \"▾\";}#sk-9e327fe1-5b22-4d2e-8649-85eded24ccab div.sk-estimator input.sk-toggleable__control:checked~label.sk-toggleable__label {background-color: #d4ebff;}#sk-9e327fe1-5b22-4d2e-8649-85eded24ccab div.sk-label input.sk-toggleable__control:checked~label.sk-toggleable__label {background-color: #d4ebff;}#sk-9e327fe1-5b22-4d2e-8649-85eded24ccab input.sk-hidden--visually {border: 0;clip: rect(1px 1px 1px 1px);clip: rect(1px, 1px, 1px, 1px);height: 1px;margin: -1px;overflow: hidden;padding: 0;position: absolute;width: 1px;}#sk-9e327fe1-5b22-4d2e-8649-85eded24ccab div.sk-estimator {font-family: monospace;background-color: #f0f8ff;border: 1px dotted black;border-radius: 0.25em;box-sizing: border-box;margin-bottom: 0.5em;}#sk-9e327fe1-5b22-4d2e-8649-85eded24ccab div.sk-estimator:hover {background-color: #d4ebff;}#sk-9e327fe1-5b22-4d2e-8649-85eded24ccab div.sk-parallel-item::after {content: \"\";width: 100%;border-bottom: 1px solid gray;flex-grow: 1;}#sk-9e327fe1-5b22-4d2e-8649-85eded24ccab div.sk-label:hover label.sk-toggleable__label {background-color: #d4ebff;}#sk-9e327fe1-5b22-4d2e-8649-85eded24ccab div.sk-serial::before {content: \"\";position: absolute;border-left: 1px solid gray;box-sizing: border-box;top: 2em;bottom: 0;left: 50%;}#sk-9e327fe1-5b22-4d2e-8649-85eded24ccab div.sk-serial {display: flex;flex-direction: column;align-items: center;background-color: white;padding-right: 0.2em;padding-left: 0.2em;}#sk-9e327fe1-5b22-4d2e-8649-85eded24ccab div.sk-item {z-index: 1;}#sk-9e327fe1-5b22-4d2e-8649-85eded24ccab div.sk-parallel {display: flex;align-items: stretch;justify-content: center;background-color: white;}#sk-9e327fe1-5b22-4d2e-8649-85eded24ccab div.sk-parallel::before {content: \"\";position: absolute;border-left: 1px solid gray;box-sizing: border-box;top: 2em;bottom: 0;left: 50%;}#sk-9e327fe1-5b22-4d2e-8649-85eded24ccab div.sk-parallel-item {display: flex;flex-direction: column;position: relative;background-color: white;}#sk-9e327fe1-5b22-4d2e-8649-85eded24ccab div.sk-parallel-item:first-child::after {align-self: flex-end;width: 50%;}#sk-9e327fe1-5b22-4d2e-8649-85eded24ccab div.sk-parallel-item:last-child::after {align-self: flex-start;width: 50%;}#sk-9e327fe1-5b22-4d2e-8649-85eded24ccab div.sk-parallel-item:only-child::after {width: 0;}#sk-9e327fe1-5b22-4d2e-8649-85eded24ccab div.sk-dashed-wrapped {border: 1px dashed gray;margin: 0 0.4em 0.5em 0.4em;box-sizing: border-box;padding-bottom: 0.4em;background-color: white;position: relative;}#sk-9e327fe1-5b22-4d2e-8649-85eded24ccab div.sk-label label {font-family: monospace;font-weight: bold;background-color: white;display: inline-block;line-height: 1.2em;}#sk-9e327fe1-5b22-4d2e-8649-85eded24ccab div.sk-label-container {position: relative;z-index: 2;text-align: center;}#sk-9e327fe1-5b22-4d2e-8649-85eded24ccab div.sk-container {/* jupyter's `normalize.less` sets `[hidden] { display: none; }` but bootstrap.min.css set `[hidden] { display: none !important; }` so we also need the `!important` here to be able to override the default hidden behavior on the sphinx rendered scikit-learn.org. See: https://github.com/scikit-learn/scikit-learn/issues/21755 */display: inline-block !important;position: relative;}#sk-9e327fe1-5b22-4d2e-8649-85eded24ccab div.sk-text-repr-fallback {display: none;}</style><div id=\"sk-9e327fe1-5b22-4d2e-8649-85eded24ccab\" class=\"sk-top-container\"><div class=\"sk-text-repr-fallback\"><pre>Pipeline(steps=[(&#x27;impute_missing&#x27;, SimpleImputer(strategy=&#x27;median&#x27;)),\n",
       "                (&#x27;standardize_num&#x27;, StandardScaler())])</pre><b>Please rerun this cell to show the HTML repr or trust the notebook.</b></div><div class=\"sk-container\" hidden><div class=\"sk-item sk-dashed-wrapped\"><div class=\"sk-label-container\"><div class=\"sk-label sk-toggleable\"><input class=\"sk-toggleable__control sk-hidden--visually\" id=\"22fd1240-8b61-41c1-ba9e-e442c686066f\" type=\"checkbox\" ><label for=\"22fd1240-8b61-41c1-ba9e-e442c686066f\" class=\"sk-toggleable__label sk-toggleable__label-arrow\">Pipeline</label><div class=\"sk-toggleable__content\"><pre>Pipeline(steps=[(&#x27;impute_missing&#x27;, SimpleImputer(strategy=&#x27;median&#x27;)),\n",
       "                (&#x27;standardize_num&#x27;, StandardScaler())])</pre></div></div></div><div class=\"sk-serial\"><div class=\"sk-item\"><div class=\"sk-estimator sk-toggleable\"><input class=\"sk-toggleable__control sk-hidden--visually\" id=\"85b5889a-49a1-423c-8438-5372a15324e8\" type=\"checkbox\" ><label for=\"85b5889a-49a1-423c-8438-5372a15324e8\" class=\"sk-toggleable__label sk-toggleable__label-arrow\">SimpleImputer</label><div class=\"sk-toggleable__content\"><pre>SimpleImputer(strategy=&#x27;median&#x27;)</pre></div></div></div><div class=\"sk-item\"><div class=\"sk-estimator sk-toggleable\"><input class=\"sk-toggleable__control sk-hidden--visually\" id=\"aa96896d-549d-4ecc-8418-0edbe5fa092a\" type=\"checkbox\" ><label for=\"aa96896d-549d-4ecc-8418-0edbe5fa092a\" class=\"sk-toggleable__label sk-toggleable__label-arrow\">StandardScaler</label><div class=\"sk-toggleable__content\"><pre>StandardScaler()</pre></div></div></div></div></div></div></div>"
      ],
      "text/plain": [
       "Pipeline(steps=[('impute_missing', SimpleImputer(strategy='median')),\n",
       "                ('standardize_num', StandardScaler())])"
      ]
     },
     "execution_count": 6,
     "metadata": {},
     "output_type": "execute_result"
    }
   ],
   "source": [
    "numerical_pipeline"
   ]
  },
  {
   "cell_type": "markdown",
   "metadata": {},
   "source": [
    "## Question 3: Using the categorical variables, create a pipeline that replaces the missing values with the most frequent and then use one-hot encoding to convert the data to numerical arrays.\n",
    "- You should be dropping one category from each variable when using the one-hot encoder.  \n",
    "- To ensure the pipeline doesn't break when it receives new/unexpected categories, you should ignore new categories.\n",
    "- Use a fit transformer on the training dataset to validate all the columns are now numeric and to determine how many columns the transformed data contains."
   ]
  },
  {
   "cell_type": "code",
   "execution_count": 7,
   "metadata": {},
   "outputs": [
    {
     "data": {
      "text/html": [
       "<style>#sk-1297d363-b4b5-4449-a5d5-8a1e3c1a0f39 {color: black;background-color: white;}#sk-1297d363-b4b5-4449-a5d5-8a1e3c1a0f39 pre{padding: 0;}#sk-1297d363-b4b5-4449-a5d5-8a1e3c1a0f39 div.sk-toggleable {background-color: white;}#sk-1297d363-b4b5-4449-a5d5-8a1e3c1a0f39 label.sk-toggleable__label {cursor: pointer;display: block;width: 100%;margin-bottom: 0;padding: 0.3em;box-sizing: border-box;text-align: center;}#sk-1297d363-b4b5-4449-a5d5-8a1e3c1a0f39 label.sk-toggleable__label-arrow:before {content: \"▸\";float: left;margin-right: 0.25em;color: #696969;}#sk-1297d363-b4b5-4449-a5d5-8a1e3c1a0f39 label.sk-toggleable__label-arrow:hover:before {color: black;}#sk-1297d363-b4b5-4449-a5d5-8a1e3c1a0f39 div.sk-estimator:hover label.sk-toggleable__label-arrow:before {color: black;}#sk-1297d363-b4b5-4449-a5d5-8a1e3c1a0f39 div.sk-toggleable__content {max-height: 0;max-width: 0;overflow: hidden;text-align: left;background-color: #f0f8ff;}#sk-1297d363-b4b5-4449-a5d5-8a1e3c1a0f39 div.sk-toggleable__content pre {margin: 0.2em;color: black;border-radius: 0.25em;background-color: #f0f8ff;}#sk-1297d363-b4b5-4449-a5d5-8a1e3c1a0f39 input.sk-toggleable__control:checked~div.sk-toggleable__content {max-height: 200px;max-width: 100%;overflow: auto;}#sk-1297d363-b4b5-4449-a5d5-8a1e3c1a0f39 input.sk-toggleable__control:checked~label.sk-toggleable__label-arrow:before {content: \"▾\";}#sk-1297d363-b4b5-4449-a5d5-8a1e3c1a0f39 div.sk-estimator input.sk-toggleable__control:checked~label.sk-toggleable__label {background-color: #d4ebff;}#sk-1297d363-b4b5-4449-a5d5-8a1e3c1a0f39 div.sk-label input.sk-toggleable__control:checked~label.sk-toggleable__label {background-color: #d4ebff;}#sk-1297d363-b4b5-4449-a5d5-8a1e3c1a0f39 input.sk-hidden--visually {border: 0;clip: rect(1px 1px 1px 1px);clip: rect(1px, 1px, 1px, 1px);height: 1px;margin: -1px;overflow: hidden;padding: 0;position: absolute;width: 1px;}#sk-1297d363-b4b5-4449-a5d5-8a1e3c1a0f39 div.sk-estimator {font-family: monospace;background-color: #f0f8ff;border: 1px dotted black;border-radius: 0.25em;box-sizing: border-box;margin-bottom: 0.5em;}#sk-1297d363-b4b5-4449-a5d5-8a1e3c1a0f39 div.sk-estimator:hover {background-color: #d4ebff;}#sk-1297d363-b4b5-4449-a5d5-8a1e3c1a0f39 div.sk-parallel-item::after {content: \"\";width: 100%;border-bottom: 1px solid gray;flex-grow: 1;}#sk-1297d363-b4b5-4449-a5d5-8a1e3c1a0f39 div.sk-label:hover label.sk-toggleable__label {background-color: #d4ebff;}#sk-1297d363-b4b5-4449-a5d5-8a1e3c1a0f39 div.sk-serial::before {content: \"\";position: absolute;border-left: 1px solid gray;box-sizing: border-box;top: 2em;bottom: 0;left: 50%;}#sk-1297d363-b4b5-4449-a5d5-8a1e3c1a0f39 div.sk-serial {display: flex;flex-direction: column;align-items: center;background-color: white;padding-right: 0.2em;padding-left: 0.2em;}#sk-1297d363-b4b5-4449-a5d5-8a1e3c1a0f39 div.sk-item {z-index: 1;}#sk-1297d363-b4b5-4449-a5d5-8a1e3c1a0f39 div.sk-parallel {display: flex;align-items: stretch;justify-content: center;background-color: white;}#sk-1297d363-b4b5-4449-a5d5-8a1e3c1a0f39 div.sk-parallel::before {content: \"\";position: absolute;border-left: 1px solid gray;box-sizing: border-box;top: 2em;bottom: 0;left: 50%;}#sk-1297d363-b4b5-4449-a5d5-8a1e3c1a0f39 div.sk-parallel-item {display: flex;flex-direction: column;position: relative;background-color: white;}#sk-1297d363-b4b5-4449-a5d5-8a1e3c1a0f39 div.sk-parallel-item:first-child::after {align-self: flex-end;width: 50%;}#sk-1297d363-b4b5-4449-a5d5-8a1e3c1a0f39 div.sk-parallel-item:last-child::after {align-self: flex-start;width: 50%;}#sk-1297d363-b4b5-4449-a5d5-8a1e3c1a0f39 div.sk-parallel-item:only-child::after {width: 0;}#sk-1297d363-b4b5-4449-a5d5-8a1e3c1a0f39 div.sk-dashed-wrapped {border: 1px dashed gray;margin: 0 0.4em 0.5em 0.4em;box-sizing: border-box;padding-bottom: 0.4em;background-color: white;position: relative;}#sk-1297d363-b4b5-4449-a5d5-8a1e3c1a0f39 div.sk-label label {font-family: monospace;font-weight: bold;background-color: white;display: inline-block;line-height: 1.2em;}#sk-1297d363-b4b5-4449-a5d5-8a1e3c1a0f39 div.sk-label-container {position: relative;z-index: 2;text-align: center;}#sk-1297d363-b4b5-4449-a5d5-8a1e3c1a0f39 div.sk-container {/* jupyter's `normalize.less` sets `[hidden] { display: none; }` but bootstrap.min.css set `[hidden] { display: none !important; }` so we also need the `!important` here to be able to override the default hidden behavior on the sphinx rendered scikit-learn.org. See: https://github.com/scikit-learn/scikit-learn/issues/21755 */display: inline-block !important;position: relative;}#sk-1297d363-b4b5-4449-a5d5-8a1e3c1a0f39 div.sk-text-repr-fallback {display: none;}</style><div id=\"sk-1297d363-b4b5-4449-a5d5-8a1e3c1a0f39\" class=\"sk-top-container\"><div class=\"sk-text-repr-fallback\"><pre>Pipeline(steps=[(&#x27;impute_missing_cats&#x27;,\n",
       "                 SimpleImputer(strategy=&#x27;most_frequent&#x27;)),\n",
       "                (&#x27;create_dummies_cats&#x27;,\n",
       "                 OneHotEncoder(drop=&#x27;first&#x27;, handle_unknown=&#x27;ignore&#x27;))])</pre><b>Please rerun this cell to show the HTML repr or trust the notebook.</b></div><div class=\"sk-container\" hidden><div class=\"sk-item sk-dashed-wrapped\"><div class=\"sk-label-container\"><div class=\"sk-label sk-toggleable\"><input class=\"sk-toggleable__control sk-hidden--visually\" id=\"e2202a37-8c23-4ff9-8907-efa3375138e1\" type=\"checkbox\" ><label for=\"e2202a37-8c23-4ff9-8907-efa3375138e1\" class=\"sk-toggleable__label sk-toggleable__label-arrow\">Pipeline</label><div class=\"sk-toggleable__content\"><pre>Pipeline(steps=[(&#x27;impute_missing_cats&#x27;,\n",
       "                 SimpleImputer(strategy=&#x27;most_frequent&#x27;)),\n",
       "                (&#x27;create_dummies_cats&#x27;,\n",
       "                 OneHotEncoder(drop=&#x27;first&#x27;, handle_unknown=&#x27;ignore&#x27;))])</pre></div></div></div><div class=\"sk-serial\"><div class=\"sk-item\"><div class=\"sk-estimator sk-toggleable\"><input class=\"sk-toggleable__control sk-hidden--visually\" id=\"43023c7f-34f5-4f56-93fe-93281c85ef43\" type=\"checkbox\" ><label for=\"43023c7f-34f5-4f56-93fe-93281c85ef43\" class=\"sk-toggleable__label sk-toggleable__label-arrow\">SimpleImputer</label><div class=\"sk-toggleable__content\"><pre>SimpleImputer(strategy=&#x27;most_frequent&#x27;)</pre></div></div></div><div class=\"sk-item\"><div class=\"sk-estimator sk-toggleable\"><input class=\"sk-toggleable__control sk-hidden--visually\" id=\"e54a4fe1-387c-48ea-b2a0-72b326069851\" type=\"checkbox\" ><label for=\"e54a4fe1-387c-48ea-b2a0-72b326069851\" class=\"sk-toggleable__label sk-toggleable__label-arrow\">OneHotEncoder</label><div class=\"sk-toggleable__content\"><pre>OneHotEncoder(drop=&#x27;first&#x27;, handle_unknown=&#x27;ignore&#x27;)</pre></div></div></div></div></div></div></div>"
      ],
      "text/plain": [
       "Pipeline(steps=[('impute_missing_cats',\n",
       "                 SimpleImputer(strategy='most_frequent')),\n",
       "                ('create_dummies_cats',\n",
       "                 OneHotEncoder(drop='first', handle_unknown='ignore'))])"
      ]
     },
     "execution_count": 7,
     "metadata": {},
     "output_type": "execute_result"
    }
   ],
   "source": [
    "from sklearn.preprocessing import OneHotEncoder\n",
    "categorical_pipeline = Pipeline([('impute_missing_cats', SimpleImputer(strategy='most_frequent')),\n",
    "                          ('create_dummies_cats', OneHotEncoder(handle_unknown='ignore', drop='first'))])\n",
    "set_config(display='diagram')\n",
    "categorical_pipeline"
   ]
  },
  {
   "cell_type": "code",
   "execution_count": 8,
   "metadata": {},
   "outputs": [],
   "source": [
    "X_train_transformed = categorical_pipeline.fit_transform(X_train[['make','transmission','state']])"
   ]
  },
  {
   "cell_type": "code",
   "execution_count": 9,
   "metadata": {},
   "outputs": [
    {
     "data": {
      "text/plain": [
       "41"
      ]
     },
     "execution_count": 9,
     "metadata": {},
     "output_type": "execute_result"
    }
   ],
   "source": [
    "# Validating if the all the columns are numeric\n",
    "assert np.all(np.isfinite(X_train_transformed.todense()))\n",
    "\n",
    "# Determined the number of columns in the transformed data\n",
    "num_cols_transformed = X_train_transformed.shape[1]\n",
    "num_cols_transformed"
   ]
  },
  {
   "cell_type": "markdown",
   "metadata": {},
   "source": [
    "## Question 4: Combine the numerical and categorical pipelines into one data processing pipeline.\n",
    "- Use a fit transformers and the training dataset to verify the data has no missing values and the correct number of columns."
   ]
  },
  {
   "cell_type": "code",
   "execution_count": 10,
   "metadata": {},
   "outputs": [
    {
     "data": {
      "text/html": [
       "<style>#sk-0e290987-5c52-4e73-bf02-46a3f7fdea28 {color: black;background-color: white;}#sk-0e290987-5c52-4e73-bf02-46a3f7fdea28 pre{padding: 0;}#sk-0e290987-5c52-4e73-bf02-46a3f7fdea28 div.sk-toggleable {background-color: white;}#sk-0e290987-5c52-4e73-bf02-46a3f7fdea28 label.sk-toggleable__label {cursor: pointer;display: block;width: 100%;margin-bottom: 0;padding: 0.3em;box-sizing: border-box;text-align: center;}#sk-0e290987-5c52-4e73-bf02-46a3f7fdea28 label.sk-toggleable__label-arrow:before {content: \"▸\";float: left;margin-right: 0.25em;color: #696969;}#sk-0e290987-5c52-4e73-bf02-46a3f7fdea28 label.sk-toggleable__label-arrow:hover:before {color: black;}#sk-0e290987-5c52-4e73-bf02-46a3f7fdea28 div.sk-estimator:hover label.sk-toggleable__label-arrow:before {color: black;}#sk-0e290987-5c52-4e73-bf02-46a3f7fdea28 div.sk-toggleable__content {max-height: 0;max-width: 0;overflow: hidden;text-align: left;background-color: #f0f8ff;}#sk-0e290987-5c52-4e73-bf02-46a3f7fdea28 div.sk-toggleable__content pre {margin: 0.2em;color: black;border-radius: 0.25em;background-color: #f0f8ff;}#sk-0e290987-5c52-4e73-bf02-46a3f7fdea28 input.sk-toggleable__control:checked~div.sk-toggleable__content {max-height: 200px;max-width: 100%;overflow: auto;}#sk-0e290987-5c52-4e73-bf02-46a3f7fdea28 input.sk-toggleable__control:checked~label.sk-toggleable__label-arrow:before {content: \"▾\";}#sk-0e290987-5c52-4e73-bf02-46a3f7fdea28 div.sk-estimator input.sk-toggleable__control:checked~label.sk-toggleable__label {background-color: #d4ebff;}#sk-0e290987-5c52-4e73-bf02-46a3f7fdea28 div.sk-label input.sk-toggleable__control:checked~label.sk-toggleable__label {background-color: #d4ebff;}#sk-0e290987-5c52-4e73-bf02-46a3f7fdea28 input.sk-hidden--visually {border: 0;clip: rect(1px 1px 1px 1px);clip: rect(1px, 1px, 1px, 1px);height: 1px;margin: -1px;overflow: hidden;padding: 0;position: absolute;width: 1px;}#sk-0e290987-5c52-4e73-bf02-46a3f7fdea28 div.sk-estimator {font-family: monospace;background-color: #f0f8ff;border: 1px dotted black;border-radius: 0.25em;box-sizing: border-box;margin-bottom: 0.5em;}#sk-0e290987-5c52-4e73-bf02-46a3f7fdea28 div.sk-estimator:hover {background-color: #d4ebff;}#sk-0e290987-5c52-4e73-bf02-46a3f7fdea28 div.sk-parallel-item::after {content: \"\";width: 100%;border-bottom: 1px solid gray;flex-grow: 1;}#sk-0e290987-5c52-4e73-bf02-46a3f7fdea28 div.sk-label:hover label.sk-toggleable__label {background-color: #d4ebff;}#sk-0e290987-5c52-4e73-bf02-46a3f7fdea28 div.sk-serial::before {content: \"\";position: absolute;border-left: 1px solid gray;box-sizing: border-box;top: 2em;bottom: 0;left: 50%;}#sk-0e290987-5c52-4e73-bf02-46a3f7fdea28 div.sk-serial {display: flex;flex-direction: column;align-items: center;background-color: white;padding-right: 0.2em;padding-left: 0.2em;}#sk-0e290987-5c52-4e73-bf02-46a3f7fdea28 div.sk-item {z-index: 1;}#sk-0e290987-5c52-4e73-bf02-46a3f7fdea28 div.sk-parallel {display: flex;align-items: stretch;justify-content: center;background-color: white;}#sk-0e290987-5c52-4e73-bf02-46a3f7fdea28 div.sk-parallel::before {content: \"\";position: absolute;border-left: 1px solid gray;box-sizing: border-box;top: 2em;bottom: 0;left: 50%;}#sk-0e290987-5c52-4e73-bf02-46a3f7fdea28 div.sk-parallel-item {display: flex;flex-direction: column;position: relative;background-color: white;}#sk-0e290987-5c52-4e73-bf02-46a3f7fdea28 div.sk-parallel-item:first-child::after {align-self: flex-end;width: 50%;}#sk-0e290987-5c52-4e73-bf02-46a3f7fdea28 div.sk-parallel-item:last-child::after {align-self: flex-start;width: 50%;}#sk-0e290987-5c52-4e73-bf02-46a3f7fdea28 div.sk-parallel-item:only-child::after {width: 0;}#sk-0e290987-5c52-4e73-bf02-46a3f7fdea28 div.sk-dashed-wrapped {border: 1px dashed gray;margin: 0 0.4em 0.5em 0.4em;box-sizing: border-box;padding-bottom: 0.4em;background-color: white;position: relative;}#sk-0e290987-5c52-4e73-bf02-46a3f7fdea28 div.sk-label label {font-family: monospace;font-weight: bold;background-color: white;display: inline-block;line-height: 1.2em;}#sk-0e290987-5c52-4e73-bf02-46a3f7fdea28 div.sk-label-container {position: relative;z-index: 2;text-align: center;}#sk-0e290987-5c52-4e73-bf02-46a3f7fdea28 div.sk-container {/* jupyter's `normalize.less` sets `[hidden] { display: none; }` but bootstrap.min.css set `[hidden] { display: none !important; }` so we also need the `!important` here to be able to override the default hidden behavior on the sphinx rendered scikit-learn.org. See: https://github.com/scikit-learn/scikit-learn/issues/21755 */display: inline-block !important;position: relative;}#sk-0e290987-5c52-4e73-bf02-46a3f7fdea28 div.sk-text-repr-fallback {display: none;}</style><div id=\"sk-0e290987-5c52-4e73-bf02-46a3f7fdea28\" class=\"sk-top-container\"><div class=\"sk-text-repr-fallback\"><pre>ColumnTransformer(transformers=[(&#x27;proc_numeric&#x27;,\n",
       "                                 Pipeline(steps=[(&#x27;impute_missing&#x27;,\n",
       "                                                  SimpleImputer(strategy=&#x27;median&#x27;)),\n",
       "                                                 (&#x27;standardize_num&#x27;,\n",
       "                                                  StandardScaler())]),\n",
       "                                 [&#x27;condition&#x27;, &#x27;odometer&#x27;, &#x27;auction_value&#x27;]),\n",
       "                                (&#x27;create_dummies&#x27;,\n",
       "                                 Pipeline(steps=[(&#x27;impute_missing_cats&#x27;,\n",
       "                                                  SimpleImputer(strategy=&#x27;most_frequent&#x27;)),\n",
       "                                                 (&#x27;create_dummies_cats&#x27;,\n",
       "                                                  OneHotEncoder(drop=&#x27;first&#x27;,\n",
       "                                                                handle_unknown=&#x27;ignore&#x27;))]),\n",
       "                                 [&#x27;make&#x27;, &#x27;transmission&#x27;, &#x27;state&#x27;])])</pre><b>Please rerun this cell to show the HTML repr or trust the notebook.</b></div><div class=\"sk-container\" hidden><div class=\"sk-item sk-dashed-wrapped\"><div class=\"sk-label-container\"><div class=\"sk-label sk-toggleable\"><input class=\"sk-toggleable__control sk-hidden--visually\" id=\"cdd262b7-7ec0-495c-bb58-d719b5e54568\" type=\"checkbox\" ><label for=\"cdd262b7-7ec0-495c-bb58-d719b5e54568\" class=\"sk-toggleable__label sk-toggleable__label-arrow\">ColumnTransformer</label><div class=\"sk-toggleable__content\"><pre>ColumnTransformer(transformers=[(&#x27;proc_numeric&#x27;,\n",
       "                                 Pipeline(steps=[(&#x27;impute_missing&#x27;,\n",
       "                                                  SimpleImputer(strategy=&#x27;median&#x27;)),\n",
       "                                                 (&#x27;standardize_num&#x27;,\n",
       "                                                  StandardScaler())]),\n",
       "                                 [&#x27;condition&#x27;, &#x27;odometer&#x27;, &#x27;auction_value&#x27;]),\n",
       "                                (&#x27;create_dummies&#x27;,\n",
       "                                 Pipeline(steps=[(&#x27;impute_missing_cats&#x27;,\n",
       "                                                  SimpleImputer(strategy=&#x27;most_frequent&#x27;)),\n",
       "                                                 (&#x27;create_dummies_cats&#x27;,\n",
       "                                                  OneHotEncoder(drop=&#x27;first&#x27;,\n",
       "                                                                handle_unknown=&#x27;ignore&#x27;))]),\n",
       "                                 [&#x27;make&#x27;, &#x27;transmission&#x27;, &#x27;state&#x27;])])</pre></div></div></div><div class=\"sk-parallel\"><div class=\"sk-parallel-item\"><div class=\"sk-item\"><div class=\"sk-label-container\"><div class=\"sk-label sk-toggleable\"><input class=\"sk-toggleable__control sk-hidden--visually\" id=\"443e9492-fabf-46fd-927f-62fe8cdf42fa\" type=\"checkbox\" ><label for=\"443e9492-fabf-46fd-927f-62fe8cdf42fa\" class=\"sk-toggleable__label sk-toggleable__label-arrow\">proc_numeric</label><div class=\"sk-toggleable__content\"><pre>[&#x27;condition&#x27;, &#x27;odometer&#x27;, &#x27;auction_value&#x27;]</pre></div></div></div><div class=\"sk-serial\"><div class=\"sk-item\"><div class=\"sk-serial\"><div class=\"sk-item\"><div class=\"sk-estimator sk-toggleable\"><input class=\"sk-toggleable__control sk-hidden--visually\" id=\"dc25217f-3f17-4a3a-a6d1-a67399c4b894\" type=\"checkbox\" ><label for=\"dc25217f-3f17-4a3a-a6d1-a67399c4b894\" class=\"sk-toggleable__label sk-toggleable__label-arrow\">SimpleImputer</label><div class=\"sk-toggleable__content\"><pre>SimpleImputer(strategy=&#x27;median&#x27;)</pre></div></div></div><div class=\"sk-item\"><div class=\"sk-estimator sk-toggleable\"><input class=\"sk-toggleable__control sk-hidden--visually\" id=\"55f9c9d5-2532-4045-adb4-f69e5c466427\" type=\"checkbox\" ><label for=\"55f9c9d5-2532-4045-adb4-f69e5c466427\" class=\"sk-toggleable__label sk-toggleable__label-arrow\">StandardScaler</label><div class=\"sk-toggleable__content\"><pre>StandardScaler()</pre></div></div></div></div></div></div></div></div><div class=\"sk-parallel-item\"><div class=\"sk-item\"><div class=\"sk-label-container\"><div class=\"sk-label sk-toggleable\"><input class=\"sk-toggleable__control sk-hidden--visually\" id=\"96cc2a05-22b5-4bdc-8fca-e889a884cf85\" type=\"checkbox\" ><label for=\"96cc2a05-22b5-4bdc-8fca-e889a884cf85\" class=\"sk-toggleable__label sk-toggleable__label-arrow\">create_dummies</label><div class=\"sk-toggleable__content\"><pre>[&#x27;make&#x27;, &#x27;transmission&#x27;, &#x27;state&#x27;]</pre></div></div></div><div class=\"sk-serial\"><div class=\"sk-item\"><div class=\"sk-serial\"><div class=\"sk-item\"><div class=\"sk-estimator sk-toggleable\"><input class=\"sk-toggleable__control sk-hidden--visually\" id=\"eda22d3c-748a-4801-a8a7-4752b55ca614\" type=\"checkbox\" ><label for=\"eda22d3c-748a-4801-a8a7-4752b55ca614\" class=\"sk-toggleable__label sk-toggleable__label-arrow\">SimpleImputer</label><div class=\"sk-toggleable__content\"><pre>SimpleImputer(strategy=&#x27;most_frequent&#x27;)</pre></div></div></div><div class=\"sk-item\"><div class=\"sk-estimator sk-toggleable\"><input class=\"sk-toggleable__control sk-hidden--visually\" id=\"aa2646ac-2e7d-4e13-bc1e-77ffb2c3116e\" type=\"checkbox\" ><label for=\"aa2646ac-2e7d-4e13-bc1e-77ffb2c3116e\" class=\"sk-toggleable__label sk-toggleable__label-arrow\">OneHotEncoder</label><div class=\"sk-toggleable__content\"><pre>OneHotEncoder(drop=&#x27;first&#x27;, handle_unknown=&#x27;ignore&#x27;)</pre></div></div></div></div></div></div></div></div></div></div></div></div>"
      ],
      "text/plain": [
       "ColumnTransformer(transformers=[('proc_numeric',\n",
       "                                 Pipeline(steps=[('impute_missing',\n",
       "                                                  SimpleImputer(strategy='median')),\n",
       "                                                 ('standardize_num',\n",
       "                                                  StandardScaler())]),\n",
       "                                 ['condition', 'odometer', 'auction_value']),\n",
       "                                ('create_dummies',\n",
       "                                 Pipeline(steps=[('impute_missing_cats',\n",
       "                                                  SimpleImputer(strategy='most_frequent')),\n",
       "                                                 ('create_dummies_cats',\n",
       "                                                  OneHotEncoder(drop='first',\n",
       "                                                                handle_unknown='ignore'))]),\n",
       "                                 ['make', 'transmission', 'state'])])"
      ]
     },
     "execution_count": 10,
     "metadata": {},
     "output_type": "execute_result"
    }
   ],
   "source": [
    "from sklearn.compose import ColumnTransformer\n",
    "processing_pipeline = ColumnTransformer(transformers=[('proc_numeric', numerical_pipeline, numerical_features),\n",
    "                                                      ('create_dummies', categorical_pipeline, categorical_features)])\n",
    "\n",
    "processing_pipeline"
   ]
  },
  {
   "cell_type": "code",
   "execution_count": 11,
   "metadata": {},
   "outputs": [],
   "source": [
    "processing_pipeline.fit(X_train)\n",
    "transformed_X_train = processing_pipeline.transform(X_train)\n",
    "\n",
    "# To validate if the data contains missing values\n",
    "assert np.isnan(transformed_X_train.todense()).sum() == 0, \"Data contains missing values after transformation\"\n",
    "\n",
    "# To validate number of columns\n",
    "assert transformed_X_train.shape[1] == len(numerical_features) + categorical_pipeline.named_steps['create_dummies_cats'].get_feature_names_out().shape[0], \"Data has incorrect number of columns after transformation\""
   ]
  },
  {
   "cell_type": "markdown",
   "metadata": {},
   "source": [
    "## Question 5: Add a linear regression model to the pipeline.\n",
    "- Report what the $R^2$ is using the `test` data.  "
   ]
  },
  {
   "cell_type": "code",
   "execution_count": 12,
   "metadata": {},
   "outputs": [
    {
     "data": {
      "text/html": [
       "<style>#sk-fc8dd19e-ad80-4b58-bde3-2e649d490474 {color: black;background-color: white;}#sk-fc8dd19e-ad80-4b58-bde3-2e649d490474 pre{padding: 0;}#sk-fc8dd19e-ad80-4b58-bde3-2e649d490474 div.sk-toggleable {background-color: white;}#sk-fc8dd19e-ad80-4b58-bde3-2e649d490474 label.sk-toggleable__label {cursor: pointer;display: block;width: 100%;margin-bottom: 0;padding: 0.3em;box-sizing: border-box;text-align: center;}#sk-fc8dd19e-ad80-4b58-bde3-2e649d490474 label.sk-toggleable__label-arrow:before {content: \"▸\";float: left;margin-right: 0.25em;color: #696969;}#sk-fc8dd19e-ad80-4b58-bde3-2e649d490474 label.sk-toggleable__label-arrow:hover:before {color: black;}#sk-fc8dd19e-ad80-4b58-bde3-2e649d490474 div.sk-estimator:hover label.sk-toggleable__label-arrow:before {color: black;}#sk-fc8dd19e-ad80-4b58-bde3-2e649d490474 div.sk-toggleable__content {max-height: 0;max-width: 0;overflow: hidden;text-align: left;background-color: #f0f8ff;}#sk-fc8dd19e-ad80-4b58-bde3-2e649d490474 div.sk-toggleable__content pre {margin: 0.2em;color: black;border-radius: 0.25em;background-color: #f0f8ff;}#sk-fc8dd19e-ad80-4b58-bde3-2e649d490474 input.sk-toggleable__control:checked~div.sk-toggleable__content {max-height: 200px;max-width: 100%;overflow: auto;}#sk-fc8dd19e-ad80-4b58-bde3-2e649d490474 input.sk-toggleable__control:checked~label.sk-toggleable__label-arrow:before {content: \"▾\";}#sk-fc8dd19e-ad80-4b58-bde3-2e649d490474 div.sk-estimator input.sk-toggleable__control:checked~label.sk-toggleable__label {background-color: #d4ebff;}#sk-fc8dd19e-ad80-4b58-bde3-2e649d490474 div.sk-label input.sk-toggleable__control:checked~label.sk-toggleable__label {background-color: #d4ebff;}#sk-fc8dd19e-ad80-4b58-bde3-2e649d490474 input.sk-hidden--visually {border: 0;clip: rect(1px 1px 1px 1px);clip: rect(1px, 1px, 1px, 1px);height: 1px;margin: -1px;overflow: hidden;padding: 0;position: absolute;width: 1px;}#sk-fc8dd19e-ad80-4b58-bde3-2e649d490474 div.sk-estimator {font-family: monospace;background-color: #f0f8ff;border: 1px dotted black;border-radius: 0.25em;box-sizing: border-box;margin-bottom: 0.5em;}#sk-fc8dd19e-ad80-4b58-bde3-2e649d490474 div.sk-estimator:hover {background-color: #d4ebff;}#sk-fc8dd19e-ad80-4b58-bde3-2e649d490474 div.sk-parallel-item::after {content: \"\";width: 100%;border-bottom: 1px solid gray;flex-grow: 1;}#sk-fc8dd19e-ad80-4b58-bde3-2e649d490474 div.sk-label:hover label.sk-toggleable__label {background-color: #d4ebff;}#sk-fc8dd19e-ad80-4b58-bde3-2e649d490474 div.sk-serial::before {content: \"\";position: absolute;border-left: 1px solid gray;box-sizing: border-box;top: 2em;bottom: 0;left: 50%;}#sk-fc8dd19e-ad80-4b58-bde3-2e649d490474 div.sk-serial {display: flex;flex-direction: column;align-items: center;background-color: white;padding-right: 0.2em;padding-left: 0.2em;}#sk-fc8dd19e-ad80-4b58-bde3-2e649d490474 div.sk-item {z-index: 1;}#sk-fc8dd19e-ad80-4b58-bde3-2e649d490474 div.sk-parallel {display: flex;align-items: stretch;justify-content: center;background-color: white;}#sk-fc8dd19e-ad80-4b58-bde3-2e649d490474 div.sk-parallel::before {content: \"\";position: absolute;border-left: 1px solid gray;box-sizing: border-box;top: 2em;bottom: 0;left: 50%;}#sk-fc8dd19e-ad80-4b58-bde3-2e649d490474 div.sk-parallel-item {display: flex;flex-direction: column;position: relative;background-color: white;}#sk-fc8dd19e-ad80-4b58-bde3-2e649d490474 div.sk-parallel-item:first-child::after {align-self: flex-end;width: 50%;}#sk-fc8dd19e-ad80-4b58-bde3-2e649d490474 div.sk-parallel-item:last-child::after {align-self: flex-start;width: 50%;}#sk-fc8dd19e-ad80-4b58-bde3-2e649d490474 div.sk-parallel-item:only-child::after {width: 0;}#sk-fc8dd19e-ad80-4b58-bde3-2e649d490474 div.sk-dashed-wrapped {border: 1px dashed gray;margin: 0 0.4em 0.5em 0.4em;box-sizing: border-box;padding-bottom: 0.4em;background-color: white;position: relative;}#sk-fc8dd19e-ad80-4b58-bde3-2e649d490474 div.sk-label label {font-family: monospace;font-weight: bold;background-color: white;display: inline-block;line-height: 1.2em;}#sk-fc8dd19e-ad80-4b58-bde3-2e649d490474 div.sk-label-container {position: relative;z-index: 2;text-align: center;}#sk-fc8dd19e-ad80-4b58-bde3-2e649d490474 div.sk-container {/* jupyter's `normalize.less` sets `[hidden] { display: none; }` but bootstrap.min.css set `[hidden] { display: none !important; }` so we also need the `!important` here to be able to override the default hidden behavior on the sphinx rendered scikit-learn.org. See: https://github.com/scikit-learn/scikit-learn/issues/21755 */display: inline-block !important;position: relative;}#sk-fc8dd19e-ad80-4b58-bde3-2e649d490474 div.sk-text-repr-fallback {display: none;}</style><div id=\"sk-fc8dd19e-ad80-4b58-bde3-2e649d490474\" class=\"sk-top-container\"><div class=\"sk-text-repr-fallback\"><pre>Pipeline(steps=[(&#x27;data_processing&#x27;,\n",
       "                 ColumnTransformer(transformers=[(&#x27;proc_numeric&#x27;,\n",
       "                                                  Pipeline(steps=[(&#x27;impute_missing&#x27;,\n",
       "                                                                   SimpleImputer(strategy=&#x27;median&#x27;)),\n",
       "                                                                  (&#x27;standardize_num&#x27;,\n",
       "                                                                   StandardScaler())]),\n",
       "                                                  [&#x27;condition&#x27;, &#x27;odometer&#x27;,\n",
       "                                                   &#x27;auction_value&#x27;]),\n",
       "                                                 (&#x27;create_dummies&#x27;,\n",
       "                                                  Pipeline(steps=[(&#x27;impute_missing_cats&#x27;,\n",
       "                                                                   SimpleImputer(strategy=&#x27;most_frequent&#x27;)),\n",
       "                                                                  (&#x27;create_dummies_cats&#x27;,\n",
       "                                                                   OneHotEncoder(drop=&#x27;first&#x27;,\n",
       "                                                                                 handle_unknown=&#x27;ignore&#x27;))]),\n",
       "                                                  [&#x27;make&#x27;, &#x27;transmission&#x27;,\n",
       "                                                   &#x27;state&#x27;])])),\n",
       "                (&#x27;lm&#x27;, LinearRegression())])</pre><b>Please rerun this cell to show the HTML repr or trust the notebook.</b></div><div class=\"sk-container\" hidden><div class=\"sk-item sk-dashed-wrapped\"><div class=\"sk-label-container\"><div class=\"sk-label sk-toggleable\"><input class=\"sk-toggleable__control sk-hidden--visually\" id=\"38218469-9994-42dd-874a-55ac727d5ce4\" type=\"checkbox\" ><label for=\"38218469-9994-42dd-874a-55ac727d5ce4\" class=\"sk-toggleable__label sk-toggleable__label-arrow\">Pipeline</label><div class=\"sk-toggleable__content\"><pre>Pipeline(steps=[(&#x27;data_processing&#x27;,\n",
       "                 ColumnTransformer(transformers=[(&#x27;proc_numeric&#x27;,\n",
       "                                                  Pipeline(steps=[(&#x27;impute_missing&#x27;,\n",
       "                                                                   SimpleImputer(strategy=&#x27;median&#x27;)),\n",
       "                                                                  (&#x27;standardize_num&#x27;,\n",
       "                                                                   StandardScaler())]),\n",
       "                                                  [&#x27;condition&#x27;, &#x27;odometer&#x27;,\n",
       "                                                   &#x27;auction_value&#x27;]),\n",
       "                                                 (&#x27;create_dummies&#x27;,\n",
       "                                                  Pipeline(steps=[(&#x27;impute_missing_cats&#x27;,\n",
       "                                                                   SimpleImputer(strategy=&#x27;most_frequent&#x27;)),\n",
       "                                                                  (&#x27;create_dummies_cats&#x27;,\n",
       "                                                                   OneHotEncoder(drop=&#x27;first&#x27;,\n",
       "                                                                                 handle_unknown=&#x27;ignore&#x27;))]),\n",
       "                                                  [&#x27;make&#x27;, &#x27;transmission&#x27;,\n",
       "                                                   &#x27;state&#x27;])])),\n",
       "                (&#x27;lm&#x27;, LinearRegression())])</pre></div></div></div><div class=\"sk-serial\"><div class=\"sk-item sk-dashed-wrapped\"><div class=\"sk-label-container\"><div class=\"sk-label sk-toggleable\"><input class=\"sk-toggleable__control sk-hidden--visually\" id=\"01cab216-056c-48e7-a9a8-49038f8be25f\" type=\"checkbox\" ><label for=\"01cab216-056c-48e7-a9a8-49038f8be25f\" class=\"sk-toggleable__label sk-toggleable__label-arrow\">data_processing: ColumnTransformer</label><div class=\"sk-toggleable__content\"><pre>ColumnTransformer(transformers=[(&#x27;proc_numeric&#x27;,\n",
       "                                 Pipeline(steps=[(&#x27;impute_missing&#x27;,\n",
       "                                                  SimpleImputer(strategy=&#x27;median&#x27;)),\n",
       "                                                 (&#x27;standardize_num&#x27;,\n",
       "                                                  StandardScaler())]),\n",
       "                                 [&#x27;condition&#x27;, &#x27;odometer&#x27;, &#x27;auction_value&#x27;]),\n",
       "                                (&#x27;create_dummies&#x27;,\n",
       "                                 Pipeline(steps=[(&#x27;impute_missing_cats&#x27;,\n",
       "                                                  SimpleImputer(strategy=&#x27;most_frequent&#x27;)),\n",
       "                                                 (&#x27;create_dummies_cats&#x27;,\n",
       "                                                  OneHotEncoder(drop=&#x27;first&#x27;,\n",
       "                                                                handle_unknown=&#x27;ignore&#x27;))]),\n",
       "                                 [&#x27;make&#x27;, &#x27;transmission&#x27;, &#x27;state&#x27;])])</pre></div></div></div><div class=\"sk-parallel\"><div class=\"sk-parallel-item\"><div class=\"sk-item\"><div class=\"sk-label-container\"><div class=\"sk-label sk-toggleable\"><input class=\"sk-toggleable__control sk-hidden--visually\" id=\"ccd61d56-b36b-4691-934e-59d02b2c0c7b\" type=\"checkbox\" ><label for=\"ccd61d56-b36b-4691-934e-59d02b2c0c7b\" class=\"sk-toggleable__label sk-toggleable__label-arrow\">proc_numeric</label><div class=\"sk-toggleable__content\"><pre>[&#x27;condition&#x27;, &#x27;odometer&#x27;, &#x27;auction_value&#x27;]</pre></div></div></div><div class=\"sk-serial\"><div class=\"sk-item\"><div class=\"sk-serial\"><div class=\"sk-item\"><div class=\"sk-estimator sk-toggleable\"><input class=\"sk-toggleable__control sk-hidden--visually\" id=\"0ef29a49-105d-4d70-b811-928e08993289\" type=\"checkbox\" ><label for=\"0ef29a49-105d-4d70-b811-928e08993289\" class=\"sk-toggleable__label sk-toggleable__label-arrow\">SimpleImputer</label><div class=\"sk-toggleable__content\"><pre>SimpleImputer(strategy=&#x27;median&#x27;)</pre></div></div></div><div class=\"sk-item\"><div class=\"sk-estimator sk-toggleable\"><input class=\"sk-toggleable__control sk-hidden--visually\" id=\"5a46ca02-77b3-4e9e-9a47-aac4f57273fc\" type=\"checkbox\" ><label for=\"5a46ca02-77b3-4e9e-9a47-aac4f57273fc\" class=\"sk-toggleable__label sk-toggleable__label-arrow\">StandardScaler</label><div class=\"sk-toggleable__content\"><pre>StandardScaler()</pre></div></div></div></div></div></div></div></div><div class=\"sk-parallel-item\"><div class=\"sk-item\"><div class=\"sk-label-container\"><div class=\"sk-label sk-toggleable\"><input class=\"sk-toggleable__control sk-hidden--visually\" id=\"271249b6-c7a7-46ca-9177-3abb5fe44fde\" type=\"checkbox\" ><label for=\"271249b6-c7a7-46ca-9177-3abb5fe44fde\" class=\"sk-toggleable__label sk-toggleable__label-arrow\">create_dummies</label><div class=\"sk-toggleable__content\"><pre>[&#x27;make&#x27;, &#x27;transmission&#x27;, &#x27;state&#x27;]</pre></div></div></div><div class=\"sk-serial\"><div class=\"sk-item\"><div class=\"sk-serial\"><div class=\"sk-item\"><div class=\"sk-estimator sk-toggleable\"><input class=\"sk-toggleable__control sk-hidden--visually\" id=\"f908087b-7fdd-4ea4-b96a-6997caef32d8\" type=\"checkbox\" ><label for=\"f908087b-7fdd-4ea4-b96a-6997caef32d8\" class=\"sk-toggleable__label sk-toggleable__label-arrow\">SimpleImputer</label><div class=\"sk-toggleable__content\"><pre>SimpleImputer(strategy=&#x27;most_frequent&#x27;)</pre></div></div></div><div class=\"sk-item\"><div class=\"sk-estimator sk-toggleable\"><input class=\"sk-toggleable__control sk-hidden--visually\" id=\"cd278130-d95a-487f-ae2e-f47eb2bb4ff1\" type=\"checkbox\" ><label for=\"cd278130-d95a-487f-ae2e-f47eb2bb4ff1\" class=\"sk-toggleable__label sk-toggleable__label-arrow\">OneHotEncoder</label><div class=\"sk-toggleable__content\"><pre>OneHotEncoder(drop=&#x27;first&#x27;, handle_unknown=&#x27;ignore&#x27;)</pre></div></div></div></div></div></div></div></div></div></div><div class=\"sk-item\"><div class=\"sk-estimator sk-toggleable\"><input class=\"sk-toggleable__control sk-hidden--visually\" id=\"a0a123b5-086c-4da0-8315-a6350b493eeb\" type=\"checkbox\" ><label for=\"a0a123b5-086c-4da0-8315-a6350b493eeb\" class=\"sk-toggleable__label sk-toggleable__label-arrow\">LinearRegression</label><div class=\"sk-toggleable__content\"><pre>LinearRegression()</pre></div></div></div></div></div></div></div>"
      ],
      "text/plain": [
       "Pipeline(steps=[('data_processing',\n",
       "                 ColumnTransformer(transformers=[('proc_numeric',\n",
       "                                                  Pipeline(steps=[('impute_missing',\n",
       "                                                                   SimpleImputer(strategy='median')),\n",
       "                                                                  ('standardize_num',\n",
       "                                                                   StandardScaler())]),\n",
       "                                                  ['condition', 'odometer',\n",
       "                                                   'auction_value']),\n",
       "                                                 ('create_dummies',\n",
       "                                                  Pipeline(steps=[('impute_missing_cats',\n",
       "                                                                   SimpleImputer(strategy='most_frequent')),\n",
       "                                                                  ('create_dummies_cats',\n",
       "                                                                   OneHotEncoder(drop='first',\n",
       "                                                                                 handle_unknown='ignore'))]),\n",
       "                                                  ['make', 'transmission',\n",
       "                                                   'state'])])),\n",
       "                ('lm', LinearRegression())])"
      ]
     },
     "execution_count": 12,
     "metadata": {},
     "output_type": "execute_result"
    }
   ],
   "source": [
    "from sklearn.linear_model import LinearRegression\n",
    "\n",
    "modeling_pipeline = Pipeline([('data_processing', processing_pipeline), \n",
    "                              ('lm', LinearRegression())\n",
    "                             ])\n",
    "modeling_pipeline.fit(X_train, y_train)"
   ]
  },
  {
   "cell_type": "code",
   "execution_count": 13,
   "metadata": {},
   "outputs": [],
   "source": [
    "predictions = modeling_pipeline.predict(X_test)"
   ]
  },
  {
   "cell_type": "code",
   "execution_count": 14,
   "metadata": {},
   "outputs": [
    {
     "data": {
      "text/plain": [
       "0.8838274416405266"
      ]
     },
     "execution_count": 14,
     "metadata": {},
     "output_type": "execute_result"
    }
   ],
   "source": [
    "from sklearn.metrics import r2_score\n",
    "r2 = r2_score(y_test, predictions)\n",
    "r2"
   ]
  },
  {
   "cell_type": "markdown",
   "metadata": {},
   "source": [
    "## Question 6: Create a plot(s) of the residuals. Do you have any concerns about patterns in the residuals that the model is neglecting to pick-up?\n",
    "- Include a sentence or two on what you observe."
   ]
  },
  {
   "cell_type": "code",
   "execution_count": 15,
   "metadata": {},
   "outputs": [
    {
     "data": {
      "image/png": "[encoded data removed]",
      "text/plain": [
       "<Figure size 432x288 with 1 Axes>"
      ]
     },
     "metadata": {
      "needs_background": "light"
     },
     "output_type": "display_data"
    }
   ],
   "source": [
    "import matplotlib.pyplot as plt\n",
    "\n",
    "plt.plot(y_test,predictions, 'ro')\n",
    "plt.xlabel('Actual')\n",
    "plt.ylabel('Predicted')\n",
    "plt.show()"
   ]
  },
  {
   "cell_type": "code",
   "execution_count": 16,
   "metadata": {},
   "outputs": [
    {
     "data": {
      "image/png": "[encoded data removed]",
      "text/plain": [
       "<Figure size 432x288 with 1 Axes>"
      ]
     },
     "metadata": {
      "needs_background": "light"
     },
     "output_type": "display_data"
    }
   ],
   "source": [
    "plt.plot(predictions, predictions - y_test, 'ro')\n",
    "plt.ylabel('Residual')\n",
    "plt.xlabel('Predicted')\n",
    "plt.show()"
   ]
  },
  {
   "cell_type": "markdown",
   "metadata": {},
   "source": [
    " - From above two plots we can say that the model has not perfored well for a portion data whose selling price is between 20K & 50K\n",
    " - The model has predicted less value than the actual selling price of the vehicle which resulted to negetive residue\n"
   ]
  },
  {
   "cell_type": "markdown",
   "metadata": {},
   "source": [
    "## Question 7: Modify the pipeline to use a ridge regression model with an alpha value of 100. How does this change the $R^2$?"
   ]
  },
  {
   "cell_type": "code",
   "execution_count": 17,
   "metadata": {},
   "outputs": [
    {
     "data": {
      "text/html": [
       "<style>#sk-3ea743c4-5df7-490b-a803-b1c6cb23311c {color: black;background-color: white;}#sk-3ea743c4-5df7-490b-a803-b1c6cb23311c pre{padding: 0;}#sk-3ea743c4-5df7-490b-a803-b1c6cb23311c div.sk-toggleable {background-color: white;}#sk-3ea743c4-5df7-490b-a803-b1c6cb23311c label.sk-toggleable__label {cursor: pointer;display: block;width: 100%;margin-bottom: 0;padding: 0.3em;box-sizing: border-box;text-align: center;}#sk-3ea743c4-5df7-490b-a803-b1c6cb23311c label.sk-toggleable__label-arrow:before {content: \"▸\";float: left;margin-right: 0.25em;color: #696969;}#sk-3ea743c4-5df7-490b-a803-b1c6cb23311c label.sk-toggleable__label-arrow:hover:before {color: black;}#sk-3ea743c4-5df7-490b-a803-b1c6cb23311c div.sk-estimator:hover label.sk-toggleable__label-arrow:before {color: black;}#sk-3ea743c4-5df7-490b-a803-b1c6cb23311c div.sk-toggleable__content {max-height: 0;max-width: 0;overflow: hidden;text-align: left;background-color: #f0f8ff;}#sk-3ea743c4-5df7-490b-a803-b1c6cb23311c div.sk-toggleable__content pre {margin: 0.2em;color: black;border-radius: 0.25em;background-color: #f0f8ff;}#sk-3ea743c4-5df7-490b-a803-b1c6cb23311c input.sk-toggleable__control:checked~div.sk-toggleable__content {max-height: 200px;max-width: 100%;overflow: auto;}#sk-3ea743c4-5df7-490b-a803-b1c6cb23311c input.sk-toggleable__control:checked~label.sk-toggleable__label-arrow:before {content: \"▾\";}#sk-3ea743c4-5df7-490b-a803-b1c6cb23311c div.sk-estimator input.sk-toggleable__control:checked~label.sk-toggleable__label {background-color: #d4ebff;}#sk-3ea743c4-5df7-490b-a803-b1c6cb23311c div.sk-label input.sk-toggleable__control:checked~label.sk-toggleable__label {background-color: #d4ebff;}#sk-3ea743c4-5df7-490b-a803-b1c6cb23311c input.sk-hidden--visually {border: 0;clip: rect(1px 1px 1px 1px);clip: rect(1px, 1px, 1px, 1px);height: 1px;margin: -1px;overflow: hidden;padding: 0;position: absolute;width: 1px;}#sk-3ea743c4-5df7-490b-a803-b1c6cb23311c div.sk-estimator {font-family: monospace;background-color: #f0f8ff;border: 1px dotted black;border-radius: 0.25em;box-sizing: border-box;margin-bottom: 0.5em;}#sk-3ea743c4-5df7-490b-a803-b1c6cb23311c div.sk-estimator:hover {background-color: #d4ebff;}#sk-3ea743c4-5df7-490b-a803-b1c6cb23311c div.sk-parallel-item::after {content: \"\";width: 100%;border-bottom: 1px solid gray;flex-grow: 1;}#sk-3ea743c4-5df7-490b-a803-b1c6cb23311c div.sk-label:hover label.sk-toggleable__label {background-color: #d4ebff;}#sk-3ea743c4-5df7-490b-a803-b1c6cb23311c div.sk-serial::before {content: \"\";position: absolute;border-left: 1px solid gray;box-sizing: border-box;top: 2em;bottom: 0;left: 50%;}#sk-3ea743c4-5df7-490b-a803-b1c6cb23311c div.sk-serial {display: flex;flex-direction: column;align-items: center;background-color: white;padding-right: 0.2em;padding-left: 0.2em;}#sk-3ea743c4-5df7-490b-a803-b1c6cb23311c div.sk-item {z-index: 1;}#sk-3ea743c4-5df7-490b-a803-b1c6cb23311c div.sk-parallel {display: flex;align-items: stretch;justify-content: center;background-color: white;}#sk-3ea743c4-5df7-490b-a803-b1c6cb23311c div.sk-parallel::before {content: \"\";position: absolute;border-left: 1px solid gray;box-sizing: border-box;top: 2em;bottom: 0;left: 50%;}#sk-3ea743c4-5df7-490b-a803-b1c6cb23311c div.sk-parallel-item {display: flex;flex-direction: column;position: relative;background-color: white;}#sk-3ea743c4-5df7-490b-a803-b1c6cb23311c div.sk-parallel-item:first-child::after {align-self: flex-end;width: 50%;}#sk-3ea743c4-5df7-490b-a803-b1c6cb23311c div.sk-parallel-item:last-child::after {align-self: flex-start;width: 50%;}#sk-3ea743c4-5df7-490b-a803-b1c6cb23311c div.sk-parallel-item:only-child::after {width: 0;}#sk-3ea743c4-5df7-490b-a803-b1c6cb23311c div.sk-dashed-wrapped {border: 1px dashed gray;margin: 0 0.4em 0.5em 0.4em;box-sizing: border-box;padding-bottom: 0.4em;background-color: white;position: relative;}#sk-3ea743c4-5df7-490b-a803-b1c6cb23311c div.sk-label label {font-family: monospace;font-weight: bold;background-color: white;display: inline-block;line-height: 1.2em;}#sk-3ea743c4-5df7-490b-a803-b1c6cb23311c div.sk-label-container {position: relative;z-index: 2;text-align: center;}#sk-3ea743c4-5df7-490b-a803-b1c6cb23311c div.sk-container {/* jupyter's `normalize.less` sets `[hidden] { display: none; }` but bootstrap.min.css set `[hidden] { display: none !important; }` so we also need the `!important` here to be able to override the default hidden behavior on the sphinx rendered scikit-learn.org. See: https://github.com/scikit-learn/scikit-learn/issues/21755 */display: inline-block !important;position: relative;}#sk-3ea743c4-5df7-490b-a803-b1c6cb23311c div.sk-text-repr-fallback {display: none;}</style><div id=\"sk-3ea743c4-5df7-490b-a803-b1c6cb23311c\" class=\"sk-top-container\"><div class=\"sk-text-repr-fallback\"><pre>Pipeline(steps=[(&#x27;data_processing&#x27;,\n",
       "                 ColumnTransformer(transformers=[(&#x27;proc_numeric&#x27;,\n",
       "                                                  Pipeline(steps=[(&#x27;impute_missing&#x27;,\n",
       "                                                                   SimpleImputer(strategy=&#x27;median&#x27;)),\n",
       "                                                                  (&#x27;standardize_num&#x27;,\n",
       "                                                                   StandardScaler())]),\n",
       "                                                  [&#x27;condition&#x27;, &#x27;odometer&#x27;,\n",
       "                                                   &#x27;auction_value&#x27;]),\n",
       "                                                 (&#x27;create_dummies&#x27;,\n",
       "                                                  Pipeline(steps=[(&#x27;impute_missing_cats&#x27;,\n",
       "                                                                   SimpleImputer(strategy=&#x27;most_frequent&#x27;)),\n",
       "                                                                  (&#x27;create_dummies_cats&#x27;,\n",
       "                                                                   OneHotEncoder(drop=&#x27;first&#x27;,\n",
       "                                                                                 handle_unknown=&#x27;ignore&#x27;))]),\n",
       "                                                  [&#x27;make&#x27;, &#x27;transmission&#x27;,\n",
       "                                                   &#x27;state&#x27;])])),\n",
       "                (&#x27;lm&#x27;, Ridge(alpha=100.0))])</pre><b>Please rerun this cell to show the HTML repr or trust the notebook.</b></div><div class=\"sk-container\" hidden><div class=\"sk-item sk-dashed-wrapped\"><div class=\"sk-label-container\"><div class=\"sk-label sk-toggleable\"><input class=\"sk-toggleable__control sk-hidden--visually\" id=\"81a6445b-df7f-4b54-b163-bb0a33307857\" type=\"checkbox\" ><label for=\"81a6445b-df7f-4b54-b163-bb0a33307857\" class=\"sk-toggleable__label sk-toggleable__label-arrow\">Pipeline</label><div class=\"sk-toggleable__content\"><pre>Pipeline(steps=[(&#x27;data_processing&#x27;,\n",
       "                 ColumnTransformer(transformers=[(&#x27;proc_numeric&#x27;,\n",
       "                                                  Pipeline(steps=[(&#x27;impute_missing&#x27;,\n",
       "                                                                   SimpleImputer(strategy=&#x27;median&#x27;)),\n",
       "                                                                  (&#x27;standardize_num&#x27;,\n",
       "                                                                   StandardScaler())]),\n",
       "                                                  [&#x27;condition&#x27;, &#x27;odometer&#x27;,\n",
       "                                                   &#x27;auction_value&#x27;]),\n",
       "                                                 (&#x27;create_dummies&#x27;,\n",
       "                                                  Pipeline(steps=[(&#x27;impute_missing_cats&#x27;,\n",
       "                                                                   SimpleImputer(strategy=&#x27;most_frequent&#x27;)),\n",
       "                                                                  (&#x27;create_dummies_cats&#x27;,\n",
       "                                                                   OneHotEncoder(drop=&#x27;first&#x27;,\n",
       "                                                                                 handle_unknown=&#x27;ignore&#x27;))]),\n",
       "                                                  [&#x27;make&#x27;, &#x27;transmission&#x27;,\n",
       "                                                   &#x27;state&#x27;])])),\n",
       "                (&#x27;lm&#x27;, Ridge(alpha=100.0))])</pre></div></div></div><div class=\"sk-serial\"><div class=\"sk-item sk-dashed-wrapped\"><div class=\"sk-label-container\"><div class=\"sk-label sk-toggleable\"><input class=\"sk-toggleable__control sk-hidden--visually\" id=\"cffbaa1f-91da-4d57-b74f-7797db6417eb\" type=\"checkbox\" ><label for=\"cffbaa1f-91da-4d57-b74f-7797db6417eb\" class=\"sk-toggleable__label sk-toggleable__label-arrow\">data_processing: ColumnTransformer</label><div class=\"sk-toggleable__content\"><pre>ColumnTransformer(transformers=[(&#x27;proc_numeric&#x27;,\n",
       "                                 Pipeline(steps=[(&#x27;impute_missing&#x27;,\n",
       "                                                  SimpleImputer(strategy=&#x27;median&#x27;)),\n",
       "                                                 (&#x27;standardize_num&#x27;,\n",
       "                                                  StandardScaler())]),\n",
       "                                 [&#x27;condition&#x27;, &#x27;odometer&#x27;, &#x27;auction_value&#x27;]),\n",
       "                                (&#x27;create_dummies&#x27;,\n",
       "                                 Pipeline(steps=[(&#x27;impute_missing_cats&#x27;,\n",
       "                                                  SimpleImputer(strategy=&#x27;most_frequent&#x27;)),\n",
       "                                                 (&#x27;create_dummies_cats&#x27;,\n",
       "                                                  OneHotEncoder(drop=&#x27;first&#x27;,\n",
       "                                                                handle_unknown=&#x27;ignore&#x27;))]),\n",
       "                                 [&#x27;make&#x27;, &#x27;transmission&#x27;, &#x27;state&#x27;])])</pre></div></div></div><div class=\"sk-parallel\"><div class=\"sk-parallel-item\"><div class=\"sk-item\"><div class=\"sk-label-container\"><div class=\"sk-label sk-toggleable\"><input class=\"sk-toggleable__control sk-hidden--visually\" id=\"a0e8425a-edad-4a02-b948-35df12941f6d\" type=\"checkbox\" ><label for=\"a0e8425a-edad-4a02-b948-35df12941f6d\" class=\"sk-toggleable__label sk-toggleable__label-arrow\">proc_numeric</label><div class=\"sk-toggleable__content\"><pre>[&#x27;condition&#x27;, &#x27;odometer&#x27;, &#x27;auction_value&#x27;]</pre></div></div></div><div class=\"sk-serial\"><div class=\"sk-item\"><div class=\"sk-serial\"><div class=\"sk-item\"><div class=\"sk-estimator sk-toggleable\"><input class=\"sk-toggleable__control sk-hidden--visually\" id=\"63f4a75a-6854-4d93-88ac-05b4c3f80e35\" type=\"checkbox\" ><label for=\"63f4a75a-6854-4d93-88ac-05b4c3f80e35\" class=\"sk-toggleable__label sk-toggleable__label-arrow\">SimpleImputer</label><div class=\"sk-toggleable__content\"><pre>SimpleImputer(strategy=&#x27;median&#x27;)</pre></div></div></div><div class=\"sk-item\"><div class=\"sk-estimator sk-toggleable\"><input class=\"sk-toggleable__control sk-hidden--visually\" id=\"ae5688db-a7d3-4499-a6c0-d5485ecdd640\" type=\"checkbox\" ><label for=\"ae5688db-a7d3-4499-a6c0-d5485ecdd640\" class=\"sk-toggleable__label sk-toggleable__label-arrow\">StandardScaler</label><div class=\"sk-toggleable__content\"><pre>StandardScaler()</pre></div></div></div></div></div></div></div></div><div class=\"sk-parallel-item\"><div class=\"sk-item\"><div class=\"sk-label-container\"><div class=\"sk-label sk-toggleable\"><input class=\"sk-toggleable__control sk-hidden--visually\" id=\"0005c183-8f5e-421d-81ff-8d1ad614f45e\" type=\"checkbox\" ><label for=\"0005c183-8f5e-421d-81ff-8d1ad614f45e\" class=\"sk-toggleable__label sk-toggleable__label-arrow\">create_dummies</label><div class=\"sk-toggleable__content\"><pre>[&#x27;make&#x27;, &#x27;transmission&#x27;, &#x27;state&#x27;]</pre></div></div></div><div class=\"sk-serial\"><div class=\"sk-item\"><div class=\"sk-serial\"><div class=\"sk-item\"><div class=\"sk-estimator sk-toggleable\"><input class=\"sk-toggleable__control sk-hidden--visually\" id=\"45e1c571-9d63-46b8-9e14-3e0e004dc632\" type=\"checkbox\" ><label for=\"45e1c571-9d63-46b8-9e14-3e0e004dc632\" class=\"sk-toggleable__label sk-toggleable__label-arrow\">SimpleImputer</label><div class=\"sk-toggleable__content\"><pre>SimpleImputer(strategy=&#x27;most_frequent&#x27;)</pre></div></div></div><div class=\"sk-item\"><div class=\"sk-estimator sk-toggleable\"><input class=\"sk-toggleable__control sk-hidden--visually\" id=\"44edce1f-5ec9-4f96-9059-77b3c7228403\" type=\"checkbox\" ><label for=\"44edce1f-5ec9-4f96-9059-77b3c7228403\" class=\"sk-toggleable__label sk-toggleable__label-arrow\">OneHotEncoder</label><div class=\"sk-toggleable__content\"><pre>OneHotEncoder(drop=&#x27;first&#x27;, handle_unknown=&#x27;ignore&#x27;)</pre></div></div></div></div></div></div></div></div></div></div><div class=\"sk-item\"><div class=\"sk-estimator sk-toggleable\"><input class=\"sk-toggleable__control sk-hidden--visually\" id=\"2242ce3d-1bc8-409e-ac29-ccf1c939b0a3\" type=\"checkbox\" ><label for=\"2242ce3d-1bc8-409e-ac29-ccf1c939b0a3\" class=\"sk-toggleable__label sk-toggleable__label-arrow\">Ridge</label><div class=\"sk-toggleable__content\"><pre>Ridge(alpha=100.0)</pre></div></div></div></div></div></div></div>"
      ],
      "text/plain": [
       "Pipeline(steps=[('data_processing',\n",
       "                 ColumnTransformer(transformers=[('proc_numeric',\n",
       "                                                  Pipeline(steps=[('impute_missing',\n",
       "                                                                   SimpleImputer(strategy='median')),\n",
       "                                                                  ('standardize_num',\n",
       "                                                                   StandardScaler())]),\n",
       "                                                  ['condition', 'odometer',\n",
       "                                                   'auction_value']),\n",
       "                                                 ('create_dummies',\n",
       "                                                  Pipeline(steps=[('impute_missing_cats',\n",
       "                                                                   SimpleImputer(strategy='most_frequent')),\n",
       "                                                                  ('create_dummies_cats',\n",
       "                                                                   OneHotEncoder(drop='first',\n",
       "                                                                                 handle_unknown='ignore'))]),\n",
       "                                                  ['make', 'transmission',\n",
       "                                                   'state'])])),\n",
       "                ('lm', Ridge(alpha=100.0))])"
      ]
     },
     "execution_count": 17,
     "metadata": {},
     "output_type": "execute_result"
    }
   ],
   "source": [
    "from sklearn.linear_model import Ridge\n",
    "modified_pipeline = Pipeline([('data_processing', processing_pipeline), \n",
    "                              ('lm', Ridge(alpha=100.0))\n",
    "                             ])\n",
    "modified_pipeline.fit(X_train, y_train)"
   ]
  },
  {
   "cell_type": "code",
   "execution_count": 18,
   "metadata": {},
   "outputs": [],
   "source": [
    "new_predictions = modified_pipeline.predict(X_test)"
   ]
  },
  {
   "cell_type": "code",
   "execution_count": 19,
   "metadata": {},
   "outputs": [
    {
     "data": {
      "text/plain": [
       "0.8824295262286399"
      ]
     },
     "execution_count": 19,
     "metadata": {},
     "output_type": "execute_result"
    }
   ],
   "source": [
    "from sklearn.metrics import r2_score\n",
    "new_r2 = r2_score(y_test, new_predictions)\n",
    "new_r2"
   ]
  },
  {
   "cell_type": "markdown",
   "metadata": {},
   "source": [
    "- There is only a little change in the r2 values after applying ridge regression\n",
    "- The value changed from 0.883 to 0.882"
   ]
  },
  {
   "cell_type": "code",
   "execution_count": null,
   "metadata": {},
   "outputs": [],
   "source": []
  }
 ],
 "metadata": {
  "kernelspec": {
   "display_name": "Python 3 (ipykernel)",
   "language": "python",
   "name": "python3"
  },
  "language_info": {
   "codemirror_mode": {
    "name": "ipython",
    "version": 3
   },
   "file_extension": ".py",
   "mimetype": "text/x-python",
   "name": "python",
   "nbconvert_exporter": "python",
   "pygments_lexer": "ipython3",
   "version": "3.9.12"
  },
  "toc": {
   "base_numbering": 1,
   "nav_menu": {},
   "number_sections": true,
   "sideBar": true,
   "skip_h1_title": false,
   "title_cell": "Table of Contents",
   "title_sidebar": "Contents",
   "toc_cell": false,
   "toc_position": {},
   "toc_section_display": true,
   "toc_window_display": false
  }
 },
 "nbformat": 4,
 "nbformat_minor": 4
}
