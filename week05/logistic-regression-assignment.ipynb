{
 "cells": [
  {
   "cell_type": "markdown",
   "metadata": {},
   "source": [
    "# Priyank Sai Pannem - XR97612"
   ]
  },
  {
   "cell_type": "markdown",
   "metadata": {},
   "source": [
    "# Logistic Regression Assignment\n",
    "\n",
    "- Run the below cells. If you have the data in a different directory, you'll need to change the url.\n",
    "- Complete all of the numbered questions. You may call any packages that we've used in class.  "
   ]
  },
  {
   "cell_type": "code",
   "execution_count": 1,
   "metadata": {},
   "outputs": [
    {
     "data": {
      "text/html": [
       "<div>\n",
       "<style scoped>\n",
       "    .dataframe tbody tr th:only-of-type {\n",
       "        vertical-align: middle;\n",
       "    }\n",
       "\n",
       "    .dataframe tbody tr th {\n",
       "        vertical-align: top;\n",
       "    }\n",
       "\n",
       "    .dataframe thead th {\n",
       "        text-align: right;\n",
       "    }\n",
       "</style>\n",
       "<table border=\"1\" class=\"dataframe\">\n",
       "  <thead>\n",
       "    <tr style=\"text-align: right;\">\n",
       "      <th></th>\n",
       "      <th>left_company</th>\n",
       "      <th>age</th>\n",
       "      <th>frequency_of_travel</th>\n",
       "      <th>department</th>\n",
       "      <th>commuting_distance</th>\n",
       "      <th>education</th>\n",
       "      <th>satisfaction_with_environment</th>\n",
       "      <th>gender</th>\n",
       "      <th>seniority_level</th>\n",
       "      <th>position</th>\n",
       "      <th>satisfaction_with_job</th>\n",
       "      <th>married_or_single</th>\n",
       "      <th>last_raise_pct</th>\n",
       "      <th>last_performance_rating</th>\n",
       "      <th>total_years_working</th>\n",
       "      <th>years_at_company</th>\n",
       "      <th>years_in_current_job</th>\n",
       "      <th>years_since_last_promotion</th>\n",
       "      <th>years_with_current_supervisor</th>\n",
       "    </tr>\n",
       "  </thead>\n",
       "  <tbody>\n",
       "    <tr>\n",
       "      <th>0</th>\n",
       "      <td>No</td>\n",
       "      <td>37</td>\n",
       "      <td>Travel_Rarely</td>\n",
       "      <td>Sales</td>\n",
       "      <td>16</td>\n",
       "      <td>4</td>\n",
       "      <td>4</td>\n",
       "      <td>Male</td>\n",
       "      <td>2</td>\n",
       "      <td>Sales Executive</td>\n",
       "      <td>3</td>\n",
       "      <td>Divorced</td>\n",
       "      <td>19</td>\n",
       "      <td>3</td>\n",
       "      <td>9</td>\n",
       "      <td>1</td>\n",
       "      <td>0</td>\n",
       "      <td>0</td>\n",
       "      <td>0</td>\n",
       "    </tr>\n",
       "    <tr>\n",
       "      <th>1</th>\n",
       "      <td>No</td>\n",
       "      <td>39</td>\n",
       "      <td>Travel_Rarely</td>\n",
       "      <td>Research &amp; Development</td>\n",
       "      <td>3</td>\n",
       "      <td>2</td>\n",
       "      <td>3</td>\n",
       "      <td>Male</td>\n",
       "      <td>2</td>\n",
       "      <td>Laboratory Technician</td>\n",
       "      <td>3</td>\n",
       "      <td>Divorced</td>\n",
       "      <td>15</td>\n",
       "      <td>3</td>\n",
       "      <td>11</td>\n",
       "      <td>10</td>\n",
       "      <td>8</td>\n",
       "      <td>0</td>\n",
       "      <td>7</td>\n",
       "    </tr>\n",
       "    <tr>\n",
       "      <th>2</th>\n",
       "      <td>No</td>\n",
       "      <td>52</td>\n",
       "      <td>Travel_Frequently</td>\n",
       "      <td>Research &amp; Development</td>\n",
       "      <td>25</td>\n",
       "      <td>4</td>\n",
       "      <td>3</td>\n",
       "      <td>Female</td>\n",
       "      <td>4</td>\n",
       "      <td>Manufacturing Director</td>\n",
       "      <td>4</td>\n",
       "      <td>Married</td>\n",
       "      <td>22</td>\n",
       "      <td>4</td>\n",
       "      <td>31</td>\n",
       "      <td>9</td>\n",
       "      <td>8</td>\n",
       "      <td>0</td>\n",
       "      <td>0</td>\n",
       "    </tr>\n",
       "    <tr>\n",
       "      <th>3</th>\n",
       "      <td>No</td>\n",
       "      <td>50</td>\n",
       "      <td>Non-Travel</td>\n",
       "      <td>Sales</td>\n",
       "      <td>1</td>\n",
       "      <td>3</td>\n",
       "      <td>4</td>\n",
       "      <td>Female</td>\n",
       "      <td>2</td>\n",
       "      <td>Sales Executive</td>\n",
       "      <td>3</td>\n",
       "      <td>Married</td>\n",
       "      <td>12</td>\n",
       "      <td>3</td>\n",
       "      <td>19</td>\n",
       "      <td>18</td>\n",
       "      <td>7</td>\n",
       "      <td>0</td>\n",
       "      <td>13</td>\n",
       "    </tr>\n",
       "    <tr>\n",
       "      <th>4</th>\n",
       "      <td>No</td>\n",
       "      <td>44</td>\n",
       "      <td>Travel_Rarely</td>\n",
       "      <td>Research &amp; Development</td>\n",
       "      <td>4</td>\n",
       "      <td>3</td>\n",
       "      <td>4</td>\n",
       "      <td>Male</td>\n",
       "      <td>2</td>\n",
       "      <td>Healthcare Representative</td>\n",
       "      <td>2</td>\n",
       "      <td>Single</td>\n",
       "      <td>12</td>\n",
       "      <td>3</td>\n",
       "      <td>10</td>\n",
       "      <td>5</td>\n",
       "      <td>2</td>\n",
       "      <td>2</td>\n",
       "      <td>3</td>\n",
       "    </tr>\n",
       "  </tbody>\n",
       "</table>\n",
       "</div>"
      ],
      "text/plain": [
       "  left_company  age frequency_of_travel              department  \\\n",
       "0           No   37       Travel_Rarely                   Sales   \n",
       "1           No   39       Travel_Rarely  Research & Development   \n",
       "2           No   52   Travel_Frequently  Research & Development   \n",
       "3           No   50          Non-Travel                   Sales   \n",
       "4           No   44       Travel_Rarely  Research & Development   \n",
       "\n",
       "   commuting_distance  education  satisfaction_with_environment  gender  \\\n",
       "0                  16          4                              4    Male   \n",
       "1                   3          2                              3    Male   \n",
       "2                  25          4                              3  Female   \n",
       "3                   1          3                              4  Female   \n",
       "4                   4          3                              4    Male   \n",
       "\n",
       "   seniority_level                   position  satisfaction_with_job  \\\n",
       "0                2            Sales Executive                      3   \n",
       "1                2      Laboratory Technician                      3   \n",
       "2                4     Manufacturing Director                      4   \n",
       "3                2            Sales Executive                      3   \n",
       "4                2  Healthcare Representative                      2   \n",
       "\n",
       "  married_or_single  last_raise_pct  last_performance_rating  \\\n",
       "0          Divorced              19                        3   \n",
       "1          Divorced              15                        3   \n",
       "2           Married              22                        4   \n",
       "3           Married              12                        3   \n",
       "4            Single              12                        3   \n",
       "\n",
       "   total_years_working  years_at_company  years_in_current_job  \\\n",
       "0                    9                 1                     0   \n",
       "1                   11                10                     8   \n",
       "2                   31                 9                     8   \n",
       "3                   19                18                     7   \n",
       "4                   10                 5                     2   \n",
       "\n",
       "   years_since_last_promotion  years_with_current_supervisor  \n",
       "0                           0                              0  \n",
       "1                           0                              7  \n",
       "2                           0                              0  \n",
       "3                           0                             13  \n",
       "4                           2                              3  "
      ]
     },
     "execution_count": 1,
     "metadata": {},
     "output_type": "execute_result"
    }
   ],
   "source": [
    "import pandas as pd\n",
    "import numpy as np\n",
    "import matplotlib.pyplot as plt\n",
    "import seaborn as sns\n",
    "%matplotlib inline\n",
    "df = pd.read_csv('employee-turnover-balanced.csv')\n",
    "df.head()"
   ]
  },
  {
   "cell_type": "markdown",
   "metadata": {},
   "source": [
    "## Data Definitions\n",
    "- `left_company`: Whether individual left the company or not. This is the target variable.  \n",
    "- `age`: Age of individual. \n",
    "- `frequency_of_travel`: How often person travels for work.  \n",
    "- `department`: Department person works(worked).  \n",
    "- `commuting_distance`: Distance person lives from office.  \n",
    "- `education`: Highest education category.  \n",
    "- `satisfaction_with_environment`: Satisfaction of environment, on lickert scale.  \n",
    "- `gender`: Gender of individual.  \n",
    "- `seniority_level`: Seniority level of individual.  \n",
    "- `position`: Last position held at the company.  \n",
    "- `satisfaction_with_job`: Satisfaction of their job, on lickert scale.  \n",
    "- `married_or_single`: Marital status of person.  \n",
    "- `last_raise_pct`: Percent increase their last raise represented.  \n",
    "- `last_performance_rating`: Most recent annual performance rating, on lickert scale.  \n",
    "- `total_years_working`: Number of years the individual has spent working in their career.  \n",
    "- `years_at_company`: Number of years the individual has been at the company, regardless of position.  \n",
    "- `years_in_current_job`: Number of years the individual has been in their current position.  \n",
    "- `years_since_last_promotion`: Years since the person had their last promotion.  \n",
    "- `years_with_current_supervisor`: Years the person has had their current supervisor."
   ]
  },
  {
   "cell_type": "markdown",
   "metadata": {},
   "source": [
    "# Question 1\n",
    "- What is the distribution of the target (`left_company`)?  \n",
    "- Do you have any concerns on class imbalances?"
   ]
  },
  {
   "cell_type": "code",
   "execution_count": 2,
   "metadata": {},
   "outputs": [
    {
     "data": {
      "text/plain": [
       "<AxesSubplot:>"
      ]
     },
     "execution_count": 2,
     "metadata": {},
     "output_type": "execute_result"
    },
    {
     "data": {
      "image/png": "[encoded data removed]",
      "text/plain": [
       "<Figure size 432x288 with 1 Axes>"
      ]
     },
     "metadata": {
      "needs_background": "light"
     },
     "output_type": "display_data"
    }
   ],
   "source": [
    "# insert code\n",
    "df['left_company'].hist()"
   ]
  },
  {
   "cell_type": "code",
   "execution_count": 3,
   "metadata": {},
   "outputs": [
    {
     "data": {
      "text/plain": [
       "No     500\n",
       "Yes    500\n",
       "Name: left_company, dtype: int64"
      ]
     },
     "execution_count": 3,
     "metadata": {},
     "output_type": "execute_result"
    }
   ],
   "source": [
    "df['left_company'].value_counts()"
   ]
  },
  {
   "cell_type": "markdown",
   "metadata": {},
   "source": [
    "### Insights from above plot\n",
    "- We can say that data set has equal contribution to the both the classes (Yes/No)\n",
    "- The peple who left the company == people are still in the company == 500"
   ]
  },
  {
   "cell_type": "markdown",
   "metadata": {},
   "source": [
    "# Question 2\n",
    "- Create and print a list of the variables that you would treat as numerical and another list for the variables that you would treat as categorical.  \n",
    "- Explain your choices."
   ]
  },
  {
   "cell_type": "code",
   "execution_count": 4,
   "metadata": {},
   "outputs": [],
   "source": [
    "numerical_vars = ['age','commuting_distance','last_raise_pct','total_years_working','years_at_company','years_in_current_job','years_since_last_promotion','years_with_current_supervisor']\n",
    "categorical_vars = ['frequency_of_travel', 'department','education','satisfaction_with_environment','gender','seniority_level','position','satisfaction_with_job','married_or_single','last_performance_rating']"
   ]
  },
  {
   "cell_type": "code",
   "execution_count": 5,
   "metadata": {},
   "outputs": [
    {
     "data": {
      "text/html": [
       "<div>\n",
       "<style scoped>\n",
       "    .dataframe tbody tr th:only-of-type {\n",
       "        vertical-align: middle;\n",
       "    }\n",
       "\n",
       "    .dataframe tbody tr th {\n",
       "        vertical-align: top;\n",
       "    }\n",
       "\n",
       "    .dataframe thead th {\n",
       "        text-align: right;\n",
       "    }\n",
       "</style>\n",
       "<table border=\"1\" class=\"dataframe\">\n",
       "  <thead>\n",
       "    <tr style=\"text-align: right;\">\n",
       "      <th></th>\n",
       "      <th>left_company</th>\n",
       "      <th>age</th>\n",
       "      <th>frequency_of_travel</th>\n",
       "      <th>department</th>\n",
       "      <th>commuting_distance</th>\n",
       "      <th>education</th>\n",
       "      <th>satisfaction_with_environment</th>\n",
       "      <th>gender</th>\n",
       "      <th>seniority_level</th>\n",
       "      <th>position</th>\n",
       "      <th>satisfaction_with_job</th>\n",
       "      <th>married_or_single</th>\n",
       "      <th>last_raise_pct</th>\n",
       "      <th>last_performance_rating</th>\n",
       "      <th>total_years_working</th>\n",
       "      <th>years_at_company</th>\n",
       "      <th>years_in_current_job</th>\n",
       "      <th>years_since_last_promotion</th>\n",
       "      <th>years_with_current_supervisor</th>\n",
       "    </tr>\n",
       "  </thead>\n",
       "  <tbody>\n",
       "    <tr>\n",
       "      <th>0</th>\n",
       "      <td>No</td>\n",
       "      <td>37</td>\n",
       "      <td>Travel_Rarely</td>\n",
       "      <td>Sales</td>\n",
       "      <td>16</td>\n",
       "      <td>4</td>\n",
       "      <td>4</td>\n",
       "      <td>Male</td>\n",
       "      <td>2</td>\n",
       "      <td>Sales Executive</td>\n",
       "      <td>3</td>\n",
       "      <td>Divorced</td>\n",
       "      <td>19</td>\n",
       "      <td>3</td>\n",
       "      <td>9</td>\n",
       "      <td>1</td>\n",
       "      <td>0</td>\n",
       "      <td>0</td>\n",
       "      <td>0</td>\n",
       "    </tr>\n",
       "    <tr>\n",
       "      <th>1</th>\n",
       "      <td>No</td>\n",
       "      <td>39</td>\n",
       "      <td>Travel_Rarely</td>\n",
       "      <td>Research &amp; Development</td>\n",
       "      <td>3</td>\n",
       "      <td>2</td>\n",
       "      <td>3</td>\n",
       "      <td>Male</td>\n",
       "      <td>2</td>\n",
       "      <td>Laboratory Technician</td>\n",
       "      <td>3</td>\n",
       "      <td>Divorced</td>\n",
       "      <td>15</td>\n",
       "      <td>3</td>\n",
       "      <td>11</td>\n",
       "      <td>10</td>\n",
       "      <td>8</td>\n",
       "      <td>0</td>\n",
       "      <td>7</td>\n",
       "    </tr>\n",
       "    <tr>\n",
       "      <th>2</th>\n",
       "      <td>No</td>\n",
       "      <td>52</td>\n",
       "      <td>Travel_Frequently</td>\n",
       "      <td>Research &amp; Development</td>\n",
       "      <td>25</td>\n",
       "      <td>4</td>\n",
       "      <td>3</td>\n",
       "      <td>Female</td>\n",
       "      <td>4</td>\n",
       "      <td>Manufacturing Director</td>\n",
       "      <td>4</td>\n",
       "      <td>Married</td>\n",
       "      <td>22</td>\n",
       "      <td>4</td>\n",
       "      <td>31</td>\n",
       "      <td>9</td>\n",
       "      <td>8</td>\n",
       "      <td>0</td>\n",
       "      <td>0</td>\n",
       "    </tr>\n",
       "    <tr>\n",
       "      <th>3</th>\n",
       "      <td>No</td>\n",
       "      <td>50</td>\n",
       "      <td>Non-Travel</td>\n",
       "      <td>Sales</td>\n",
       "      <td>1</td>\n",
       "      <td>3</td>\n",
       "      <td>4</td>\n",
       "      <td>Female</td>\n",
       "      <td>2</td>\n",
       "      <td>Sales Executive</td>\n",
       "      <td>3</td>\n",
       "      <td>Married</td>\n",
       "      <td>12</td>\n",
       "      <td>3</td>\n",
       "      <td>19</td>\n",
       "      <td>18</td>\n",
       "      <td>7</td>\n",
       "      <td>0</td>\n",
       "      <td>13</td>\n",
       "    </tr>\n",
       "    <tr>\n",
       "      <th>4</th>\n",
       "      <td>No</td>\n",
       "      <td>44</td>\n",
       "      <td>Travel_Rarely</td>\n",
       "      <td>Research &amp; Development</td>\n",
       "      <td>4</td>\n",
       "      <td>3</td>\n",
       "      <td>4</td>\n",
       "      <td>Male</td>\n",
       "      <td>2</td>\n",
       "      <td>Healthcare Representative</td>\n",
       "      <td>2</td>\n",
       "      <td>Single</td>\n",
       "      <td>12</td>\n",
       "      <td>3</td>\n",
       "      <td>10</td>\n",
       "      <td>5</td>\n",
       "      <td>2</td>\n",
       "      <td>2</td>\n",
       "      <td>3</td>\n",
       "    </tr>\n",
       "  </tbody>\n",
       "</table>\n",
       "</div>"
      ],
      "text/plain": [
       "  left_company  age frequency_of_travel              department  \\\n",
       "0           No   37       Travel_Rarely                   Sales   \n",
       "1           No   39       Travel_Rarely  Research & Development   \n",
       "2           No   52   Travel_Frequently  Research & Development   \n",
       "3           No   50          Non-Travel                   Sales   \n",
       "4           No   44       Travel_Rarely  Research & Development   \n",
       "\n",
       "   commuting_distance  education  satisfaction_with_environment  gender  \\\n",
       "0                  16          4                              4    Male   \n",
       "1                   3          2                              3    Male   \n",
       "2                  25          4                              3  Female   \n",
       "3                   1          3                              4  Female   \n",
       "4                   4          3                              4    Male   \n",
       "\n",
       "   seniority_level                   position  satisfaction_with_job  \\\n",
       "0                2            Sales Executive                      3   \n",
       "1                2      Laboratory Technician                      3   \n",
       "2                4     Manufacturing Director                      4   \n",
       "3                2            Sales Executive                      3   \n",
       "4                2  Healthcare Representative                      2   \n",
       "\n",
       "  married_or_single  last_raise_pct  last_performance_rating  \\\n",
       "0          Divorced              19                        3   \n",
       "1          Divorced              15                        3   \n",
       "2           Married              22                        4   \n",
       "3           Married              12                        3   \n",
       "4            Single              12                        3   \n",
       "\n",
       "   total_years_working  years_at_company  years_in_current_job  \\\n",
       "0                    9                 1                     0   \n",
       "1                   11                10                     8   \n",
       "2                   31                 9                     8   \n",
       "3                   19                18                     7   \n",
       "4                   10                 5                     2   \n",
       "\n",
       "   years_since_last_promotion  years_with_current_supervisor  \n",
       "0                           0                              0  \n",
       "1                           0                              7  \n",
       "2                           0                              0  \n",
       "3                           0                             13  \n",
       "4                           2                              3  "
      ]
     },
     "execution_count": 5,
     "metadata": {},
     "output_type": "execute_result"
    }
   ],
   "source": [
    "df.head()"
   ]
  },
  {
   "cell_type": "markdown",
   "metadata": {},
   "source": [
    "I classified the features into numerical and categorical for the following reasons\n",
    "\n",
    "### Numerical Features\n",
    "\n",
    "- Age, Commuting Distance, last_raise_pct, total_years_working, years_at_company, years_in_current_job, years_since_last_promotion, years_with_current_supervisor are continuous varibles and takes multiple numerical values\n",
    "\n",
    "### Categorical Features\n",
    "\n",
    "- <b>frequency_of_travel</b> has 3 types of categories namely 'Travel_Rarely', 'Travel_Frequently' and 'Non-Travel', this makes it to be classfied as categorical feature\n",
    "- <b>department</b> has 3 types of categories namely 'Sales', 'Research & Development' and 'Human Resources', this makes it to be classfied as categorical feature\n",
    "- <b>education</b> has 5 levels of categories namely [4, 2, 3, 1, 5], this makes it to be classfied as categorical feature\n",
    "- <b>satisfaction_with_environment</b>  has 4 levels of categories namely [4, 3, 1, 2], this makes it to be classfied as categorical feature\n",
    "- <b>gender</b> has 2 types of categories namely 'Male' and 'Female', this makes it to be classfied as categorical feature\n",
    "- <b>seniority_level</b> has 5 levels of categories namely [4, 2, 3, 1, 5], this makes it to be classfied as categorical feature\n",
    "- <b>position</b> has 9 types of categories namely 'Sales Executive', 'Laboratory Technician','Manufacturing Director', 'Healthcare Representative', 'Manager','Research Scientist', 'Research Director', 'Sales Representative' and 'Human Resources', this makes it to be classfied as categorical feature\n",
    "- <b>satisfaction_with_job</b> has 4 levels of categories namely [4, 3, 1, 2], this makes it to be classfied as categorical feature\n",
    "- <b>married_or_single</b> has 3 types of categories namely 'Divorced', 'Married', 'Single', this makes it to be classfied as categorical feature\n",
    "- <b>last_performance_rating</b> has 3 levels of categories namely [4, 3], this makes it to be classfied as categorical feature"
   ]
  },
  {
   "cell_type": "markdown",
   "metadata": {},
   "source": [
    "# Question 3\n",
    "- Determine if any numerical variables risk multicolinearity.  \n",
    "- Remove those variables (if any) from your numerical_vars list.  \n",
    "- Why did you or did not remove any?"
   ]
  },
  {
   "cell_type": "code",
   "execution_count": 6,
   "metadata": {},
   "outputs": [
    {
     "data": {
      "text/html": [
       "<div>\n",
       "<style scoped>\n",
       "    .dataframe tbody tr th:only-of-type {\n",
       "        vertical-align: middle;\n",
       "    }\n",
       "\n",
       "    .dataframe tbody tr th {\n",
       "        vertical-align: top;\n",
       "    }\n",
       "\n",
       "    .dataframe thead th {\n",
       "        text-align: right;\n",
       "    }\n",
       "</style>\n",
       "<table border=\"1\" class=\"dataframe\">\n",
       "  <thead>\n",
       "    <tr style=\"text-align: right;\">\n",
       "      <th></th>\n",
       "      <th>age</th>\n",
       "      <th>commuting_distance</th>\n",
       "      <th>last_raise_pct</th>\n",
       "      <th>total_years_working</th>\n",
       "      <th>years_at_company</th>\n",
       "      <th>years_in_current_job</th>\n",
       "      <th>years_since_last_promotion</th>\n",
       "      <th>years_with_current_supervisor</th>\n",
       "    </tr>\n",
       "  </thead>\n",
       "  <tbody>\n",
       "    <tr>\n",
       "      <th>age</th>\n",
       "      <td>1.000000</td>\n",
       "      <td>0.012074</td>\n",
       "      <td>0.027851</td>\n",
       "      <td>0.673804</td>\n",
       "      <td>0.384760</td>\n",
       "      <td>0.310010</td>\n",
       "      <td>0.242456</td>\n",
       "      <td>0.273679</td>\n",
       "    </tr>\n",
       "    <tr>\n",
       "      <th>commuting_distance</th>\n",
       "      <td>0.012074</td>\n",
       "      <td>1.000000</td>\n",
       "      <td>0.104421</td>\n",
       "      <td>0.025593</td>\n",
       "      <td>0.023017</td>\n",
       "      <td>0.031890</td>\n",
       "      <td>0.047552</td>\n",
       "      <td>0.031520</td>\n",
       "    </tr>\n",
       "    <tr>\n",
       "      <th>last_raise_pct</th>\n",
       "      <td>0.027851</td>\n",
       "      <td>0.104421</td>\n",
       "      <td>1.000000</td>\n",
       "      <td>-0.004905</td>\n",
       "      <td>0.004435</td>\n",
       "      <td>0.039691</td>\n",
       "      <td>0.000615</td>\n",
       "      <td>0.060882</td>\n",
       "    </tr>\n",
       "    <tr>\n",
       "      <th>total_years_working</th>\n",
       "      <td>0.673804</td>\n",
       "      <td>0.025593</td>\n",
       "      <td>-0.004905</td>\n",
       "      <td>1.000000</td>\n",
       "      <td>0.685955</td>\n",
       "      <td>0.548494</td>\n",
       "      <td>0.423619</td>\n",
       "      <td>0.506007</td>\n",
       "    </tr>\n",
       "    <tr>\n",
       "      <th>years_at_company</th>\n",
       "      <td>0.384760</td>\n",
       "      <td>0.023017</td>\n",
       "      <td>0.004435</td>\n",
       "      <td>0.685955</td>\n",
       "      <td>1.000000</td>\n",
       "      <td>0.801423</td>\n",
       "      <td>0.630344</td>\n",
       "      <td>0.781147</td>\n",
       "    </tr>\n",
       "    <tr>\n",
       "      <th>years_in_current_job</th>\n",
       "      <td>0.310010</td>\n",
       "      <td>0.031890</td>\n",
       "      <td>0.039691</td>\n",
       "      <td>0.548494</td>\n",
       "      <td>0.801423</td>\n",
       "      <td>1.000000</td>\n",
       "      <td>0.611928</td>\n",
       "      <td>0.781647</td>\n",
       "    </tr>\n",
       "    <tr>\n",
       "      <th>years_since_last_promotion</th>\n",
       "      <td>0.242456</td>\n",
       "      <td>0.047552</td>\n",
       "      <td>0.000615</td>\n",
       "      <td>0.423619</td>\n",
       "      <td>0.630344</td>\n",
       "      <td>0.611928</td>\n",
       "      <td>1.000000</td>\n",
       "      <td>0.599529</td>\n",
       "    </tr>\n",
       "    <tr>\n",
       "      <th>years_with_current_supervisor</th>\n",
       "      <td>0.273679</td>\n",
       "      <td>0.031520</td>\n",
       "      <td>0.060882</td>\n",
       "      <td>0.506007</td>\n",
       "      <td>0.781147</td>\n",
       "      <td>0.781647</td>\n",
       "      <td>0.599529</td>\n",
       "      <td>1.000000</td>\n",
       "    </tr>\n",
       "  </tbody>\n",
       "</table>\n",
       "</div>"
      ],
      "text/plain": [
       "                                    age  commuting_distance  last_raise_pct  \\\n",
       "age                            1.000000            0.012074        0.027851   \n",
       "commuting_distance             0.012074            1.000000        0.104421   \n",
       "last_raise_pct                 0.027851            0.104421        1.000000   \n",
       "total_years_working            0.673804            0.025593       -0.004905   \n",
       "years_at_company               0.384760            0.023017        0.004435   \n",
       "years_in_current_job           0.310010            0.031890        0.039691   \n",
       "years_since_last_promotion     0.242456            0.047552        0.000615   \n",
       "years_with_current_supervisor  0.273679            0.031520        0.060882   \n",
       "\n",
       "                               total_years_working  years_at_company  \\\n",
       "age                                       0.673804          0.384760   \n",
       "commuting_distance                        0.025593          0.023017   \n",
       "last_raise_pct                           -0.004905          0.004435   \n",
       "total_years_working                       1.000000          0.685955   \n",
       "years_at_company                          0.685955          1.000000   \n",
       "years_in_current_job                      0.548494          0.801423   \n",
       "years_since_last_promotion                0.423619          0.630344   \n",
       "years_with_current_supervisor             0.506007          0.781147   \n",
       "\n",
       "                               years_in_current_job  \\\n",
       "age                                        0.310010   \n",
       "commuting_distance                         0.031890   \n",
       "last_raise_pct                             0.039691   \n",
       "total_years_working                        0.548494   \n",
       "years_at_company                           0.801423   \n",
       "years_in_current_job                       1.000000   \n",
       "years_since_last_promotion                 0.611928   \n",
       "years_with_current_supervisor              0.781647   \n",
       "\n",
       "                               years_since_last_promotion  \\\n",
       "age                                              0.242456   \n",
       "commuting_distance                               0.047552   \n",
       "last_raise_pct                                   0.000615   \n",
       "total_years_working                              0.423619   \n",
       "years_at_company                                 0.630344   \n",
       "years_in_current_job                             0.611928   \n",
       "years_since_last_promotion                       1.000000   \n",
       "years_with_current_supervisor                    0.599529   \n",
       "\n",
       "                               years_with_current_supervisor  \n",
       "age                                                 0.273679  \n",
       "commuting_distance                                  0.031520  \n",
       "last_raise_pct                                      0.060882  \n",
       "total_years_working                                 0.506007  \n",
       "years_at_company                                    0.781147  \n",
       "years_in_current_job                                0.781647  \n",
       "years_since_last_promotion                          0.599529  \n",
       "years_with_current_supervisor                       1.000000  "
      ]
     },
     "execution_count": 6,
     "metadata": {},
     "output_type": "execute_result"
    }
   ],
   "source": [
    "corr_df = df[numerical_vars].corr()\n",
    "corr_df"
   ]
  },
  {
   "cell_type": "code",
   "execution_count": 7,
   "metadata": {},
   "outputs": [],
   "source": [
    "# created new numerical features list after droping 'years_at_company' and 'years_in_current_job' features\n",
    "new_numerical_vars = ['age','commuting_distance','last_raise_pct','total_years_working','years_since_last_promotion','years_with_current_supervisor']"
   ]
  },
  {
   "cell_type": "markdown",
   "metadata": {},
   "source": [
    "### Insights from above Colinear matrix\n",
    "- 'years_at_company' and 'years_in_current_job' are two numerical features whose colinearity with each other and few other features is close to 0.80\n",
    "- If the correlation > 0.8 there are chances of high multicollinearity, so droping 'years_at_company' and 'years_in_current_job' features will reduce the risk factor."
   ]
  },
  {
   "cell_type": "markdown",
   "metadata": {},
   "source": [
    "# Question 4\n",
    "- Split the data into training and test sets.  \n",
    "- Use 20% of the data for test and a random state of 124.  "
   ]
  },
  {
   "cell_type": "code",
   "execution_count": 8,
   "metadata": {},
   "outputs": [],
   "source": [
    "from sklearn.model_selection import train_test_split\n",
    "\n",
    "X = df.drop(['years_at_company','left_company','years_in_current_job'],axis='columns')\n",
    "y = df['left_company']\n",
    "X_train, X_test, y_train, y_test = train_test_split(X, y, test_size=0.2,random_state=124)"
   ]
  },
  {
   "cell_type": "markdown",
   "metadata": {},
   "source": [
    "# Question 5\n",
    "- Create a pipeline to process the numerical data.  \n",
    "- Create a pipeline to process the categorical data.  \n",
    "\n",
    "Verify each pipeline contains the columns you would expect using a fit_transform on the training data, i.e., print the shapes of the fit_transforms for each pipeline."
   ]
  },
  {
   "cell_type": "code",
   "execution_count": 9,
   "metadata": {},
   "outputs": [],
   "source": [
    "from sklearn import set_config\n",
    "from sklearn.pipeline import Pipeline\n",
    "from sklearn.impute import SimpleImputer\n",
    "from sklearn.preprocessing import StandardScaler\n",
    "from sklearn.preprocessing import OneHotEncoder"
   ]
  },
  {
   "cell_type": "markdown",
   "metadata": {},
   "source": [
    "### Numerical Pipeline"
   ]
  },
  {
   "cell_type": "code",
   "execution_count": 10,
   "metadata": {},
   "outputs": [
    {
     "data": {
      "text/html": [
       "<style>#sk-93f45c5a-21d4-4437-8d4d-bce5e0cc9cd0 {color: black;background-color: white;}#sk-93f45c5a-21d4-4437-8d4d-bce5e0cc9cd0 pre{padding: 0;}#sk-93f45c5a-21d4-4437-8d4d-bce5e0cc9cd0 div.sk-toggleable {background-color: white;}#sk-93f45c5a-21d4-4437-8d4d-bce5e0cc9cd0 label.sk-toggleable__label {cursor: pointer;display: block;width: 100%;margin-bottom: 0;padding: 0.3em;box-sizing: border-box;text-align: center;}#sk-93f45c5a-21d4-4437-8d4d-bce5e0cc9cd0 label.sk-toggleable__label-arrow:before {content: \"▸\";float: left;margin-right: 0.25em;color: #696969;}#sk-93f45c5a-21d4-4437-8d4d-bce5e0cc9cd0 label.sk-toggleable__label-arrow:hover:before {color: black;}#sk-93f45c5a-21d4-4437-8d4d-bce5e0cc9cd0 div.sk-estimator:hover label.sk-toggleable__label-arrow:before {color: black;}#sk-93f45c5a-21d4-4437-8d4d-bce5e0cc9cd0 div.sk-toggleable__content {max-height: 0;max-width: 0;overflow: hidden;text-align: left;background-color: #f0f8ff;}#sk-93f45c5a-21d4-4437-8d4d-bce5e0cc9cd0 div.sk-toggleable__content pre {margin: 0.2em;color: black;border-radius: 0.25em;background-color: #f0f8ff;}#sk-93f45c5a-21d4-4437-8d4d-bce5e0cc9cd0 input.sk-toggleable__control:checked~div.sk-toggleable__content {max-height: 200px;max-width: 100%;overflow: auto;}#sk-93f45c5a-21d4-4437-8d4d-bce5e0cc9cd0 input.sk-toggleable__control:checked~label.sk-toggleable__label-arrow:before {content: \"▾\";}#sk-93f45c5a-21d4-4437-8d4d-bce5e0cc9cd0 div.sk-estimator input.sk-toggleable__control:checked~label.sk-toggleable__label {background-color: #d4ebff;}#sk-93f45c5a-21d4-4437-8d4d-bce5e0cc9cd0 div.sk-label input.sk-toggleable__control:checked~label.sk-toggleable__label {background-color: #d4ebff;}#sk-93f45c5a-21d4-4437-8d4d-bce5e0cc9cd0 input.sk-hidden--visually {border: 0;clip: rect(1px 1px 1px 1px);clip: rect(1px, 1px, 1px, 1px);height: 1px;margin: -1px;overflow: hidden;padding: 0;position: absolute;width: 1px;}#sk-93f45c5a-21d4-4437-8d4d-bce5e0cc9cd0 div.sk-estimator {font-family: monospace;background-color: #f0f8ff;border: 1px dotted black;border-radius: 0.25em;box-sizing: border-box;margin-bottom: 0.5em;}#sk-93f45c5a-21d4-4437-8d4d-bce5e0cc9cd0 div.sk-estimator:hover {background-color: #d4ebff;}#sk-93f45c5a-21d4-4437-8d4d-bce5e0cc9cd0 div.sk-parallel-item::after {content: \"\";width: 100%;border-bottom: 1px solid gray;flex-grow: 1;}#sk-93f45c5a-21d4-4437-8d4d-bce5e0cc9cd0 div.sk-label:hover label.sk-toggleable__label {background-color: #d4ebff;}#sk-93f45c5a-21d4-4437-8d4d-bce5e0cc9cd0 div.sk-serial::before {content: \"\";position: absolute;border-left: 1px solid gray;box-sizing: border-box;top: 2em;bottom: 0;left: 50%;}#sk-93f45c5a-21d4-4437-8d4d-bce5e0cc9cd0 div.sk-serial {display: flex;flex-direction: column;align-items: center;background-color: white;padding-right: 0.2em;padding-left: 0.2em;}#sk-93f45c5a-21d4-4437-8d4d-bce5e0cc9cd0 div.sk-item {z-index: 1;}#sk-93f45c5a-21d4-4437-8d4d-bce5e0cc9cd0 div.sk-parallel {display: flex;align-items: stretch;justify-content: center;background-color: white;}#sk-93f45c5a-21d4-4437-8d4d-bce5e0cc9cd0 div.sk-parallel::before {content: \"\";position: absolute;border-left: 1px solid gray;box-sizing: border-box;top: 2em;bottom: 0;left: 50%;}#sk-93f45c5a-21d4-4437-8d4d-bce5e0cc9cd0 div.sk-parallel-item {display: flex;flex-direction: column;position: relative;background-color: white;}#sk-93f45c5a-21d4-4437-8d4d-bce5e0cc9cd0 div.sk-parallel-item:first-child::after {align-self: flex-end;width: 50%;}#sk-93f45c5a-21d4-4437-8d4d-bce5e0cc9cd0 div.sk-parallel-item:last-child::after {align-self: flex-start;width: 50%;}#sk-93f45c5a-21d4-4437-8d4d-bce5e0cc9cd0 div.sk-parallel-item:only-child::after {width: 0;}#sk-93f45c5a-21d4-4437-8d4d-bce5e0cc9cd0 div.sk-dashed-wrapped {border: 1px dashed gray;margin: 0 0.4em 0.5em 0.4em;box-sizing: border-box;padding-bottom: 0.4em;background-color: white;position: relative;}#sk-93f45c5a-21d4-4437-8d4d-bce5e0cc9cd0 div.sk-label label {font-family: monospace;font-weight: bold;background-color: white;display: inline-block;line-height: 1.2em;}#sk-93f45c5a-21d4-4437-8d4d-bce5e0cc9cd0 div.sk-label-container {position: relative;z-index: 2;text-align: center;}#sk-93f45c5a-21d4-4437-8d4d-bce5e0cc9cd0 div.sk-container {/* jupyter's `normalize.less` sets `[hidden] { display: none; }` but bootstrap.min.css set `[hidden] { display: none !important; }` so we also need the `!important` here to be able to override the default hidden behavior on the sphinx rendered scikit-learn.org. See: https://github.com/scikit-learn/scikit-learn/issues/21755 */display: inline-block !important;position: relative;}#sk-93f45c5a-21d4-4437-8d4d-bce5e0cc9cd0 div.sk-text-repr-fallback {display: none;}</style><div id=\"sk-93f45c5a-21d4-4437-8d4d-bce5e0cc9cd0\" class=\"sk-top-container\"><div class=\"sk-text-repr-fallback\"><pre>Pipeline(steps=[(&#x27;impute_missing&#x27;, SimpleImputer(strategy=&#x27;median&#x27;)),\n",
       "                (&#x27;standardize_num&#x27;, StandardScaler())])</pre><b>Please rerun this cell to show the HTML repr or trust the notebook.</b></div><div class=\"sk-container\" hidden><div class=\"sk-item sk-dashed-wrapped\"><div class=\"sk-label-container\"><div class=\"sk-label sk-toggleable\"><input class=\"sk-toggleable__control sk-hidden--visually\" id=\"0b51c48f-c9eb-4c59-8901-3055c9f2d0bd\" type=\"checkbox\" ><label for=\"0b51c48f-c9eb-4c59-8901-3055c9f2d0bd\" class=\"sk-toggleable__label sk-toggleable__label-arrow\">Pipeline</label><div class=\"sk-toggleable__content\"><pre>Pipeline(steps=[(&#x27;impute_missing&#x27;, SimpleImputer(strategy=&#x27;median&#x27;)),\n",
       "                (&#x27;standardize_num&#x27;, StandardScaler())])</pre></div></div></div><div class=\"sk-serial\"><div class=\"sk-item\"><div class=\"sk-estimator sk-toggleable\"><input class=\"sk-toggleable__control sk-hidden--visually\" id=\"8a9e2ae3-a9cb-4e10-aa46-ef5edb29919b\" type=\"checkbox\" ><label for=\"8a9e2ae3-a9cb-4e10-aa46-ef5edb29919b\" class=\"sk-toggleable__label sk-toggleable__label-arrow\">SimpleImputer</label><div class=\"sk-toggleable__content\"><pre>SimpleImputer(strategy=&#x27;median&#x27;)</pre></div></div></div><div class=\"sk-item\"><div class=\"sk-estimator sk-toggleable\"><input class=\"sk-toggleable__control sk-hidden--visually\" id=\"1eff6d2f-fade-43a5-bb6e-1d9bc1c429d0\" type=\"checkbox\" ><label for=\"1eff6d2f-fade-43a5-bb6e-1d9bc1c429d0\" class=\"sk-toggleable__label sk-toggleable__label-arrow\">StandardScaler</label><div class=\"sk-toggleable__content\"><pre>StandardScaler()</pre></div></div></div></div></div></div></div>"
      ],
      "text/plain": [
       "Pipeline(steps=[('impute_missing', SimpleImputer(strategy='median')),\n",
       "                ('standardize_num', StandardScaler())])"
      ]
     },
     "execution_count": 10,
     "metadata": {},
     "output_type": "execute_result"
    }
   ],
   "source": [
    "numerical_pipeline = Pipeline([('impute_missing', SimpleImputer(strategy='median')),\n",
    "                           ('standardize_num', StandardScaler())\n",
    "                        ])\n",
    "set_config(display='diagram')\n",
    "numerical_pipeline"
   ]
  },
  {
   "cell_type": "code",
   "execution_count": 11,
   "metadata": {},
   "outputs": [
    {
     "name": "stdout",
     "output_type": "stream",
     "text": [
      "Actual numerical rows and columns: (800, 6)\n",
      "Transformed numerical rows and columns: (800, 6)\n"
     ]
    }
   ],
   "source": [
    "transformed_numerical_rows_columns = numerical_pipeline.fit_transform(X_train[new_numerical_vars]).shape\n",
    "actual_numerical_rows_columns = X_train[new_numerical_vars].shape\n",
    "print(\"Actual numerical rows and columns:\",actual_numerical_rows_columns)\n",
    "print(\"Transformed numerical rows and columns:\",transformed_numerical_rows_columns)"
   ]
  },
  {
   "cell_type": "code",
   "execution_count": 12,
   "metadata": {},
   "outputs": [
    {
     "data": {
      "text/plain": [
       "True"
      ]
     },
     "execution_count": 12,
     "metadata": {},
     "output_type": "execute_result"
    }
   ],
   "source": [
    "actual_numerical_rows_columns == transformed_numerical_rows_columns"
   ]
  },
  {
   "cell_type": "markdown",
   "metadata": {},
   "source": [
    "### Categorical Pipeline"
   ]
  },
  {
   "cell_type": "code",
   "execution_count": 13,
   "metadata": {},
   "outputs": [
    {
     "data": {
      "text/html": [
       "<style>#sk-5b8d531e-bcbb-415e-ad4b-dfeb870ec701 {color: black;background-color: white;}#sk-5b8d531e-bcbb-415e-ad4b-dfeb870ec701 pre{padding: 0;}#sk-5b8d531e-bcbb-415e-ad4b-dfeb870ec701 div.sk-toggleable {background-color: white;}#sk-5b8d531e-bcbb-415e-ad4b-dfeb870ec701 label.sk-toggleable__label {cursor: pointer;display: block;width: 100%;margin-bottom: 0;padding: 0.3em;box-sizing: border-box;text-align: center;}#sk-5b8d531e-bcbb-415e-ad4b-dfeb870ec701 label.sk-toggleable__label-arrow:before {content: \"▸\";float: left;margin-right: 0.25em;color: #696969;}#sk-5b8d531e-bcbb-415e-ad4b-dfeb870ec701 label.sk-toggleable__label-arrow:hover:before {color: black;}#sk-5b8d531e-bcbb-415e-ad4b-dfeb870ec701 div.sk-estimator:hover label.sk-toggleable__label-arrow:before {color: black;}#sk-5b8d531e-bcbb-415e-ad4b-dfeb870ec701 div.sk-toggleable__content {max-height: 0;max-width: 0;overflow: hidden;text-align: left;background-color: #f0f8ff;}#sk-5b8d531e-bcbb-415e-ad4b-dfeb870ec701 div.sk-toggleable__content pre {margin: 0.2em;color: black;border-radius: 0.25em;background-color: #f0f8ff;}#sk-5b8d531e-bcbb-415e-ad4b-dfeb870ec701 input.sk-toggleable__control:checked~div.sk-toggleable__content {max-height: 200px;max-width: 100%;overflow: auto;}#sk-5b8d531e-bcbb-415e-ad4b-dfeb870ec701 input.sk-toggleable__control:checked~label.sk-toggleable__label-arrow:before {content: \"▾\";}#sk-5b8d531e-bcbb-415e-ad4b-dfeb870ec701 div.sk-estimator input.sk-toggleable__control:checked~label.sk-toggleable__label {background-color: #d4ebff;}#sk-5b8d531e-bcbb-415e-ad4b-dfeb870ec701 div.sk-label input.sk-toggleable__control:checked~label.sk-toggleable__label {background-color: #d4ebff;}#sk-5b8d531e-bcbb-415e-ad4b-dfeb870ec701 input.sk-hidden--visually {border: 0;clip: rect(1px 1px 1px 1px);clip: rect(1px, 1px, 1px, 1px);height: 1px;margin: -1px;overflow: hidden;padding: 0;position: absolute;width: 1px;}#sk-5b8d531e-bcbb-415e-ad4b-dfeb870ec701 div.sk-estimator {font-family: monospace;background-color: #f0f8ff;border: 1px dotted black;border-radius: 0.25em;box-sizing: border-box;margin-bottom: 0.5em;}#sk-5b8d531e-bcbb-415e-ad4b-dfeb870ec701 div.sk-estimator:hover {background-color: #d4ebff;}#sk-5b8d531e-bcbb-415e-ad4b-dfeb870ec701 div.sk-parallel-item::after {content: \"\";width: 100%;border-bottom: 1px solid gray;flex-grow: 1;}#sk-5b8d531e-bcbb-415e-ad4b-dfeb870ec701 div.sk-label:hover label.sk-toggleable__label {background-color: #d4ebff;}#sk-5b8d531e-bcbb-415e-ad4b-dfeb870ec701 div.sk-serial::before {content: \"\";position: absolute;border-left: 1px solid gray;box-sizing: border-box;top: 2em;bottom: 0;left: 50%;}#sk-5b8d531e-bcbb-415e-ad4b-dfeb870ec701 div.sk-serial {display: flex;flex-direction: column;align-items: center;background-color: white;padding-right: 0.2em;padding-left: 0.2em;}#sk-5b8d531e-bcbb-415e-ad4b-dfeb870ec701 div.sk-item {z-index: 1;}#sk-5b8d531e-bcbb-415e-ad4b-dfeb870ec701 div.sk-parallel {display: flex;align-items: stretch;justify-content: center;background-color: white;}#sk-5b8d531e-bcbb-415e-ad4b-dfeb870ec701 div.sk-parallel::before {content: \"\";position: absolute;border-left: 1px solid gray;box-sizing: border-box;top: 2em;bottom: 0;left: 50%;}#sk-5b8d531e-bcbb-415e-ad4b-dfeb870ec701 div.sk-parallel-item {display: flex;flex-direction: column;position: relative;background-color: white;}#sk-5b8d531e-bcbb-415e-ad4b-dfeb870ec701 div.sk-parallel-item:first-child::after {align-self: flex-end;width: 50%;}#sk-5b8d531e-bcbb-415e-ad4b-dfeb870ec701 div.sk-parallel-item:last-child::after {align-self: flex-start;width: 50%;}#sk-5b8d531e-bcbb-415e-ad4b-dfeb870ec701 div.sk-parallel-item:only-child::after {width: 0;}#sk-5b8d531e-bcbb-415e-ad4b-dfeb870ec701 div.sk-dashed-wrapped {border: 1px dashed gray;margin: 0 0.4em 0.5em 0.4em;box-sizing: border-box;padding-bottom: 0.4em;background-color: white;position: relative;}#sk-5b8d531e-bcbb-415e-ad4b-dfeb870ec701 div.sk-label label {font-family: monospace;font-weight: bold;background-color: white;display: inline-block;line-height: 1.2em;}#sk-5b8d531e-bcbb-415e-ad4b-dfeb870ec701 div.sk-label-container {position: relative;z-index: 2;text-align: center;}#sk-5b8d531e-bcbb-415e-ad4b-dfeb870ec701 div.sk-container {/* jupyter's `normalize.less` sets `[hidden] { display: none; }` but bootstrap.min.css set `[hidden] { display: none !important; }` so we also need the `!important` here to be able to override the default hidden behavior on the sphinx rendered scikit-learn.org. See: https://github.com/scikit-learn/scikit-learn/issues/21755 */display: inline-block !important;position: relative;}#sk-5b8d531e-bcbb-415e-ad4b-dfeb870ec701 div.sk-text-repr-fallback {display: none;}</style><div id=\"sk-5b8d531e-bcbb-415e-ad4b-dfeb870ec701\" class=\"sk-top-container\"><div class=\"sk-text-repr-fallback\"><pre>Pipeline(steps=[(&#x27;impute_missing_cats&#x27;,\n",
       "                 SimpleImputer(strategy=&#x27;most_frequent&#x27;)),\n",
       "                (&#x27;create_dummies_cats&#x27;,\n",
       "                 OneHotEncoder(drop=&#x27;first&#x27;, handle_unknown=&#x27;ignore&#x27;))])</pre><b>Please rerun this cell to show the HTML repr or trust the notebook.</b></div><div class=\"sk-container\" hidden><div class=\"sk-item sk-dashed-wrapped\"><div class=\"sk-label-container\"><div class=\"sk-label sk-toggleable\"><input class=\"sk-toggleable__control sk-hidden--visually\" id=\"391d58d2-0739-4fe6-82f4-dcb0ab1eb34e\" type=\"checkbox\" ><label for=\"391d58d2-0739-4fe6-82f4-dcb0ab1eb34e\" class=\"sk-toggleable__label sk-toggleable__label-arrow\">Pipeline</label><div class=\"sk-toggleable__content\"><pre>Pipeline(steps=[(&#x27;impute_missing_cats&#x27;,\n",
       "                 SimpleImputer(strategy=&#x27;most_frequent&#x27;)),\n",
       "                (&#x27;create_dummies_cats&#x27;,\n",
       "                 OneHotEncoder(drop=&#x27;first&#x27;, handle_unknown=&#x27;ignore&#x27;))])</pre></div></div></div><div class=\"sk-serial\"><div class=\"sk-item\"><div class=\"sk-estimator sk-toggleable\"><input class=\"sk-toggleable__control sk-hidden--visually\" id=\"12c2a3a3-7f1b-438c-9ac5-58337ee5cf46\" type=\"checkbox\" ><label for=\"12c2a3a3-7f1b-438c-9ac5-58337ee5cf46\" class=\"sk-toggleable__label sk-toggleable__label-arrow\">SimpleImputer</label><div class=\"sk-toggleable__content\"><pre>SimpleImputer(strategy=&#x27;most_frequent&#x27;)</pre></div></div></div><div class=\"sk-item\"><div class=\"sk-estimator sk-toggleable\"><input class=\"sk-toggleable__control sk-hidden--visually\" id=\"ec3fe6c0-da37-4cbf-b7dd-d22944f45204\" type=\"checkbox\" ><label for=\"ec3fe6c0-da37-4cbf-b7dd-d22944f45204\" class=\"sk-toggleable__label sk-toggleable__label-arrow\">OneHotEncoder</label><div class=\"sk-toggleable__content\"><pre>OneHotEncoder(drop=&#x27;first&#x27;, handle_unknown=&#x27;ignore&#x27;)</pre></div></div></div></div></div></div></div>"
      ],
      "text/plain": [
       "Pipeline(steps=[('impute_missing_cats',\n",
       "                 SimpleImputer(strategy='most_frequent')),\n",
       "                ('create_dummies_cats',\n",
       "                 OneHotEncoder(drop='first', handle_unknown='ignore'))])"
      ]
     },
     "execution_count": 13,
     "metadata": {},
     "output_type": "execute_result"
    }
   ],
   "source": [
    "categorical_pipeline = Pipeline([('impute_missing_cats', SimpleImputer(strategy='most_frequent')),\n",
    "                          ('create_dummies_cats', OneHotEncoder(handle_unknown='ignore', drop='first'))])\n",
    "set_config(display='diagram')\n",
    "categorical_pipeline"
   ]
  },
  {
   "cell_type": "code",
   "execution_count": 14,
   "metadata": {},
   "outputs": [
    {
     "name": "stdout",
     "output_type": "stream",
     "text": [
      "Actual categorical columns: 30\n",
      "Transformed categorical columns: 30\n"
     ]
    }
   ],
   "source": [
    "transformed_categorical_columns = categorical_pipeline.fit_transform(X_train[categorical_vars]).shape[1]\n",
    "\n",
    "# the columns that are created after passing into OneHotEncoder\n",
    "actual_categorical_columns = categorical_pipeline.named_steps['create_dummies_cats'].get_feature_names_out().shape[0]\n",
    "\n",
    "print(\"Actual categorical columns:\",actual_categorical_columns)\n",
    "print(\"Transformed categorical columns:\",transformed_categorical_columns)"
   ]
  },
  {
   "cell_type": "code",
   "execution_count": 15,
   "metadata": {},
   "outputs": [
    {
     "data": {
      "text/plain": [
       "True"
      ]
     },
     "execution_count": 15,
     "metadata": {},
     "output_type": "execute_result"
    }
   ],
   "source": [
    "transformed_categorical_columns == actual_categorical_columns"
   ]
  },
  {
   "cell_type": "markdown",
   "metadata": {},
   "source": [
    "# Question 6\n",
    "- Create a pipeline that combines the pre-processing and implements a logistic regression model.  \n",
    "- Print the accuracy on the training set and the test set.\n",
    "- Do you have any concerns of overfitting based on the differences between the two accuracy scores?"
   ]
  },
  {
   "cell_type": "code",
   "execution_count": 16,
   "metadata": {},
   "outputs": [
    {
     "data": {
      "text/html": [
       "<style>#sk-f5678b3d-bac5-4100-9139-1726404259fa {color: black;background-color: white;}#sk-f5678b3d-bac5-4100-9139-1726404259fa pre{padding: 0;}#sk-f5678b3d-bac5-4100-9139-1726404259fa div.sk-toggleable {background-color: white;}#sk-f5678b3d-bac5-4100-9139-1726404259fa label.sk-toggleable__label {cursor: pointer;display: block;width: 100%;margin-bottom: 0;padding: 0.3em;box-sizing: border-box;text-align: center;}#sk-f5678b3d-bac5-4100-9139-1726404259fa label.sk-toggleable__label-arrow:before {content: \"▸\";float: left;margin-right: 0.25em;color: #696969;}#sk-f5678b3d-bac5-4100-9139-1726404259fa label.sk-toggleable__label-arrow:hover:before {color: black;}#sk-f5678b3d-bac5-4100-9139-1726404259fa div.sk-estimator:hover label.sk-toggleable__label-arrow:before {color: black;}#sk-f5678b3d-bac5-4100-9139-1726404259fa div.sk-toggleable__content {max-height: 0;max-width: 0;overflow: hidden;text-align: left;background-color: #f0f8ff;}#sk-f5678b3d-bac5-4100-9139-1726404259fa div.sk-toggleable__content pre {margin: 0.2em;color: black;border-radius: 0.25em;background-color: #f0f8ff;}#sk-f5678b3d-bac5-4100-9139-1726404259fa input.sk-toggleable__control:checked~div.sk-toggleable__content {max-height: 200px;max-width: 100%;overflow: auto;}#sk-f5678b3d-bac5-4100-9139-1726404259fa input.sk-toggleable__control:checked~label.sk-toggleable__label-arrow:before {content: \"▾\";}#sk-f5678b3d-bac5-4100-9139-1726404259fa div.sk-estimator input.sk-toggleable__control:checked~label.sk-toggleable__label {background-color: #d4ebff;}#sk-f5678b3d-bac5-4100-9139-1726404259fa div.sk-label input.sk-toggleable__control:checked~label.sk-toggleable__label {background-color: #d4ebff;}#sk-f5678b3d-bac5-4100-9139-1726404259fa input.sk-hidden--visually {border: 0;clip: rect(1px 1px 1px 1px);clip: rect(1px, 1px, 1px, 1px);height: 1px;margin: -1px;overflow: hidden;padding: 0;position: absolute;width: 1px;}#sk-f5678b3d-bac5-4100-9139-1726404259fa div.sk-estimator {font-family: monospace;background-color: #f0f8ff;border: 1px dotted black;border-radius: 0.25em;box-sizing: border-box;margin-bottom: 0.5em;}#sk-f5678b3d-bac5-4100-9139-1726404259fa div.sk-estimator:hover {background-color: #d4ebff;}#sk-f5678b3d-bac5-4100-9139-1726404259fa div.sk-parallel-item::after {content: \"\";width: 100%;border-bottom: 1px solid gray;flex-grow: 1;}#sk-f5678b3d-bac5-4100-9139-1726404259fa div.sk-label:hover label.sk-toggleable__label {background-color: #d4ebff;}#sk-f5678b3d-bac5-4100-9139-1726404259fa div.sk-serial::before {content: \"\";position: absolute;border-left: 1px solid gray;box-sizing: border-box;top: 2em;bottom: 0;left: 50%;}#sk-f5678b3d-bac5-4100-9139-1726404259fa div.sk-serial {display: flex;flex-direction: column;align-items: center;background-color: white;padding-right: 0.2em;padding-left: 0.2em;}#sk-f5678b3d-bac5-4100-9139-1726404259fa div.sk-item {z-index: 1;}#sk-f5678b3d-bac5-4100-9139-1726404259fa div.sk-parallel {display: flex;align-items: stretch;justify-content: center;background-color: white;}#sk-f5678b3d-bac5-4100-9139-1726404259fa div.sk-parallel::before {content: \"\";position: absolute;border-left: 1px solid gray;box-sizing: border-box;top: 2em;bottom: 0;left: 50%;}#sk-f5678b3d-bac5-4100-9139-1726404259fa div.sk-parallel-item {display: flex;flex-direction: column;position: relative;background-color: white;}#sk-f5678b3d-bac5-4100-9139-1726404259fa div.sk-parallel-item:first-child::after {align-self: flex-end;width: 50%;}#sk-f5678b3d-bac5-4100-9139-1726404259fa div.sk-parallel-item:last-child::after {align-self: flex-start;width: 50%;}#sk-f5678b3d-bac5-4100-9139-1726404259fa div.sk-parallel-item:only-child::after {width: 0;}#sk-f5678b3d-bac5-4100-9139-1726404259fa div.sk-dashed-wrapped {border: 1px dashed gray;margin: 0 0.4em 0.5em 0.4em;box-sizing: border-box;padding-bottom: 0.4em;background-color: white;position: relative;}#sk-f5678b3d-bac5-4100-9139-1726404259fa div.sk-label label {font-family: monospace;font-weight: bold;background-color: white;display: inline-block;line-height: 1.2em;}#sk-f5678b3d-bac5-4100-9139-1726404259fa div.sk-label-container {position: relative;z-index: 2;text-align: center;}#sk-f5678b3d-bac5-4100-9139-1726404259fa div.sk-container {/* jupyter's `normalize.less` sets `[hidden] { display: none; }` but bootstrap.min.css set `[hidden] { display: none !important; }` so we also need the `!important` here to be able to override the default hidden behavior on the sphinx rendered scikit-learn.org. See: https://github.com/scikit-learn/scikit-learn/issues/21755 */display: inline-block !important;position: relative;}#sk-f5678b3d-bac5-4100-9139-1726404259fa div.sk-text-repr-fallback {display: none;}</style><div id=\"sk-f5678b3d-bac5-4100-9139-1726404259fa\" class=\"sk-top-container\"><div class=\"sk-text-repr-fallback\"><pre>ColumnTransformer(transformers=[(&#x27;proc_numeric&#x27;,\n",
       "                                 Pipeline(steps=[(&#x27;impute_missing&#x27;,\n",
       "                                                  SimpleImputer(strategy=&#x27;median&#x27;)),\n",
       "                                                 (&#x27;standardize_num&#x27;,\n",
       "                                                  StandardScaler())]),\n",
       "                                 [&#x27;age&#x27;, &#x27;commuting_distance&#x27;, &#x27;last_raise_pct&#x27;,\n",
       "                                  &#x27;total_years_working&#x27;,\n",
       "                                  &#x27;years_since_last_promotion&#x27;,\n",
       "                                  &#x27;years_with_current_supervisor&#x27;]),\n",
       "                                (&#x27;create_dummies&#x27;,\n",
       "                                 Pipeline(steps=[(&#x27;impute_missing_cats&#x27;,\n",
       "                                                  SimpleImputer(strategy=&#x27;most_frequent&#x27;)),\n",
       "                                                 (&#x27;create_dummies_cats&#x27;,\n",
       "                                                  OneHotEncoder(drop=&#x27;first&#x27;,\n",
       "                                                                handle_unknown=&#x27;ignore&#x27;))]),\n",
       "                                 [&#x27;frequency_of_travel&#x27;, &#x27;department&#x27;,\n",
       "                                  &#x27;education&#x27;, &#x27;satisfaction_with_environment&#x27;,\n",
       "                                  &#x27;gender&#x27;, &#x27;seniority_level&#x27;, &#x27;position&#x27;,\n",
       "                                  &#x27;satisfaction_with_job&#x27;, &#x27;married_or_single&#x27;,\n",
       "                                  &#x27;last_performance_rating&#x27;])])</pre><b>Please rerun this cell to show the HTML repr or trust the notebook.</b></div><div class=\"sk-container\" hidden><div class=\"sk-item sk-dashed-wrapped\"><div class=\"sk-label-container\"><div class=\"sk-label sk-toggleable\"><input class=\"sk-toggleable__control sk-hidden--visually\" id=\"95fde87b-4289-46cb-b35b-0217037594ef\" type=\"checkbox\" ><label for=\"95fde87b-4289-46cb-b35b-0217037594ef\" class=\"sk-toggleable__label sk-toggleable__label-arrow\">ColumnTransformer</label><div class=\"sk-toggleable__content\"><pre>ColumnTransformer(transformers=[(&#x27;proc_numeric&#x27;,\n",
       "                                 Pipeline(steps=[(&#x27;impute_missing&#x27;,\n",
       "                                                  SimpleImputer(strategy=&#x27;median&#x27;)),\n",
       "                                                 (&#x27;standardize_num&#x27;,\n",
       "                                                  StandardScaler())]),\n",
       "                                 [&#x27;age&#x27;, &#x27;commuting_distance&#x27;, &#x27;last_raise_pct&#x27;,\n",
       "                                  &#x27;total_years_working&#x27;,\n",
       "                                  &#x27;years_since_last_promotion&#x27;,\n",
       "                                  &#x27;years_with_current_supervisor&#x27;]),\n",
       "                                (&#x27;create_dummies&#x27;,\n",
       "                                 Pipeline(steps=[(&#x27;impute_missing_cats&#x27;,\n",
       "                                                  SimpleImputer(strategy=&#x27;most_frequent&#x27;)),\n",
       "                                                 (&#x27;create_dummies_cats&#x27;,\n",
       "                                                  OneHotEncoder(drop=&#x27;first&#x27;,\n",
       "                                                                handle_unknown=&#x27;ignore&#x27;))]),\n",
       "                                 [&#x27;frequency_of_travel&#x27;, &#x27;department&#x27;,\n",
       "                                  &#x27;education&#x27;, &#x27;satisfaction_with_environment&#x27;,\n",
       "                                  &#x27;gender&#x27;, &#x27;seniority_level&#x27;, &#x27;position&#x27;,\n",
       "                                  &#x27;satisfaction_with_job&#x27;, &#x27;married_or_single&#x27;,\n",
       "                                  &#x27;last_performance_rating&#x27;])])</pre></div></div></div><div class=\"sk-parallel\"><div class=\"sk-parallel-item\"><div class=\"sk-item\"><div class=\"sk-label-container\"><div class=\"sk-label sk-toggleable\"><input class=\"sk-toggleable__control sk-hidden--visually\" id=\"ba51ec47-7135-4e79-ad14-b3b395f5aaa2\" type=\"checkbox\" ><label for=\"ba51ec47-7135-4e79-ad14-b3b395f5aaa2\" class=\"sk-toggleable__label sk-toggleable__label-arrow\">proc_numeric</label><div class=\"sk-toggleable__content\"><pre>[&#x27;age&#x27;, &#x27;commuting_distance&#x27;, &#x27;last_raise_pct&#x27;, &#x27;total_years_working&#x27;, &#x27;years_since_last_promotion&#x27;, &#x27;years_with_current_supervisor&#x27;]</pre></div></div></div><div class=\"sk-serial\"><div class=\"sk-item\"><div class=\"sk-serial\"><div class=\"sk-item\"><div class=\"sk-estimator sk-toggleable\"><input class=\"sk-toggleable__control sk-hidden--visually\" id=\"35a0cb52-0b0a-4f5a-8ebe-921f1c1d9ef8\" type=\"checkbox\" ><label for=\"35a0cb52-0b0a-4f5a-8ebe-921f1c1d9ef8\" class=\"sk-toggleable__label sk-toggleable__label-arrow\">SimpleImputer</label><div class=\"sk-toggleable__content\"><pre>SimpleImputer(strategy=&#x27;median&#x27;)</pre></div></div></div><div class=\"sk-item\"><div class=\"sk-estimator sk-toggleable\"><input class=\"sk-toggleable__control sk-hidden--visually\" id=\"8da0ae39-d5eb-4402-b036-e0e2b8c89e08\" type=\"checkbox\" ><label for=\"8da0ae39-d5eb-4402-b036-e0e2b8c89e08\" class=\"sk-toggleable__label sk-toggleable__label-arrow\">StandardScaler</label><div class=\"sk-toggleable__content\"><pre>StandardScaler()</pre></div></div></div></div></div></div></div></div><div class=\"sk-parallel-item\"><div class=\"sk-item\"><div class=\"sk-label-container\"><div class=\"sk-label sk-toggleable\"><input class=\"sk-toggleable__control sk-hidden--visually\" id=\"3b5be426-10dc-4804-a1fb-4ef87e270392\" type=\"checkbox\" ><label for=\"3b5be426-10dc-4804-a1fb-4ef87e270392\" class=\"sk-toggleable__label sk-toggleable__label-arrow\">create_dummies</label><div class=\"sk-toggleable__content\"><pre>[&#x27;frequency_of_travel&#x27;, &#x27;department&#x27;, &#x27;education&#x27;, &#x27;satisfaction_with_environment&#x27;, &#x27;gender&#x27;, &#x27;seniority_level&#x27;, &#x27;position&#x27;, &#x27;satisfaction_with_job&#x27;, &#x27;married_or_single&#x27;, &#x27;last_performance_rating&#x27;]</pre></div></div></div><div class=\"sk-serial\"><div class=\"sk-item\"><div class=\"sk-serial\"><div class=\"sk-item\"><div class=\"sk-estimator sk-toggleable\"><input class=\"sk-toggleable__control sk-hidden--visually\" id=\"df2d2f56-1e3f-4a64-8186-858d85721d04\" type=\"checkbox\" ><label for=\"df2d2f56-1e3f-4a64-8186-858d85721d04\" class=\"sk-toggleable__label sk-toggleable__label-arrow\">SimpleImputer</label><div class=\"sk-toggleable__content\"><pre>SimpleImputer(strategy=&#x27;most_frequent&#x27;)</pre></div></div></div><div class=\"sk-item\"><div class=\"sk-estimator sk-toggleable\"><input class=\"sk-toggleable__control sk-hidden--visually\" id=\"8ad6c40f-8208-4ecd-a844-db2fd2ecc405\" type=\"checkbox\" ><label for=\"8ad6c40f-8208-4ecd-a844-db2fd2ecc405\" class=\"sk-toggleable__label sk-toggleable__label-arrow\">OneHotEncoder</label><div class=\"sk-toggleable__content\"><pre>OneHotEncoder(drop=&#x27;first&#x27;, handle_unknown=&#x27;ignore&#x27;)</pre></div></div></div></div></div></div></div></div></div></div></div></div>"
      ],
      "text/plain": [
       "ColumnTransformer(transformers=[('proc_numeric',\n",
       "                                 Pipeline(steps=[('impute_missing',\n",
       "                                                  SimpleImputer(strategy='median')),\n",
       "                                                 ('standardize_num',\n",
       "                                                  StandardScaler())]),\n",
       "                                 ['age', 'commuting_distance', 'last_raise_pct',\n",
       "                                  'total_years_working',\n",
       "                                  'years_since_last_promotion',\n",
       "                                  'years_with_current_supervisor']),\n",
       "                                ('create_dummies',\n",
       "                                 Pipeline(steps=[('impute_missing_cats',\n",
       "                                                  SimpleImputer(strategy='most_frequent')),\n",
       "                                                 ('create_dummies_cats',\n",
       "                                                  OneHotEncoder(drop='first',\n",
       "                                                                handle_unknown='ignore'))]),\n",
       "                                 ['frequency_of_travel', 'department',\n",
       "                                  'education', 'satisfaction_with_environment',\n",
       "                                  'gender', 'seniority_level', 'position',\n",
       "                                  'satisfaction_with_job', 'married_or_single',\n",
       "                                  'last_performance_rating'])])"
      ]
     },
     "execution_count": 16,
     "metadata": {},
     "output_type": "execute_result"
    }
   ],
   "source": [
    "from sklearn.compose import ColumnTransformer\n",
    "processing_pipeline = ColumnTransformer(transformers=[('proc_numeric', numerical_pipeline, new_numerical_vars),\n",
    "                                                      ('create_dummies', categorical_pipeline, categorical_vars)])\n",
    "\n",
    "processing_pipeline"
   ]
  },
  {
   "cell_type": "code",
   "execution_count": 17,
   "metadata": {},
   "outputs": [
    {
     "data": {
      "text/html": [
       "<style>#sk-9309c1bd-5fcd-47dc-9b6a-41834945a964 {color: black;background-color: white;}#sk-9309c1bd-5fcd-47dc-9b6a-41834945a964 pre{padding: 0;}#sk-9309c1bd-5fcd-47dc-9b6a-41834945a964 div.sk-toggleable {background-color: white;}#sk-9309c1bd-5fcd-47dc-9b6a-41834945a964 label.sk-toggleable__label {cursor: pointer;display: block;width: 100%;margin-bottom: 0;padding: 0.3em;box-sizing: border-box;text-align: center;}#sk-9309c1bd-5fcd-47dc-9b6a-41834945a964 label.sk-toggleable__label-arrow:before {content: \"▸\";float: left;margin-right: 0.25em;color: #696969;}#sk-9309c1bd-5fcd-47dc-9b6a-41834945a964 label.sk-toggleable__label-arrow:hover:before {color: black;}#sk-9309c1bd-5fcd-47dc-9b6a-41834945a964 div.sk-estimator:hover label.sk-toggleable__label-arrow:before {color: black;}#sk-9309c1bd-5fcd-47dc-9b6a-41834945a964 div.sk-toggleable__content {max-height: 0;max-width: 0;overflow: hidden;text-align: left;background-color: #f0f8ff;}#sk-9309c1bd-5fcd-47dc-9b6a-41834945a964 div.sk-toggleable__content pre {margin: 0.2em;color: black;border-radius: 0.25em;background-color: #f0f8ff;}#sk-9309c1bd-5fcd-47dc-9b6a-41834945a964 input.sk-toggleable__control:checked~div.sk-toggleable__content {max-height: 200px;max-width: 100%;overflow: auto;}#sk-9309c1bd-5fcd-47dc-9b6a-41834945a964 input.sk-toggleable__control:checked~label.sk-toggleable__label-arrow:before {content: \"▾\";}#sk-9309c1bd-5fcd-47dc-9b6a-41834945a964 div.sk-estimator input.sk-toggleable__control:checked~label.sk-toggleable__label {background-color: #d4ebff;}#sk-9309c1bd-5fcd-47dc-9b6a-41834945a964 div.sk-label input.sk-toggleable__control:checked~label.sk-toggleable__label {background-color: #d4ebff;}#sk-9309c1bd-5fcd-47dc-9b6a-41834945a964 input.sk-hidden--visually {border: 0;clip: rect(1px 1px 1px 1px);clip: rect(1px, 1px, 1px, 1px);height: 1px;margin: -1px;overflow: hidden;padding: 0;position: absolute;width: 1px;}#sk-9309c1bd-5fcd-47dc-9b6a-41834945a964 div.sk-estimator {font-family: monospace;background-color: #f0f8ff;border: 1px dotted black;border-radius: 0.25em;box-sizing: border-box;margin-bottom: 0.5em;}#sk-9309c1bd-5fcd-47dc-9b6a-41834945a964 div.sk-estimator:hover {background-color: #d4ebff;}#sk-9309c1bd-5fcd-47dc-9b6a-41834945a964 div.sk-parallel-item::after {content: \"\";width: 100%;border-bottom: 1px solid gray;flex-grow: 1;}#sk-9309c1bd-5fcd-47dc-9b6a-41834945a964 div.sk-label:hover label.sk-toggleable__label {background-color: #d4ebff;}#sk-9309c1bd-5fcd-47dc-9b6a-41834945a964 div.sk-serial::before {content: \"\";position: absolute;border-left: 1px solid gray;box-sizing: border-box;top: 2em;bottom: 0;left: 50%;}#sk-9309c1bd-5fcd-47dc-9b6a-41834945a964 div.sk-serial {display: flex;flex-direction: column;align-items: center;background-color: white;padding-right: 0.2em;padding-left: 0.2em;}#sk-9309c1bd-5fcd-47dc-9b6a-41834945a964 div.sk-item {z-index: 1;}#sk-9309c1bd-5fcd-47dc-9b6a-41834945a964 div.sk-parallel {display: flex;align-items: stretch;justify-content: center;background-color: white;}#sk-9309c1bd-5fcd-47dc-9b6a-41834945a964 div.sk-parallel::before {content: \"\";position: absolute;border-left: 1px solid gray;box-sizing: border-box;top: 2em;bottom: 0;left: 50%;}#sk-9309c1bd-5fcd-47dc-9b6a-41834945a964 div.sk-parallel-item {display: flex;flex-direction: column;position: relative;background-color: white;}#sk-9309c1bd-5fcd-47dc-9b6a-41834945a964 div.sk-parallel-item:first-child::after {align-self: flex-end;width: 50%;}#sk-9309c1bd-5fcd-47dc-9b6a-41834945a964 div.sk-parallel-item:last-child::after {align-self: flex-start;width: 50%;}#sk-9309c1bd-5fcd-47dc-9b6a-41834945a964 div.sk-parallel-item:only-child::after {width: 0;}#sk-9309c1bd-5fcd-47dc-9b6a-41834945a964 div.sk-dashed-wrapped {border: 1px dashed gray;margin: 0 0.4em 0.5em 0.4em;box-sizing: border-box;padding-bottom: 0.4em;background-color: white;position: relative;}#sk-9309c1bd-5fcd-47dc-9b6a-41834945a964 div.sk-label label {font-family: monospace;font-weight: bold;background-color: white;display: inline-block;line-height: 1.2em;}#sk-9309c1bd-5fcd-47dc-9b6a-41834945a964 div.sk-label-container {position: relative;z-index: 2;text-align: center;}#sk-9309c1bd-5fcd-47dc-9b6a-41834945a964 div.sk-container {/* jupyter's `normalize.less` sets `[hidden] { display: none; }` but bootstrap.min.css set `[hidden] { display: none !important; }` so we also need the `!important` here to be able to override the default hidden behavior on the sphinx rendered scikit-learn.org. See: https://github.com/scikit-learn/scikit-learn/issues/21755 */display: inline-block !important;position: relative;}#sk-9309c1bd-5fcd-47dc-9b6a-41834945a964 div.sk-text-repr-fallback {display: none;}</style><div id=\"sk-9309c1bd-5fcd-47dc-9b6a-41834945a964\" class=\"sk-top-container\"><div class=\"sk-text-repr-fallback\"><pre>Pipeline(steps=[(&#x27;data_processing&#x27;,\n",
       "                 ColumnTransformer(transformers=[(&#x27;proc_numeric&#x27;,\n",
       "                                                  Pipeline(steps=[(&#x27;impute_missing&#x27;,\n",
       "                                                                   SimpleImputer(strategy=&#x27;median&#x27;)),\n",
       "                                                                  (&#x27;standardize_num&#x27;,\n",
       "                                                                   StandardScaler())]),\n",
       "                                                  [&#x27;age&#x27;, &#x27;commuting_distance&#x27;,\n",
       "                                                   &#x27;last_raise_pct&#x27;,\n",
       "                                                   &#x27;total_years_working&#x27;,\n",
       "                                                   &#x27;years_since_last_promotion&#x27;,\n",
       "                                                   &#x27;years_with_current_supervisor&#x27;]),\n",
       "                                                 (&#x27;create_dummies&#x27;,\n",
       "                                                  Pipeline(ste...ng_cats&#x27;,\n",
       "                                                                   SimpleImputer(strategy=&#x27;most_frequent&#x27;)),\n",
       "                                                                  (&#x27;create_dummies_cats&#x27;,\n",
       "                                                                   OneHotEncoder(drop=&#x27;first&#x27;,\n",
       "                                                                                 handle_unknown=&#x27;ignore&#x27;))]),\n",
       "                                                  [&#x27;frequency_of_travel&#x27;,\n",
       "                                                   &#x27;department&#x27;, &#x27;education&#x27;,\n",
       "                                                   &#x27;satisfaction_with_environment&#x27;,\n",
       "                                                   &#x27;gender&#x27;, &#x27;seniority_level&#x27;,\n",
       "                                                   &#x27;position&#x27;,\n",
       "                                                   &#x27;satisfaction_with_job&#x27;,\n",
       "                                                   &#x27;married_or_single&#x27;,\n",
       "                                                   &#x27;last_performance_rating&#x27;])])),\n",
       "                (&#x27;lm&#x27;, LogisticRegression())])</pre><b>Please rerun this cell to show the HTML repr or trust the notebook.</b></div><div class=\"sk-container\" hidden><div class=\"sk-item sk-dashed-wrapped\"><div class=\"sk-label-container\"><div class=\"sk-label sk-toggleable\"><input class=\"sk-toggleable__control sk-hidden--visually\" id=\"03429dab-6266-464e-a004-d22e1c432018\" type=\"checkbox\" ><label for=\"03429dab-6266-464e-a004-d22e1c432018\" class=\"sk-toggleable__label sk-toggleable__label-arrow\">Pipeline</label><div class=\"sk-toggleable__content\"><pre>Pipeline(steps=[(&#x27;data_processing&#x27;,\n",
       "                 ColumnTransformer(transformers=[(&#x27;proc_numeric&#x27;,\n",
       "                                                  Pipeline(steps=[(&#x27;impute_missing&#x27;,\n",
       "                                                                   SimpleImputer(strategy=&#x27;median&#x27;)),\n",
       "                                                                  (&#x27;standardize_num&#x27;,\n",
       "                                                                   StandardScaler())]),\n",
       "                                                  [&#x27;age&#x27;, &#x27;commuting_distance&#x27;,\n",
       "                                                   &#x27;last_raise_pct&#x27;,\n",
       "                                                   &#x27;total_years_working&#x27;,\n",
       "                                                   &#x27;years_since_last_promotion&#x27;,\n",
       "                                                   &#x27;years_with_current_supervisor&#x27;]),\n",
       "                                                 (&#x27;create_dummies&#x27;,\n",
       "                                                  Pipeline(ste...ng_cats&#x27;,\n",
       "                                                                   SimpleImputer(strategy=&#x27;most_frequent&#x27;)),\n",
       "                                                                  (&#x27;create_dummies_cats&#x27;,\n",
       "                                                                   OneHotEncoder(drop=&#x27;first&#x27;,\n",
       "                                                                                 handle_unknown=&#x27;ignore&#x27;))]),\n",
       "                                                  [&#x27;frequency_of_travel&#x27;,\n",
       "                                                   &#x27;department&#x27;, &#x27;education&#x27;,\n",
       "                                                   &#x27;satisfaction_with_environment&#x27;,\n",
       "                                                   &#x27;gender&#x27;, &#x27;seniority_level&#x27;,\n",
       "                                                   &#x27;position&#x27;,\n",
       "                                                   &#x27;satisfaction_with_job&#x27;,\n",
       "                                                   &#x27;married_or_single&#x27;,\n",
       "                                                   &#x27;last_performance_rating&#x27;])])),\n",
       "                (&#x27;lm&#x27;, LogisticRegression())])</pre></div></div></div><div class=\"sk-serial\"><div class=\"sk-item sk-dashed-wrapped\"><div class=\"sk-label-container\"><div class=\"sk-label sk-toggleable\"><input class=\"sk-toggleable__control sk-hidden--visually\" id=\"a99fbbf5-2dfd-42cd-b93e-3897ebb7f2c4\" type=\"checkbox\" ><label for=\"a99fbbf5-2dfd-42cd-b93e-3897ebb7f2c4\" class=\"sk-toggleable__label sk-toggleable__label-arrow\">data_processing: ColumnTransformer</label><div class=\"sk-toggleable__content\"><pre>ColumnTransformer(transformers=[(&#x27;proc_numeric&#x27;,\n",
       "                                 Pipeline(steps=[(&#x27;impute_missing&#x27;,\n",
       "                                                  SimpleImputer(strategy=&#x27;median&#x27;)),\n",
       "                                                 (&#x27;standardize_num&#x27;,\n",
       "                                                  StandardScaler())]),\n",
       "                                 [&#x27;age&#x27;, &#x27;commuting_distance&#x27;, &#x27;last_raise_pct&#x27;,\n",
       "                                  &#x27;total_years_working&#x27;,\n",
       "                                  &#x27;years_since_last_promotion&#x27;,\n",
       "                                  &#x27;years_with_current_supervisor&#x27;]),\n",
       "                                (&#x27;create_dummies&#x27;,\n",
       "                                 Pipeline(steps=[(&#x27;impute_missing_cats&#x27;,\n",
       "                                                  SimpleImputer(strategy=&#x27;most_frequent&#x27;)),\n",
       "                                                 (&#x27;create_dummies_cats&#x27;,\n",
       "                                                  OneHotEncoder(drop=&#x27;first&#x27;,\n",
       "                                                                handle_unknown=&#x27;ignore&#x27;))]),\n",
       "                                 [&#x27;frequency_of_travel&#x27;, &#x27;department&#x27;,\n",
       "                                  &#x27;education&#x27;, &#x27;satisfaction_with_environment&#x27;,\n",
       "                                  &#x27;gender&#x27;, &#x27;seniority_level&#x27;, &#x27;position&#x27;,\n",
       "                                  &#x27;satisfaction_with_job&#x27;, &#x27;married_or_single&#x27;,\n",
       "                                  &#x27;last_performance_rating&#x27;])])</pre></div></div></div><div class=\"sk-parallel\"><div class=\"sk-parallel-item\"><div class=\"sk-item\"><div class=\"sk-label-container\"><div class=\"sk-label sk-toggleable\"><input class=\"sk-toggleable__control sk-hidden--visually\" id=\"c97d7409-907a-4e41-9b5c-110a42ba1b31\" type=\"checkbox\" ><label for=\"c97d7409-907a-4e41-9b5c-110a42ba1b31\" class=\"sk-toggleable__label sk-toggleable__label-arrow\">proc_numeric</label><div class=\"sk-toggleable__content\"><pre>[&#x27;age&#x27;, &#x27;commuting_distance&#x27;, &#x27;last_raise_pct&#x27;, &#x27;total_years_working&#x27;, &#x27;years_since_last_promotion&#x27;, &#x27;years_with_current_supervisor&#x27;]</pre></div></div></div><div class=\"sk-serial\"><div class=\"sk-item\"><div class=\"sk-serial\"><div class=\"sk-item\"><div class=\"sk-estimator sk-toggleable\"><input class=\"sk-toggleable__control sk-hidden--visually\" id=\"8e7f4afa-bb0b-4ab1-adbc-a99a05591bbe\" type=\"checkbox\" ><label for=\"8e7f4afa-bb0b-4ab1-adbc-a99a05591bbe\" class=\"sk-toggleable__label sk-toggleable__label-arrow\">SimpleImputer</label><div class=\"sk-toggleable__content\"><pre>SimpleImputer(strategy=&#x27;median&#x27;)</pre></div></div></div><div class=\"sk-item\"><div class=\"sk-estimator sk-toggleable\"><input class=\"sk-toggleable__control sk-hidden--visually\" id=\"cd22ac1b-c32e-4645-af62-da798d414d13\" type=\"checkbox\" ><label for=\"cd22ac1b-c32e-4645-af62-da798d414d13\" class=\"sk-toggleable__label sk-toggleable__label-arrow\">StandardScaler</label><div class=\"sk-toggleable__content\"><pre>StandardScaler()</pre></div></div></div></div></div></div></div></div><div class=\"sk-parallel-item\"><div class=\"sk-item\"><div class=\"sk-label-container\"><div class=\"sk-label sk-toggleable\"><input class=\"sk-toggleable__control sk-hidden--visually\" id=\"001e1261-11fc-4a0e-87ff-b2850a32fb16\" type=\"checkbox\" ><label for=\"001e1261-11fc-4a0e-87ff-b2850a32fb16\" class=\"sk-toggleable__label sk-toggleable__label-arrow\">create_dummies</label><div class=\"sk-toggleable__content\"><pre>[&#x27;frequency_of_travel&#x27;, &#x27;department&#x27;, &#x27;education&#x27;, &#x27;satisfaction_with_environment&#x27;, &#x27;gender&#x27;, &#x27;seniority_level&#x27;, &#x27;position&#x27;, &#x27;satisfaction_with_job&#x27;, &#x27;married_or_single&#x27;, &#x27;last_performance_rating&#x27;]</pre></div></div></div><div class=\"sk-serial\"><div class=\"sk-item\"><div class=\"sk-serial\"><div class=\"sk-item\"><div class=\"sk-estimator sk-toggleable\"><input class=\"sk-toggleable__control sk-hidden--visually\" id=\"7c12389d-0fe3-4ebe-85b6-1066e1cbf7b1\" type=\"checkbox\" ><label for=\"7c12389d-0fe3-4ebe-85b6-1066e1cbf7b1\" class=\"sk-toggleable__label sk-toggleable__label-arrow\">SimpleImputer</label><div class=\"sk-toggleable__content\"><pre>SimpleImputer(strategy=&#x27;most_frequent&#x27;)</pre></div></div></div><div class=\"sk-item\"><div class=\"sk-estimator sk-toggleable\"><input class=\"sk-toggleable__control sk-hidden--visually\" id=\"91da8a8a-de28-4ef2-9261-3e47af80c22f\" type=\"checkbox\" ><label for=\"91da8a8a-de28-4ef2-9261-3e47af80c22f\" class=\"sk-toggleable__label sk-toggleable__label-arrow\">OneHotEncoder</label><div class=\"sk-toggleable__content\"><pre>OneHotEncoder(drop=&#x27;first&#x27;, handle_unknown=&#x27;ignore&#x27;)</pre></div></div></div></div></div></div></div></div></div></div><div class=\"sk-item\"><div class=\"sk-estimator sk-toggleable\"><input class=\"sk-toggleable__control sk-hidden--visually\" id=\"a1be17e5-405c-4574-b5a7-c0b200b34be6\" type=\"checkbox\" ><label for=\"a1be17e5-405c-4574-b5a7-c0b200b34be6\" class=\"sk-toggleable__label sk-toggleable__label-arrow\">LogisticRegression</label><div class=\"sk-toggleable__content\"><pre>LogisticRegression()</pre></div></div></div></div></div></div></div>"
      ],
      "text/plain": [
       "Pipeline(steps=[('data_processing',\n",
       "                 ColumnTransformer(transformers=[('proc_numeric',\n",
       "                                                  Pipeline(steps=[('impute_missing',\n",
       "                                                                   SimpleImputer(strategy='median')),\n",
       "                                                                  ('standardize_num',\n",
       "                                                                   StandardScaler())]),\n",
       "                                                  ['age', 'commuting_distance',\n",
       "                                                   'last_raise_pct',\n",
       "                                                   'total_years_working',\n",
       "                                                   'years_since_last_promotion',\n",
       "                                                   'years_with_current_supervisor']),\n",
       "                                                 ('create_dummies',\n",
       "                                                  Pipeline(ste...ng_cats',\n",
       "                                                                   SimpleImputer(strategy='most_frequent')),\n",
       "                                                                  ('create_dummies_cats',\n",
       "                                                                   OneHotEncoder(drop='first',\n",
       "                                                                                 handle_unknown='ignore'))]),\n",
       "                                                  ['frequency_of_travel',\n",
       "                                                   'department', 'education',\n",
       "                                                   'satisfaction_with_environment',\n",
       "                                                   'gender', 'seniority_level',\n",
       "                                                   'position',\n",
       "                                                   'satisfaction_with_job',\n",
       "                                                   'married_or_single',\n",
       "                                                   'last_performance_rating'])])),\n",
       "                ('lm', LogisticRegression())])"
      ]
     },
     "execution_count": 17,
     "metadata": {},
     "output_type": "execute_result"
    }
   ],
   "source": [
    "from sklearn.linear_model import LogisticRegression\n",
    "\n",
    "modeling_pipeline = Pipeline([('data_processing', processing_pipeline), \n",
    "                              ('lm', LogisticRegression())\n",
    "                             ])\n",
    "modeling_pipeline.fit(X_train, y_train)"
   ]
  },
  {
   "cell_type": "code",
   "execution_count": 18,
   "metadata": {},
   "outputs": [
    {
     "name": "stdout",
     "output_type": "stream",
     "text": [
      "Scores on Training Data\n",
      "\n",
      "              precision    recall  f1-score   support\n",
      "\n",
      "          No       0.77      0.75      0.76       407\n",
      "         Yes       0.75      0.77      0.76       393\n",
      "\n",
      "    accuracy                           0.76       800\n",
      "   macro avg       0.76      0.76      0.76       800\n",
      "weighted avg       0.76      0.76      0.76       800\n",
      "\n"
     ]
    }
   ],
   "source": [
    "from sklearn.metrics import classification_report\n",
    "predictions_train = modeling_pipeline.predict(X_train)\n",
    "training_score = classification_report(y_train, predictions_train)\n",
    "print('Scores on Training Data\\n')\n",
    "print(training_score)"
   ]
  },
  {
   "cell_type": "code",
   "execution_count": 19,
   "metadata": {},
   "outputs": [
    {
     "name": "stdout",
     "output_type": "stream",
     "text": [
      "Scores on Testing Data\n",
      "\n",
      "              precision    recall  f1-score   support\n",
      "\n",
      "          No       0.68      0.63      0.66        93\n",
      "         Yes       0.70      0.74      0.72       107\n",
      "\n",
      "    accuracy                           0.69       200\n",
      "   macro avg       0.69      0.69      0.69       200\n",
      "weighted avg       0.69      0.69      0.69       200\n",
      "\n"
     ]
    }
   ],
   "source": [
    "print('Scores on Testing Data\\n')\n",
    "predictions_test = modeling_pipeline.predict(X_test)\n",
    "testing_score = classification_report(y_test, predictions_test)\n",
    "print(testing_score)"
   ]
  },
  {
   "cell_type": "markdown",
   "metadata": {},
   "source": [
    "### Insights from the above values\n",
    "- As the training accuracy is greater than testing accuracy it is the sign for overfitting\n",
    "- This means the model has actually memorized the values insted of learning from the data"
   ]
  },
  {
   "cell_type": "markdown",
   "metadata": {},
   "source": [
    "# Question 7\n",
    "What would you recommend as potential next steps for continuing to develop and evaluate a model?"
   ]
  },
  {
   "cell_type": "markdown",
   "metadata": {},
   "source": [
    "In overfitting, the model performs well on the training data but badly on the testing data\n",
    "\n",
    "To overcome overfitting follow below steps\n",
    "\n",
    "- <b>Larger data exposer</b>: By giving the model access to a larger and more varied dataset, greater data collection can help to solve this problem.\n",
    "- <b>Regularization</b>: This technique helps model to focus on important features\n",
    "- <b>Tuning hyperparameters</b>: Tuning the paramters of the model will help in finding new patterns in the data\n",
    "- <b>Ensemble methods</b>: Several models are combined using ensemble methods to boost prediction accuracy."
   ]
  }
 ],
 "metadata": {
  "kernelspec": {
   "display_name": "Python 3 (ipykernel)",
   "language": "python",
   "name": "python3"
  },
  "language_info": {
   "codemirror_mode": {
    "name": "ipython",
    "version": 3
   },
   "file_extension": ".py",
   "mimetype": "text/x-python",
   "name": "python",
   "nbconvert_exporter": "python",
   "pygments_lexer": "ipython3",
   "version": "3.9.12"
  }
 },
 "nbformat": 4,
 "nbformat_minor": 4
}
