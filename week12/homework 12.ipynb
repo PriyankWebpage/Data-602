{
 "cells": [
  {
   "cell_type": "markdown",
   "id": "9a9ec15d",
   "metadata": {},
   "source": [
    "# Homework 12\n",
    "\n",
    "https://scikit-learn.org/0.15/modules/scaling_strategies.html#incremental-learning\n",
    "\n",
    "* Implement a mini batch functionality to train a regressor.\n",
    "    - (Optional) If anyone want to do this in a pipeline can do this: https://koaning.github.io/tokenwiser/api/pipeline.html\n",
    "\n",
    "* Save model, load the model again and test it on `X_test` __Do NOT commit the pickle file__"
   ]
  },
  {
   "cell_type": "code",
   "execution_count": 1,
   "id": "c32e5a2d",
   "metadata": {},
   "outputs": [],
   "source": [
    "import pandas as pd\n",
    "import numpy as np\n",
    "import matplotlib.pyplot as plt\n"
   ]
  },
  {
   "cell_type": "code",
   "execution_count": 2,
   "id": "5a6e0532",
   "metadata": {},
   "outputs": [],
   "source": [
    "def test_df():\n",
    "    \n",
    "    df = pd.read_csv('https://raw.githubusercontent.com/msaricaumbc/DS_data/master/ds602/car_prices/car_prices.csv', low_memory=False)\n",
    "    df = df.sample(5000, random_state=100).reset_index(drop=True)\n",
    "    \n",
    "    y = df['sellingprice']\n",
    "    df.drop('sellingprice', axis=1, inplace=True)\n",
    "    X = df\n",
    "    \n",
    "    return X,y\n",
    "\n",
    "def partial_df():\n",
    "    df = pd.read_csv('https://raw.githubusercontent.com/msaricaumbc/DS_data/master/ds602/car_prices/car_prices.csv', low_memory=False)\n",
    "   \n",
    "    while(True):\n",
    "        yield df.sample(100).reset_index(drop=True)\n",
    "        \n",
    "gen = partial_df()"
   ]
  },
  {
   "cell_type": "code",
   "execution_count": 3,
   "id": "325a5ad4",
   "metadata": {},
   "outputs": [],
   "source": [
    "X_test, y_test = test_df()"
   ]
  },
  {
   "cell_type": "code",
   "execution_count": 4,
   "id": "45bd3434",
   "metadata": {},
   "outputs": [
    {
     "data": {
      "text/html": [
       "<div>\n",
       "<style scoped>\n",
       "    .dataframe tbody tr th:only-of-type {\n",
       "        vertical-align: middle;\n",
       "    }\n",
       "\n",
       "    .dataframe tbody tr th {\n",
       "        vertical-align: top;\n",
       "    }\n",
       "\n",
       "    .dataframe thead th {\n",
       "        text-align: right;\n",
       "    }\n",
       "</style>\n",
       "<table border=\"1\" class=\"dataframe\">\n",
       "  <thead>\n",
       "    <tr style=\"text-align: right;\">\n",
       "      <th></th>\n",
       "      <th>year</th>\n",
       "      <th>make</th>\n",
       "      <th>model</th>\n",
       "      <th>trim</th>\n",
       "      <th>body</th>\n",
       "      <th>transmission</th>\n",
       "      <th>vin</th>\n",
       "      <th>state</th>\n",
       "      <th>condition</th>\n",
       "      <th>odometer</th>\n",
       "      <th>color</th>\n",
       "      <th>interior</th>\n",
       "      <th>seller</th>\n",
       "      <th>mmr</th>\n",
       "      <th>sellingprice</th>\n",
       "      <th>saledate</th>\n",
       "    </tr>\n",
       "  </thead>\n",
       "  <tbody>\n",
       "    <tr>\n",
       "      <th>0</th>\n",
       "      <td>2004</td>\n",
       "      <td>Nissan</td>\n",
       "      <td>Quest</td>\n",
       "      <td>3.5 S</td>\n",
       "      <td>Minivan</td>\n",
       "      <td>NaN</td>\n",
       "      <td>5n1bv28ux4n342573</td>\n",
       "      <td>ca</td>\n",
       "      <td>2.1</td>\n",
       "      <td>109897.0</td>\n",
       "      <td>white</td>\n",
       "      <td>tan</td>\n",
       "      <td>bhfc financial services inc</td>\n",
       "      <td>2350</td>\n",
       "      <td>3100</td>\n",
       "      <td>Tue Jan 20 2015 04:30:00 GMT-0800 (PST)</td>\n",
       "    </tr>\n",
       "    <tr>\n",
       "      <th>1</th>\n",
       "      <td>2014</td>\n",
       "      <td>Chevrolet</td>\n",
       "      <td>Cruze</td>\n",
       "      <td>2LT</td>\n",
       "      <td>Sedan</td>\n",
       "      <td>automatic</td>\n",
       "      <td>1g1pe5sb7e7420289</td>\n",
       "      <td>ut</td>\n",
       "      <td>1</td>\n",
       "      <td>17365.0</td>\n",
       "      <td>green</td>\n",
       "      <td>black</td>\n",
       "      <td>enterprise vehicle exchange / tra / rental / t...</td>\n",
       "      <td>13400</td>\n",
       "      <td>8800</td>\n",
       "      <td>Wed Feb 25 2015 04:30:00 GMT-0800 (PST)</td>\n",
       "    </tr>\n",
       "    <tr>\n",
       "      <th>2</th>\n",
       "      <td>2008</td>\n",
       "      <td>Nissan</td>\n",
       "      <td>Rogue</td>\n",
       "      <td>S</td>\n",
       "      <td>SUV</td>\n",
       "      <td>automatic</td>\n",
       "      <td>jn8as58v98w131176</td>\n",
       "      <td>va</td>\n",
       "      <td>2</td>\n",
       "      <td>112839.0</td>\n",
       "      <td>silver</td>\n",
       "      <td>gray</td>\n",
       "      <td>gm financial</td>\n",
       "      <td>6100</td>\n",
       "      <td>6700</td>\n",
       "      <td>Wed Jan 21 2015 01:30:00 GMT-0800 (PST)</td>\n",
       "    </tr>\n",
       "    <tr>\n",
       "      <th>3</th>\n",
       "      <td>2008</td>\n",
       "      <td>Hyundai</td>\n",
       "      <td>Entourage</td>\n",
       "      <td>Limited</td>\n",
       "      <td>minivan</td>\n",
       "      <td>automatic</td>\n",
       "      <td>kndmc233486056896</td>\n",
       "      <td>ca</td>\n",
       "      <td>3.7</td>\n",
       "      <td>55539.0</td>\n",
       "      <td>white</td>\n",
       "      <td>beige</td>\n",
       "      <td>hyundai motor america/co car</td>\n",
       "      <td>7625</td>\n",
       "      <td>10500</td>\n",
       "      <td>Tue Jun 16 2015 05:00:00 GMT-0700 (PDT)</td>\n",
       "    </tr>\n",
       "    <tr>\n",
       "      <th>4</th>\n",
       "      <td>2002</td>\n",
       "      <td>Mercedes-Benz</td>\n",
       "      <td>E-Class</td>\n",
       "      <td>E320 4MATIC</td>\n",
       "      <td>Sedan</td>\n",
       "      <td>automatic</td>\n",
       "      <td>wdbjf82j82x061970</td>\n",
       "      <td>wi</td>\n",
       "      <td>2.1</td>\n",
       "      <td>194330.0</td>\n",
       "      <td>silver</td>\n",
       "      <td>black</td>\n",
       "      <td>capital one auto finance</td>\n",
       "      <td>1525</td>\n",
       "      <td>1900</td>\n",
       "      <td>Wed Feb 04 2015 02:30:00 GMT-0800 (PST)</td>\n",
       "    </tr>\n",
       "    <tr>\n",
       "      <th>...</th>\n",
       "      <td>...</td>\n",
       "      <td>...</td>\n",
       "      <td>...</td>\n",
       "      <td>...</td>\n",
       "      <td>...</td>\n",
       "      <td>...</td>\n",
       "      <td>...</td>\n",
       "      <td>...</td>\n",
       "      <td>...</td>\n",
       "      <td>...</td>\n",
       "      <td>...</td>\n",
       "      <td>...</td>\n",
       "      <td>...</td>\n",
       "      <td>...</td>\n",
       "      <td>...</td>\n",
       "      <td>...</td>\n",
       "    </tr>\n",
       "    <tr>\n",
       "      <th>95</th>\n",
       "      <td>2000</td>\n",
       "      <td>Ford</td>\n",
       "      <td>F-150</td>\n",
       "      <td>XL</td>\n",
       "      <td>Extended Cab</td>\n",
       "      <td>automatic</td>\n",
       "      <td>1ftrx18wxynb74402</td>\n",
       "      <td>tx</td>\n",
       "      <td>1.9</td>\n",
       "      <td>174909.0</td>\n",
       "      <td>green</td>\n",
       "      <td>gray</td>\n",
       "      <td>improved credit lending</td>\n",
       "      <td>2000</td>\n",
       "      <td>1300</td>\n",
       "      <td>Wed Feb 11 2015 02:00:00 GMT-0800 (PST)</td>\n",
       "    </tr>\n",
       "    <tr>\n",
       "      <th>96</th>\n",
       "      <td>2010</td>\n",
       "      <td>Buick</td>\n",
       "      <td>Enclave</td>\n",
       "      <td>CXL2</td>\n",
       "      <td>SUV</td>\n",
       "      <td>automatic</td>\n",
       "      <td>5galrced4aj116282</td>\n",
       "      <td>tx</td>\n",
       "      <td>4.1</td>\n",
       "      <td>83587.0</td>\n",
       "      <td>brown</td>\n",
       "      <td>tan</td>\n",
       "      <td>david mcdavid acura</td>\n",
       "      <td>16100</td>\n",
       "      <td>16000</td>\n",
       "      <td>Wed Dec 31 2014 10:20:00 GMT-0800 (PST)</td>\n",
       "    </tr>\n",
       "    <tr>\n",
       "      <th>97</th>\n",
       "      <td>2011</td>\n",
       "      <td>Kia</td>\n",
       "      <td>Sorento</td>\n",
       "      <td>LX</td>\n",
       "      <td>SUV</td>\n",
       "      <td>automatic</td>\n",
       "      <td>5xyktca17bg071850</td>\n",
       "      <td>pa</td>\n",
       "      <td>4.4</td>\n",
       "      <td>41214.0</td>\n",
       "      <td>black</td>\n",
       "      <td>black</td>\n",
       "      <td>gateway kia of north brunswick</td>\n",
       "      <td>13100</td>\n",
       "      <td>13400</td>\n",
       "      <td>Tue Feb 10 2015 01:30:00 GMT-0800 (PST)</td>\n",
       "    </tr>\n",
       "    <tr>\n",
       "      <th>98</th>\n",
       "      <td>2014</td>\n",
       "      <td>Mazda</td>\n",
       "      <td>Mazda2</td>\n",
       "      <td>Touring</td>\n",
       "      <td>Hatchback</td>\n",
       "      <td>NaN</td>\n",
       "      <td>jm1de1lz7e0171158</td>\n",
       "      <td>pa</td>\n",
       "      <td>4.7</td>\n",
       "      <td>23268.0</td>\n",
       "      <td>red</td>\n",
       "      <td>black</td>\n",
       "      <td>avis rent a car/barbush rentals</td>\n",
       "      <td>10750</td>\n",
       "      <td>10600</td>\n",
       "      <td>Fri Feb 27 2015 01:00:00 GMT-0800 (PST)</td>\n",
       "    </tr>\n",
       "    <tr>\n",
       "      <th>99</th>\n",
       "      <td>2008</td>\n",
       "      <td>Ford</td>\n",
       "      <td>F-150</td>\n",
       "      <td>XL</td>\n",
       "      <td>supercab</td>\n",
       "      <td>NaN</td>\n",
       "      <td>1ftrx12w48fa21534</td>\n",
       "      <td>ms</td>\n",
       "      <td>3.5</td>\n",
       "      <td>102123.0</td>\n",
       "      <td>white</td>\n",
       "      <td>gray</td>\n",
       "      <td>donlen corporation</td>\n",
       "      <td>7850</td>\n",
       "      <td>9300</td>\n",
       "      <td>Thu Jun 18 2015 03:30:00 GMT-0700 (PDT)</td>\n",
       "    </tr>\n",
       "  </tbody>\n",
       "</table>\n",
       "<p>100 rows × 16 columns</p>\n",
       "</div>"
      ],
      "text/plain": [
       "    year           make      model         trim          body transmission  \\\n",
       "0   2004         Nissan      Quest        3.5 S       Minivan          NaN   \n",
       "1   2014      Chevrolet      Cruze          2LT         Sedan    automatic   \n",
       "2   2008         Nissan      Rogue            S           SUV    automatic   \n",
       "3   2008        Hyundai  Entourage      Limited       minivan    automatic   \n",
       "4   2002  Mercedes-Benz    E-Class  E320 4MATIC         Sedan    automatic   \n",
       "..   ...            ...        ...          ...           ...          ...   \n",
       "95  2000           Ford      F-150           XL  Extended Cab    automatic   \n",
       "96  2010          Buick    Enclave         CXL2           SUV    automatic   \n",
       "97  2011            Kia    Sorento           LX           SUV    automatic   \n",
       "98  2014          Mazda     Mazda2      Touring     Hatchback          NaN   \n",
       "99  2008           Ford      F-150           XL      supercab          NaN   \n",
       "\n",
       "                  vin state condition  odometer   color interior  \\\n",
       "0   5n1bv28ux4n342573    ca       2.1  109897.0   white      tan   \n",
       "1   1g1pe5sb7e7420289    ut         1   17365.0   green    black   \n",
       "2   jn8as58v98w131176    va         2  112839.0  silver     gray   \n",
       "3   kndmc233486056896    ca       3.7   55539.0   white    beige   \n",
       "4   wdbjf82j82x061970    wi       2.1  194330.0  silver    black   \n",
       "..                ...   ...       ...       ...     ...      ...   \n",
       "95  1ftrx18wxynb74402    tx       1.9  174909.0   green     gray   \n",
       "96  5galrced4aj116282    tx       4.1   83587.0   brown      tan   \n",
       "97  5xyktca17bg071850    pa       4.4   41214.0   black    black   \n",
       "98  jm1de1lz7e0171158    pa       4.7   23268.0     red    black   \n",
       "99  1ftrx12w48fa21534    ms       3.5  102123.0   white     gray   \n",
       "\n",
       "                                               seller    mmr  sellingprice  \\\n",
       "0                         bhfc financial services inc   2350          3100   \n",
       "1   enterprise vehicle exchange / tra / rental / t...  13400          8800   \n",
       "2                                        gm financial   6100          6700   \n",
       "3                        hyundai motor america/co car   7625         10500   \n",
       "4                            capital one auto finance   1525          1900   \n",
       "..                                                ...    ...           ...   \n",
       "95                            improved credit lending   2000          1300   \n",
       "96                                david mcdavid acura  16100         16000   \n",
       "97                     gateway kia of north brunswick  13100         13400   \n",
       "98                    avis rent a car/barbush rentals  10750         10600   \n",
       "99                                 donlen corporation   7850          9300   \n",
       "\n",
       "                                   saledate  \n",
       "0   Tue Jan 20 2015 04:30:00 GMT-0800 (PST)  \n",
       "1   Wed Feb 25 2015 04:30:00 GMT-0800 (PST)  \n",
       "2   Wed Jan 21 2015 01:30:00 GMT-0800 (PST)  \n",
       "3   Tue Jun 16 2015 05:00:00 GMT-0700 (PDT)  \n",
       "4   Wed Feb 04 2015 02:30:00 GMT-0800 (PST)  \n",
       "..                                      ...  \n",
       "95  Wed Feb 11 2015 02:00:00 GMT-0800 (PST)  \n",
       "96  Wed Dec 31 2014 10:20:00 GMT-0800 (PST)  \n",
       "97  Tue Feb 10 2015 01:30:00 GMT-0800 (PST)  \n",
       "98  Fri Feb 27 2015 01:00:00 GMT-0800 (PST)  \n",
       "99  Thu Jun 18 2015 03:30:00 GMT-0700 (PDT)  \n",
       "\n",
       "[100 rows x 16 columns]"
      ]
     },
     "execution_count": 4,
     "metadata": {},
     "output_type": "execute_result"
    }
   ],
   "source": [
    "# each time you call this you will get a new slice of the dataframe.\n",
    "sample_df = next(gen)\n",
    "sample_df"
   ]
  },
  {
   "cell_type": "markdown",
   "id": "4e8281cd",
   "metadata": {},
   "source": [
    "# Defining function to check the alpha values in the column of type float"
   ]
  },
  {
   "cell_type": "code",
   "execution_count": 5,
   "id": "775c371f",
   "metadata": {},
   "outputs": [],
   "source": [
    "# check_float() method returns all the values in the column that are not float\n",
    "def check_float(x):\n",
    "    if type(x) == float:\n",
    "        return\n",
    "    if x.isalpha() == True:\n",
    "        return x"
   ]
  },
  {
   "cell_type": "markdown",
   "id": "b63dbbd2",
   "metadata": {},
   "source": [
    "# Data Pre-Processing"
   ]
  },
  {
   "cell_type": "code",
   "execution_count": 6,
   "id": "10b46aa3",
   "metadata": {},
   "outputs": [],
   "source": [
    "def data_clean(data,y):\n",
    "    result = data['condition'].apply(check_float)\n",
    "    result = result[result.notnull()]\n",
    "    data = data.drop(index=result.index)\n",
    "    y = y.drop(index=result.index)\n",
    "    # converting condition and mmr column in their respective datatypes \n",
    "    data[['condition', 'mmr']] = data[['condition', 'mmr']].apply(pd.to_numeric)\n",
    "    \n",
    "    #data['saledate'] = data['saledate'].apply(date_format)\n",
    "    return data,y\n",
    "    "
   ]
  },
  {
   "cell_type": "markdown",
   "id": "4b701621",
   "metadata": {},
   "source": [
    "# Defing Categorical and Numerical Columns"
   ]
  },
  {
   "cell_type": "code",
   "execution_count": 7,
   "id": "d5d4c76c",
   "metadata": {},
   "outputs": [],
   "source": [
    "categorical_cols = ['year', 'make', 'model', 'trim', 'body', 'transmission','state','color', 'interior', 'seller']\n",
    "numerical_cols = [ 'condition', 'odometer','mmr'] "
   ]
  },
  {
   "cell_type": "code",
   "execution_count": 8,
   "id": "6ee44074",
   "metadata": {},
   "outputs": [],
   "source": [
    "from sklearn import set_config\n",
    "from sklearn.pipeline import Pipeline\n",
    "from sklearn.impute import SimpleImputer\n",
    "from sklearn.preprocessing import StandardScaler\n",
    "from sklearn.preprocessing import OneHotEncoder"
   ]
  },
  {
   "cell_type": "markdown",
   "id": "c8a7749e",
   "metadata": {},
   "source": [
    "# Defining Pipelines"
   ]
  },
  {
   "cell_type": "code",
   "execution_count": 9,
   "id": "c4f11a19",
   "metadata": {},
   "outputs": [
    {
     "data": {
      "text/html": [
       "<style>#sk-944848d8-1c40-4f85-a79b-e23ec073f30e {color: black;background-color: white;}#sk-944848d8-1c40-4f85-a79b-e23ec073f30e pre{padding: 0;}#sk-944848d8-1c40-4f85-a79b-e23ec073f30e div.sk-toggleable {background-color: white;}#sk-944848d8-1c40-4f85-a79b-e23ec073f30e label.sk-toggleable__label {cursor: pointer;display: block;width: 100%;margin-bottom: 0;padding: 0.3em;box-sizing: border-box;text-align: center;}#sk-944848d8-1c40-4f85-a79b-e23ec073f30e label.sk-toggleable__label-arrow:before {content: \"▸\";float: left;margin-right: 0.25em;color: #696969;}#sk-944848d8-1c40-4f85-a79b-e23ec073f30e label.sk-toggleable__label-arrow:hover:before {color: black;}#sk-944848d8-1c40-4f85-a79b-e23ec073f30e div.sk-estimator:hover label.sk-toggleable__label-arrow:before {color: black;}#sk-944848d8-1c40-4f85-a79b-e23ec073f30e div.sk-toggleable__content {max-height: 0;max-width: 0;overflow: hidden;text-align: left;background-color: #f0f8ff;}#sk-944848d8-1c40-4f85-a79b-e23ec073f30e div.sk-toggleable__content pre {margin: 0.2em;color: black;border-radius: 0.25em;background-color: #f0f8ff;}#sk-944848d8-1c40-4f85-a79b-e23ec073f30e input.sk-toggleable__control:checked~div.sk-toggleable__content {max-height: 200px;max-width: 100%;overflow: auto;}#sk-944848d8-1c40-4f85-a79b-e23ec073f30e input.sk-toggleable__control:checked~label.sk-toggleable__label-arrow:before {content: \"▾\";}#sk-944848d8-1c40-4f85-a79b-e23ec073f30e div.sk-estimator input.sk-toggleable__control:checked~label.sk-toggleable__label {background-color: #d4ebff;}#sk-944848d8-1c40-4f85-a79b-e23ec073f30e div.sk-label input.sk-toggleable__control:checked~label.sk-toggleable__label {background-color: #d4ebff;}#sk-944848d8-1c40-4f85-a79b-e23ec073f30e input.sk-hidden--visually {border: 0;clip: rect(1px 1px 1px 1px);clip: rect(1px, 1px, 1px, 1px);height: 1px;margin: -1px;overflow: hidden;padding: 0;position: absolute;width: 1px;}#sk-944848d8-1c40-4f85-a79b-e23ec073f30e div.sk-estimator {font-family: monospace;background-color: #f0f8ff;border: 1px dotted black;border-radius: 0.25em;box-sizing: border-box;margin-bottom: 0.5em;}#sk-944848d8-1c40-4f85-a79b-e23ec073f30e div.sk-estimator:hover {background-color: #d4ebff;}#sk-944848d8-1c40-4f85-a79b-e23ec073f30e div.sk-parallel-item::after {content: \"\";width: 100%;border-bottom: 1px solid gray;flex-grow: 1;}#sk-944848d8-1c40-4f85-a79b-e23ec073f30e div.sk-label:hover label.sk-toggleable__label {background-color: #d4ebff;}#sk-944848d8-1c40-4f85-a79b-e23ec073f30e div.sk-serial::before {content: \"\";position: absolute;border-left: 1px solid gray;box-sizing: border-box;top: 2em;bottom: 0;left: 50%;}#sk-944848d8-1c40-4f85-a79b-e23ec073f30e div.sk-serial {display: flex;flex-direction: column;align-items: center;background-color: white;padding-right: 0.2em;padding-left: 0.2em;}#sk-944848d8-1c40-4f85-a79b-e23ec073f30e div.sk-item {z-index: 1;}#sk-944848d8-1c40-4f85-a79b-e23ec073f30e div.sk-parallel {display: flex;align-items: stretch;justify-content: center;background-color: white;}#sk-944848d8-1c40-4f85-a79b-e23ec073f30e div.sk-parallel::before {content: \"\";position: absolute;border-left: 1px solid gray;box-sizing: border-box;top: 2em;bottom: 0;left: 50%;}#sk-944848d8-1c40-4f85-a79b-e23ec073f30e div.sk-parallel-item {display: flex;flex-direction: column;position: relative;background-color: white;}#sk-944848d8-1c40-4f85-a79b-e23ec073f30e div.sk-parallel-item:first-child::after {align-self: flex-end;width: 50%;}#sk-944848d8-1c40-4f85-a79b-e23ec073f30e div.sk-parallel-item:last-child::after {align-self: flex-start;width: 50%;}#sk-944848d8-1c40-4f85-a79b-e23ec073f30e div.sk-parallel-item:only-child::after {width: 0;}#sk-944848d8-1c40-4f85-a79b-e23ec073f30e div.sk-dashed-wrapped {border: 1px dashed gray;margin: 0 0.4em 0.5em 0.4em;box-sizing: border-box;padding-bottom: 0.4em;background-color: white;position: relative;}#sk-944848d8-1c40-4f85-a79b-e23ec073f30e div.sk-label label {font-family: monospace;font-weight: bold;background-color: white;display: inline-block;line-height: 1.2em;}#sk-944848d8-1c40-4f85-a79b-e23ec073f30e div.sk-label-container {position: relative;z-index: 2;text-align: center;}#sk-944848d8-1c40-4f85-a79b-e23ec073f30e div.sk-container {/* jupyter's `normalize.less` sets `[hidden] { display: none; }` but bootstrap.min.css set `[hidden] { display: none !important; }` so we also need the `!important` here to be able to override the default hidden behavior on the sphinx rendered scikit-learn.org. See: https://github.com/scikit-learn/scikit-learn/issues/21755 */display: inline-block !important;position: relative;}#sk-944848d8-1c40-4f85-a79b-e23ec073f30e div.sk-text-repr-fallback {display: none;}</style><div id=\"sk-944848d8-1c40-4f85-a79b-e23ec073f30e\" class=\"sk-top-container\"><div class=\"sk-text-repr-fallback\"><pre>Pipeline(steps=[(&#x27;impute_missing&#x27;, SimpleImputer(strategy=&#x27;median&#x27;)),\n",
       "                (&#x27;standardize_num&#x27;, StandardScaler())])</pre><b>Please rerun this cell to show the HTML repr or trust the notebook.</b></div><div class=\"sk-container\" hidden><div class=\"sk-item sk-dashed-wrapped\"><div class=\"sk-label-container\"><div class=\"sk-label sk-toggleable\"><input class=\"sk-toggleable__control sk-hidden--visually\" id=\"26f1e362-a11b-4782-8ebc-69803c5364ae\" type=\"checkbox\" ><label for=\"26f1e362-a11b-4782-8ebc-69803c5364ae\" class=\"sk-toggleable__label sk-toggleable__label-arrow\">Pipeline</label><div class=\"sk-toggleable__content\"><pre>Pipeline(steps=[(&#x27;impute_missing&#x27;, SimpleImputer(strategy=&#x27;median&#x27;)),\n",
       "                (&#x27;standardize_num&#x27;, StandardScaler())])</pre></div></div></div><div class=\"sk-serial\"><div class=\"sk-item\"><div class=\"sk-estimator sk-toggleable\"><input class=\"sk-toggleable__control sk-hidden--visually\" id=\"0a05fedd-98bb-40b7-9298-598afe95f7f3\" type=\"checkbox\" ><label for=\"0a05fedd-98bb-40b7-9298-598afe95f7f3\" class=\"sk-toggleable__label sk-toggleable__label-arrow\">SimpleImputer</label><div class=\"sk-toggleable__content\"><pre>SimpleImputer(strategy=&#x27;median&#x27;)</pre></div></div></div><div class=\"sk-item\"><div class=\"sk-estimator sk-toggleable\"><input class=\"sk-toggleable__control sk-hidden--visually\" id=\"e3a954a2-cf1d-4fbf-b25a-32efea3d7609\" type=\"checkbox\" ><label for=\"e3a954a2-cf1d-4fbf-b25a-32efea3d7609\" class=\"sk-toggleable__label sk-toggleable__label-arrow\">StandardScaler</label><div class=\"sk-toggleable__content\"><pre>StandardScaler()</pre></div></div></div></div></div></div></div>"
      ],
      "text/plain": [
       "Pipeline(steps=[('impute_missing', SimpleImputer(strategy='median')),\n",
       "                ('standardize_num', StandardScaler())])"
      ]
     },
     "execution_count": 9,
     "metadata": {},
     "output_type": "execute_result"
    }
   ],
   "source": [
    "numerical_pipeline = Pipeline([('impute_missing', SimpleImputer(strategy='median')),\n",
    "                           ('standardize_num', StandardScaler())\n",
    "                        ])\n",
    "set_config(display='diagram')\n",
    "numerical_pipeline"
   ]
  },
  {
   "cell_type": "code",
   "execution_count": 10,
   "id": "2855f6e3",
   "metadata": {},
   "outputs": [
    {
     "data": {
      "text/html": [
       "<style>#sk-edae7e09-a2f4-4fcd-af75-94a5add6e8ab {color: black;background-color: white;}#sk-edae7e09-a2f4-4fcd-af75-94a5add6e8ab pre{padding: 0;}#sk-edae7e09-a2f4-4fcd-af75-94a5add6e8ab div.sk-toggleable {background-color: white;}#sk-edae7e09-a2f4-4fcd-af75-94a5add6e8ab label.sk-toggleable__label {cursor: pointer;display: block;width: 100%;margin-bottom: 0;padding: 0.3em;box-sizing: border-box;text-align: center;}#sk-edae7e09-a2f4-4fcd-af75-94a5add6e8ab label.sk-toggleable__label-arrow:before {content: \"▸\";float: left;margin-right: 0.25em;color: #696969;}#sk-edae7e09-a2f4-4fcd-af75-94a5add6e8ab label.sk-toggleable__label-arrow:hover:before {color: black;}#sk-edae7e09-a2f4-4fcd-af75-94a5add6e8ab div.sk-estimator:hover label.sk-toggleable__label-arrow:before {color: black;}#sk-edae7e09-a2f4-4fcd-af75-94a5add6e8ab div.sk-toggleable__content {max-height: 0;max-width: 0;overflow: hidden;text-align: left;background-color: #f0f8ff;}#sk-edae7e09-a2f4-4fcd-af75-94a5add6e8ab div.sk-toggleable__content pre {margin: 0.2em;color: black;border-radius: 0.25em;background-color: #f0f8ff;}#sk-edae7e09-a2f4-4fcd-af75-94a5add6e8ab input.sk-toggleable__control:checked~div.sk-toggleable__content {max-height: 200px;max-width: 100%;overflow: auto;}#sk-edae7e09-a2f4-4fcd-af75-94a5add6e8ab input.sk-toggleable__control:checked~label.sk-toggleable__label-arrow:before {content: \"▾\";}#sk-edae7e09-a2f4-4fcd-af75-94a5add6e8ab div.sk-estimator input.sk-toggleable__control:checked~label.sk-toggleable__label {background-color: #d4ebff;}#sk-edae7e09-a2f4-4fcd-af75-94a5add6e8ab div.sk-label input.sk-toggleable__control:checked~label.sk-toggleable__label {background-color: #d4ebff;}#sk-edae7e09-a2f4-4fcd-af75-94a5add6e8ab input.sk-hidden--visually {border: 0;clip: rect(1px 1px 1px 1px);clip: rect(1px, 1px, 1px, 1px);height: 1px;margin: -1px;overflow: hidden;padding: 0;position: absolute;width: 1px;}#sk-edae7e09-a2f4-4fcd-af75-94a5add6e8ab div.sk-estimator {font-family: monospace;background-color: #f0f8ff;border: 1px dotted black;border-radius: 0.25em;box-sizing: border-box;margin-bottom: 0.5em;}#sk-edae7e09-a2f4-4fcd-af75-94a5add6e8ab div.sk-estimator:hover {background-color: #d4ebff;}#sk-edae7e09-a2f4-4fcd-af75-94a5add6e8ab div.sk-parallel-item::after {content: \"\";width: 100%;border-bottom: 1px solid gray;flex-grow: 1;}#sk-edae7e09-a2f4-4fcd-af75-94a5add6e8ab div.sk-label:hover label.sk-toggleable__label {background-color: #d4ebff;}#sk-edae7e09-a2f4-4fcd-af75-94a5add6e8ab div.sk-serial::before {content: \"\";position: absolute;border-left: 1px solid gray;box-sizing: border-box;top: 2em;bottom: 0;left: 50%;}#sk-edae7e09-a2f4-4fcd-af75-94a5add6e8ab div.sk-serial {display: flex;flex-direction: column;align-items: center;background-color: white;padding-right: 0.2em;padding-left: 0.2em;}#sk-edae7e09-a2f4-4fcd-af75-94a5add6e8ab div.sk-item {z-index: 1;}#sk-edae7e09-a2f4-4fcd-af75-94a5add6e8ab div.sk-parallel {display: flex;align-items: stretch;justify-content: center;background-color: white;}#sk-edae7e09-a2f4-4fcd-af75-94a5add6e8ab div.sk-parallel::before {content: \"\";position: absolute;border-left: 1px solid gray;box-sizing: border-box;top: 2em;bottom: 0;left: 50%;}#sk-edae7e09-a2f4-4fcd-af75-94a5add6e8ab div.sk-parallel-item {display: flex;flex-direction: column;position: relative;background-color: white;}#sk-edae7e09-a2f4-4fcd-af75-94a5add6e8ab div.sk-parallel-item:first-child::after {align-self: flex-end;width: 50%;}#sk-edae7e09-a2f4-4fcd-af75-94a5add6e8ab div.sk-parallel-item:last-child::after {align-self: flex-start;width: 50%;}#sk-edae7e09-a2f4-4fcd-af75-94a5add6e8ab div.sk-parallel-item:only-child::after {width: 0;}#sk-edae7e09-a2f4-4fcd-af75-94a5add6e8ab div.sk-dashed-wrapped {border: 1px dashed gray;margin: 0 0.4em 0.5em 0.4em;box-sizing: border-box;padding-bottom: 0.4em;background-color: white;position: relative;}#sk-edae7e09-a2f4-4fcd-af75-94a5add6e8ab div.sk-label label {font-family: monospace;font-weight: bold;background-color: white;display: inline-block;line-height: 1.2em;}#sk-edae7e09-a2f4-4fcd-af75-94a5add6e8ab div.sk-label-container {position: relative;z-index: 2;text-align: center;}#sk-edae7e09-a2f4-4fcd-af75-94a5add6e8ab div.sk-container {/* jupyter's `normalize.less` sets `[hidden] { display: none; }` but bootstrap.min.css set `[hidden] { display: none !important; }` so we also need the `!important` here to be able to override the default hidden behavior on the sphinx rendered scikit-learn.org. See: https://github.com/scikit-learn/scikit-learn/issues/21755 */display: inline-block !important;position: relative;}#sk-edae7e09-a2f4-4fcd-af75-94a5add6e8ab div.sk-text-repr-fallback {display: none;}</style><div id=\"sk-edae7e09-a2f4-4fcd-af75-94a5add6e8ab\" class=\"sk-top-container\"><div class=\"sk-text-repr-fallback\"><pre>Pipeline(steps=[(&#x27;impute_missing_cats&#x27;,\n",
       "                 SimpleImputer(strategy=&#x27;most_frequent&#x27;)),\n",
       "                (&#x27;create_dummies_cats&#x27;,\n",
       "                 OneHotEncoder(drop=&#x27;first&#x27;, handle_unknown=&#x27;ignore&#x27;))])</pre><b>Please rerun this cell to show the HTML repr or trust the notebook.</b></div><div class=\"sk-container\" hidden><div class=\"sk-item sk-dashed-wrapped\"><div class=\"sk-label-container\"><div class=\"sk-label sk-toggleable\"><input class=\"sk-toggleable__control sk-hidden--visually\" id=\"721e5992-436c-42ee-b833-75a95f779585\" type=\"checkbox\" ><label for=\"721e5992-436c-42ee-b833-75a95f779585\" class=\"sk-toggleable__label sk-toggleable__label-arrow\">Pipeline</label><div class=\"sk-toggleable__content\"><pre>Pipeline(steps=[(&#x27;impute_missing_cats&#x27;,\n",
       "                 SimpleImputer(strategy=&#x27;most_frequent&#x27;)),\n",
       "                (&#x27;create_dummies_cats&#x27;,\n",
       "                 OneHotEncoder(drop=&#x27;first&#x27;, handle_unknown=&#x27;ignore&#x27;))])</pre></div></div></div><div class=\"sk-serial\"><div class=\"sk-item\"><div class=\"sk-estimator sk-toggleable\"><input class=\"sk-toggleable__control sk-hidden--visually\" id=\"eb07369b-1d2d-448f-8344-6ad497c3b0c8\" type=\"checkbox\" ><label for=\"eb07369b-1d2d-448f-8344-6ad497c3b0c8\" class=\"sk-toggleable__label sk-toggleable__label-arrow\">SimpleImputer</label><div class=\"sk-toggleable__content\"><pre>SimpleImputer(strategy=&#x27;most_frequent&#x27;)</pre></div></div></div><div class=\"sk-item\"><div class=\"sk-estimator sk-toggleable\"><input class=\"sk-toggleable__control sk-hidden--visually\" id=\"84ae3ae4-56ab-4e43-b97e-c90dfabde585\" type=\"checkbox\" ><label for=\"84ae3ae4-56ab-4e43-b97e-c90dfabde585\" class=\"sk-toggleable__label sk-toggleable__label-arrow\">OneHotEncoder</label><div class=\"sk-toggleable__content\"><pre>OneHotEncoder(drop=&#x27;first&#x27;, handle_unknown=&#x27;ignore&#x27;)</pre></div></div></div></div></div></div></div>"
      ],
      "text/plain": [
       "Pipeline(steps=[('impute_missing_cats',\n",
       "                 SimpleImputer(strategy='most_frequent')),\n",
       "                ('create_dummies_cats',\n",
       "                 OneHotEncoder(drop='first', handle_unknown='ignore'))])"
      ]
     },
     "execution_count": 10,
     "metadata": {},
     "output_type": "execute_result"
    }
   ],
   "source": [
    "from sklearn.preprocessing import OneHotEncoder\n",
    "categorical_pipeline = Pipeline([('impute_missing_cats', SimpleImputer(strategy='most_frequent')),\n",
    "                          ('create_dummies_cats', OneHotEncoder(handle_unknown='ignore', drop='first'))])\n",
    "set_config(display='diagram')\n",
    "categorical_pipeline"
   ]
  },
  {
   "cell_type": "code",
   "execution_count": 11,
   "id": "dcb7256e",
   "metadata": {},
   "outputs": [
    {
     "name": "stdout",
     "output_type": "stream",
     "text": [
      "Actual categorical columns: 317\n",
      "Transformed categorical columns: 317\n"
     ]
    }
   ],
   "source": [
    "transformed_categorical_columns = categorical_pipeline.fit_transform(sample_df[categorical_cols]).shape[1]\n",
    "\n",
    "# the columns that are created after passing into OneHotEncoder\n",
    "actual_categorical_columns = categorical_pipeline.named_steps['create_dummies_cats'].get_feature_names_out().shape[0]\n",
    "\n",
    "print(\"Actual categorical columns:\",actual_categorical_columns)\n",
    "print(\"Transformed categorical columns:\",transformed_categorical_columns)"
   ]
  },
  {
   "cell_type": "code",
   "execution_count": 12,
   "id": "391485cb",
   "metadata": {},
   "outputs": [
    {
     "data": {
      "text/html": [
       "<style>#sk-833eeaad-ce57-4c1f-b182-89ab3897eb5e {color: black;background-color: white;}#sk-833eeaad-ce57-4c1f-b182-89ab3897eb5e pre{padding: 0;}#sk-833eeaad-ce57-4c1f-b182-89ab3897eb5e div.sk-toggleable {background-color: white;}#sk-833eeaad-ce57-4c1f-b182-89ab3897eb5e label.sk-toggleable__label {cursor: pointer;display: block;width: 100%;margin-bottom: 0;padding: 0.3em;box-sizing: border-box;text-align: center;}#sk-833eeaad-ce57-4c1f-b182-89ab3897eb5e label.sk-toggleable__label-arrow:before {content: \"▸\";float: left;margin-right: 0.25em;color: #696969;}#sk-833eeaad-ce57-4c1f-b182-89ab3897eb5e label.sk-toggleable__label-arrow:hover:before {color: black;}#sk-833eeaad-ce57-4c1f-b182-89ab3897eb5e div.sk-estimator:hover label.sk-toggleable__label-arrow:before {color: black;}#sk-833eeaad-ce57-4c1f-b182-89ab3897eb5e div.sk-toggleable__content {max-height: 0;max-width: 0;overflow: hidden;text-align: left;background-color: #f0f8ff;}#sk-833eeaad-ce57-4c1f-b182-89ab3897eb5e div.sk-toggleable__content pre {margin: 0.2em;color: black;border-radius: 0.25em;background-color: #f0f8ff;}#sk-833eeaad-ce57-4c1f-b182-89ab3897eb5e input.sk-toggleable__control:checked~div.sk-toggleable__content {max-height: 200px;max-width: 100%;overflow: auto;}#sk-833eeaad-ce57-4c1f-b182-89ab3897eb5e input.sk-toggleable__control:checked~label.sk-toggleable__label-arrow:before {content: \"▾\";}#sk-833eeaad-ce57-4c1f-b182-89ab3897eb5e div.sk-estimator input.sk-toggleable__control:checked~label.sk-toggleable__label {background-color: #d4ebff;}#sk-833eeaad-ce57-4c1f-b182-89ab3897eb5e div.sk-label input.sk-toggleable__control:checked~label.sk-toggleable__label {background-color: #d4ebff;}#sk-833eeaad-ce57-4c1f-b182-89ab3897eb5e input.sk-hidden--visually {border: 0;clip: rect(1px 1px 1px 1px);clip: rect(1px, 1px, 1px, 1px);height: 1px;margin: -1px;overflow: hidden;padding: 0;position: absolute;width: 1px;}#sk-833eeaad-ce57-4c1f-b182-89ab3897eb5e div.sk-estimator {font-family: monospace;background-color: #f0f8ff;border: 1px dotted black;border-radius: 0.25em;box-sizing: border-box;margin-bottom: 0.5em;}#sk-833eeaad-ce57-4c1f-b182-89ab3897eb5e div.sk-estimator:hover {background-color: #d4ebff;}#sk-833eeaad-ce57-4c1f-b182-89ab3897eb5e div.sk-parallel-item::after {content: \"\";width: 100%;border-bottom: 1px solid gray;flex-grow: 1;}#sk-833eeaad-ce57-4c1f-b182-89ab3897eb5e div.sk-label:hover label.sk-toggleable__label {background-color: #d4ebff;}#sk-833eeaad-ce57-4c1f-b182-89ab3897eb5e div.sk-serial::before {content: \"\";position: absolute;border-left: 1px solid gray;box-sizing: border-box;top: 2em;bottom: 0;left: 50%;}#sk-833eeaad-ce57-4c1f-b182-89ab3897eb5e div.sk-serial {display: flex;flex-direction: column;align-items: center;background-color: white;padding-right: 0.2em;padding-left: 0.2em;}#sk-833eeaad-ce57-4c1f-b182-89ab3897eb5e div.sk-item {z-index: 1;}#sk-833eeaad-ce57-4c1f-b182-89ab3897eb5e div.sk-parallel {display: flex;align-items: stretch;justify-content: center;background-color: white;}#sk-833eeaad-ce57-4c1f-b182-89ab3897eb5e div.sk-parallel::before {content: \"\";position: absolute;border-left: 1px solid gray;box-sizing: border-box;top: 2em;bottom: 0;left: 50%;}#sk-833eeaad-ce57-4c1f-b182-89ab3897eb5e div.sk-parallel-item {display: flex;flex-direction: column;position: relative;background-color: white;}#sk-833eeaad-ce57-4c1f-b182-89ab3897eb5e div.sk-parallel-item:first-child::after {align-self: flex-end;width: 50%;}#sk-833eeaad-ce57-4c1f-b182-89ab3897eb5e div.sk-parallel-item:last-child::after {align-self: flex-start;width: 50%;}#sk-833eeaad-ce57-4c1f-b182-89ab3897eb5e div.sk-parallel-item:only-child::after {width: 0;}#sk-833eeaad-ce57-4c1f-b182-89ab3897eb5e div.sk-dashed-wrapped {border: 1px dashed gray;margin: 0 0.4em 0.5em 0.4em;box-sizing: border-box;padding-bottom: 0.4em;background-color: white;position: relative;}#sk-833eeaad-ce57-4c1f-b182-89ab3897eb5e div.sk-label label {font-family: monospace;font-weight: bold;background-color: white;display: inline-block;line-height: 1.2em;}#sk-833eeaad-ce57-4c1f-b182-89ab3897eb5e div.sk-label-container {position: relative;z-index: 2;text-align: center;}#sk-833eeaad-ce57-4c1f-b182-89ab3897eb5e div.sk-container {/* jupyter's `normalize.less` sets `[hidden] { display: none; }` but bootstrap.min.css set `[hidden] { display: none !important; }` so we also need the `!important` here to be able to override the default hidden behavior on the sphinx rendered scikit-learn.org. See: https://github.com/scikit-learn/scikit-learn/issues/21755 */display: inline-block !important;position: relative;}#sk-833eeaad-ce57-4c1f-b182-89ab3897eb5e div.sk-text-repr-fallback {display: none;}</style><div id=\"sk-833eeaad-ce57-4c1f-b182-89ab3897eb5e\" class=\"sk-top-container\"><div class=\"sk-text-repr-fallback\"><pre>ColumnTransformer(transformers=[(&#x27;proc_numeric&#x27;,\n",
       "                                 Pipeline(steps=[(&#x27;impute_missing&#x27;,\n",
       "                                                  SimpleImputer(strategy=&#x27;median&#x27;)),\n",
       "                                                 (&#x27;standardize_num&#x27;,\n",
       "                                                  StandardScaler())]),\n",
       "                                 [&#x27;condition&#x27;, &#x27;odometer&#x27;, &#x27;mmr&#x27;]),\n",
       "                                (&#x27;create_dummies&#x27;,\n",
       "                                 Pipeline(steps=[(&#x27;impute_missing_cats&#x27;,\n",
       "                                                  SimpleImputer(strategy=&#x27;most_frequent&#x27;)),\n",
       "                                                 (&#x27;create_dummies_cats&#x27;,\n",
       "                                                  OneHotEncoder(drop=&#x27;first&#x27;,\n",
       "                                                                handle_unknown=&#x27;ignore&#x27;))]),\n",
       "                                 [&#x27;year&#x27;, &#x27;make&#x27;, &#x27;model&#x27;, &#x27;trim&#x27;, &#x27;body&#x27;,\n",
       "                                  &#x27;transmission&#x27;, &#x27;state&#x27;, &#x27;color&#x27;, &#x27;interior&#x27;,\n",
       "                                  &#x27;seller&#x27;])])</pre><b>Please rerun this cell to show the HTML repr or trust the notebook.</b></div><div class=\"sk-container\" hidden><div class=\"sk-item sk-dashed-wrapped\"><div class=\"sk-label-container\"><div class=\"sk-label sk-toggleable\"><input class=\"sk-toggleable__control sk-hidden--visually\" id=\"45584285-bba1-44c0-90e7-1cf7ed1d55d3\" type=\"checkbox\" ><label for=\"45584285-bba1-44c0-90e7-1cf7ed1d55d3\" class=\"sk-toggleable__label sk-toggleable__label-arrow\">ColumnTransformer</label><div class=\"sk-toggleable__content\"><pre>ColumnTransformer(transformers=[(&#x27;proc_numeric&#x27;,\n",
       "                                 Pipeline(steps=[(&#x27;impute_missing&#x27;,\n",
       "                                                  SimpleImputer(strategy=&#x27;median&#x27;)),\n",
       "                                                 (&#x27;standardize_num&#x27;,\n",
       "                                                  StandardScaler())]),\n",
       "                                 [&#x27;condition&#x27;, &#x27;odometer&#x27;, &#x27;mmr&#x27;]),\n",
       "                                (&#x27;create_dummies&#x27;,\n",
       "                                 Pipeline(steps=[(&#x27;impute_missing_cats&#x27;,\n",
       "                                                  SimpleImputer(strategy=&#x27;most_frequent&#x27;)),\n",
       "                                                 (&#x27;create_dummies_cats&#x27;,\n",
       "                                                  OneHotEncoder(drop=&#x27;first&#x27;,\n",
       "                                                                handle_unknown=&#x27;ignore&#x27;))]),\n",
       "                                 [&#x27;year&#x27;, &#x27;make&#x27;, &#x27;model&#x27;, &#x27;trim&#x27;, &#x27;body&#x27;,\n",
       "                                  &#x27;transmission&#x27;, &#x27;state&#x27;, &#x27;color&#x27;, &#x27;interior&#x27;,\n",
       "                                  &#x27;seller&#x27;])])</pre></div></div></div><div class=\"sk-parallel\"><div class=\"sk-parallel-item\"><div class=\"sk-item\"><div class=\"sk-label-container\"><div class=\"sk-label sk-toggleable\"><input class=\"sk-toggleable__control sk-hidden--visually\" id=\"bc0f274b-0c60-4167-9b6b-bd18c74d80d8\" type=\"checkbox\" ><label for=\"bc0f274b-0c60-4167-9b6b-bd18c74d80d8\" class=\"sk-toggleable__label sk-toggleable__label-arrow\">proc_numeric</label><div class=\"sk-toggleable__content\"><pre>[&#x27;condition&#x27;, &#x27;odometer&#x27;, &#x27;mmr&#x27;]</pre></div></div></div><div class=\"sk-serial\"><div class=\"sk-item\"><div class=\"sk-serial\"><div class=\"sk-item\"><div class=\"sk-estimator sk-toggleable\"><input class=\"sk-toggleable__control sk-hidden--visually\" id=\"005423b3-a6d3-4d2f-9e2d-7cd1f03ab954\" type=\"checkbox\" ><label for=\"005423b3-a6d3-4d2f-9e2d-7cd1f03ab954\" class=\"sk-toggleable__label sk-toggleable__label-arrow\">SimpleImputer</label><div class=\"sk-toggleable__content\"><pre>SimpleImputer(strategy=&#x27;median&#x27;)</pre></div></div></div><div class=\"sk-item\"><div class=\"sk-estimator sk-toggleable\"><input class=\"sk-toggleable__control sk-hidden--visually\" id=\"591fe5a4-4428-4928-8ecc-cab8c6ec4302\" type=\"checkbox\" ><label for=\"591fe5a4-4428-4928-8ecc-cab8c6ec4302\" class=\"sk-toggleable__label sk-toggleable__label-arrow\">StandardScaler</label><div class=\"sk-toggleable__content\"><pre>StandardScaler()</pre></div></div></div></div></div></div></div></div><div class=\"sk-parallel-item\"><div class=\"sk-item\"><div class=\"sk-label-container\"><div class=\"sk-label sk-toggleable\"><input class=\"sk-toggleable__control sk-hidden--visually\" id=\"c178ac01-f4a2-422b-8b40-d9d0481fc5e8\" type=\"checkbox\" ><label for=\"c178ac01-f4a2-422b-8b40-d9d0481fc5e8\" class=\"sk-toggleable__label sk-toggleable__label-arrow\">create_dummies</label><div class=\"sk-toggleable__content\"><pre>[&#x27;year&#x27;, &#x27;make&#x27;, &#x27;model&#x27;, &#x27;trim&#x27;, &#x27;body&#x27;, &#x27;transmission&#x27;, &#x27;state&#x27;, &#x27;color&#x27;, &#x27;interior&#x27;, &#x27;seller&#x27;]</pre></div></div></div><div class=\"sk-serial\"><div class=\"sk-item\"><div class=\"sk-serial\"><div class=\"sk-item\"><div class=\"sk-estimator sk-toggleable\"><input class=\"sk-toggleable__control sk-hidden--visually\" id=\"eaed7803-2f31-4215-a91c-84ebeffae060\" type=\"checkbox\" ><label for=\"eaed7803-2f31-4215-a91c-84ebeffae060\" class=\"sk-toggleable__label sk-toggleable__label-arrow\">SimpleImputer</label><div class=\"sk-toggleable__content\"><pre>SimpleImputer(strategy=&#x27;most_frequent&#x27;)</pre></div></div></div><div class=\"sk-item\"><div class=\"sk-estimator sk-toggleable\"><input class=\"sk-toggleable__control sk-hidden--visually\" id=\"fa8c5183-604e-4bac-9f99-2476ac4684da\" type=\"checkbox\" ><label for=\"fa8c5183-604e-4bac-9f99-2476ac4684da\" class=\"sk-toggleable__label sk-toggleable__label-arrow\">OneHotEncoder</label><div class=\"sk-toggleable__content\"><pre>OneHotEncoder(drop=&#x27;first&#x27;, handle_unknown=&#x27;ignore&#x27;)</pre></div></div></div></div></div></div></div></div></div></div></div></div>"
      ],
      "text/plain": [
       "ColumnTransformer(transformers=[('proc_numeric',\n",
       "                                 Pipeline(steps=[('impute_missing',\n",
       "                                                  SimpleImputer(strategy='median')),\n",
       "                                                 ('standardize_num',\n",
       "                                                  StandardScaler())]),\n",
       "                                 ['condition', 'odometer', 'mmr']),\n",
       "                                ('create_dummies',\n",
       "                                 Pipeline(steps=[('impute_missing_cats',\n",
       "                                                  SimpleImputer(strategy='most_frequent')),\n",
       "                                                 ('create_dummies_cats',\n",
       "                                                  OneHotEncoder(drop='first',\n",
       "                                                                handle_unknown='ignore'))]),\n",
       "                                 ['year', 'make', 'model', 'trim', 'body',\n",
       "                                  'transmission', 'state', 'color', 'interior',\n",
       "                                  'seller'])])"
      ]
     },
     "execution_count": 12,
     "metadata": {},
     "output_type": "execute_result"
    }
   ],
   "source": [
    "from sklearn.compose import ColumnTransformer\n",
    "processing_pipeline = ColumnTransformer(transformers=[('proc_numeric', numerical_pipeline, numerical_cols),\n",
    "                                                      ('create_dummies', categorical_pipeline, categorical_cols)])\n",
    "\n",
    "processing_pipeline"
   ]
  },
  {
   "cell_type": "markdown",
   "id": "27dbd880",
   "metadata": {},
   "source": [
    "# Fitting the features of the dataset"
   ]
  },
  {
   "cell_type": "code",
   "execution_count": 13,
   "id": "ec243859",
   "metadata": {},
   "outputs": [],
   "source": [
    "df1 = pd.read_csv('https://raw.githubusercontent.com/msaricaumbc/DS_data/master/ds602/car_prices/car_prices.csv', low_memory=False)\n",
    "X1 = df1.drop(['sellingprice','vin','saledate'],axis=1)\n",
    "\n",
    "y1 = df1['sellingprice'] \n",
    "X1f,y1f = data_clean(X1,y1)\n",
    "X1_transformed = processing_pipeline.fit_transform(X1f)"
   ]
  },
  {
   "cell_type": "markdown",
   "id": "831887ff",
   "metadata": {},
   "source": [
    "# Mini batch functionality to train a regressor"
   ]
  },
  {
   "cell_type": "code",
   "execution_count": 14,
   "id": "75c341c1",
   "metadata": {},
   "outputs": [],
   "source": [
    "from sklearn.linear_model import SGDRegressor\n",
    "import joblib\n",
    "\n",
    "\n",
    "learning_rate=0.01\n",
    "n_epochs=100\n",
    "batch_size=32\n",
    "n_samples, n_features = 100,df1.shape[1]\n",
    "coef_ = np.zeros(n_features)\n",
    "intercept_ = 0\n",
    "n_batches = int(np.ceil(n_samples /batch_size))\n",
    "cost_list = []\n",
    "epoch_list = []\n",
    "min_cost = 1000000000\n",
    "for epoch in range(n_epochs):\n",
    "    sample_data = next(gen)\n",
    "    y = sample_data['sellingprice']\n",
    "    X = sample_data.drop(['sellingprice','vin','saledate'],axis=1)\n",
    "    X,y = data_clean(X,y)\n",
    "    Xf = processing_pipeline.transform(X)\n",
    "    \n",
    "    for i in range(n_batches):\n",
    "        X_batch = Xf[i*batch_size:(i+1)*batch_size]\n",
    "        y_batch = y[i*batch_size:(i+1)*batch_size]\n",
    "        #model fitting\n",
    "        SGD = SGDRegressor(learning_rate='constant', eta0=0.01, max_iter=20000, tol=1e-3, early_stopping=True, validation_fraction=0.1, n_iter_no_change=10, warm_start=True)\n",
    "        SGD.fit(X_batch,y_batch) \n",
    "\n",
    "        y_pred = SGD.predict(X_batch)\n",
    "        gradient = np.dot(X_batch.T, (y_pred - y_batch)) / X_batch.shape[0]\n",
    "        coef_ = np.zeros(len(learning_rate * gradient))\n",
    "        coef_ = coef_ - (learning_rate * gradient)\n",
    "        intercept_ =intercept_ - (learning_rate * np.mean(y_pred - y_batch))\n",
    "        \n",
    "        #calculating the cost\n",
    "        cost = np.mean(np.square(y_batch-y_pred))\n",
    "        if cost< min_cost:\n",
    "            min_cost = cost\n",
    "            joblib.dump(SGD, 'model.pkl')\n",
    "        cost_list.append(cost)\n",
    "    epoch_list.append(epoch)"
   ]
  },
  {
   "cell_type": "code",
   "execution_count": 15,
   "id": "0cf84b0a",
   "metadata": {},
   "outputs": [
    {
     "data": {
      "text/plain": [
       "[<matplotlib.lines.Line2D at 0x124b74b9850>]"
      ]
     },
     "execution_count": 15,
     "metadata": {},
     "output_type": "execute_result"
    },
    {
     "data": {
      "image/png": "[encoded data removed]",
      "text/plain": [
       "<Figure size 432x288 with 1 Axes>"
      ]
     },
     "metadata": {
      "needs_background": "light"
     },
     "output_type": "display_data"
    }
   ],
   "source": [
    "plt.xlabel(\"epoch\")\n",
    "plt.ylabel(\"cost\")\n",
    "plt.plot(epoch_list,cost_list[:100])"
   ]
  },
  {
   "cell_type": "code",
   "execution_count": 16,
   "id": "aba9f325",
   "metadata": {},
   "outputs": [
    {
     "data": {
      "text/plain": [
       "1724.9522003253753"
      ]
     },
     "execution_count": 16,
     "metadata": {},
     "output_type": "execute_result"
    }
   ],
   "source": [
    "min(cost_list)"
   ]
  },
  {
   "cell_type": "code",
   "execution_count": null,
   "id": "8b2c5a23",
   "metadata": {},
   "outputs": [],
   "source": []
  },
  {
   "cell_type": "code",
   "execution_count": 17,
   "id": "2fe17912",
   "metadata": {},
   "outputs": [
    {
     "data": {
      "text/plain": [
       "['model.pkl']"
      ]
     },
     "execution_count": 17,
     "metadata": {},
     "output_type": "execute_result"
    }
   ],
   "source": [
    "import joblib\n",
    "\n",
    "joblib.dump(SGD, 'model.pkl')"
   ]
  },
  {
   "cell_type": "markdown",
   "id": "6bf67ee7",
   "metadata": {},
   "source": [
    "# Loading the saved model"
   ]
  },
  {
   "cell_type": "code",
   "execution_count": 18,
   "id": "51f91b81",
   "metadata": {},
   "outputs": [
    {
     "data": {
      "text/html": [
       "<style>#sk-028cb397-ea0f-4147-acdf-464ae1b79272 {color: black;background-color: white;}#sk-028cb397-ea0f-4147-acdf-464ae1b79272 pre{padding: 0;}#sk-028cb397-ea0f-4147-acdf-464ae1b79272 div.sk-toggleable {background-color: white;}#sk-028cb397-ea0f-4147-acdf-464ae1b79272 label.sk-toggleable__label {cursor: pointer;display: block;width: 100%;margin-bottom: 0;padding: 0.3em;box-sizing: border-box;text-align: center;}#sk-028cb397-ea0f-4147-acdf-464ae1b79272 label.sk-toggleable__label-arrow:before {content: \"▸\";float: left;margin-right: 0.25em;color: #696969;}#sk-028cb397-ea0f-4147-acdf-464ae1b79272 label.sk-toggleable__label-arrow:hover:before {color: black;}#sk-028cb397-ea0f-4147-acdf-464ae1b79272 div.sk-estimator:hover label.sk-toggleable__label-arrow:before {color: black;}#sk-028cb397-ea0f-4147-acdf-464ae1b79272 div.sk-toggleable__content {max-height: 0;max-width: 0;overflow: hidden;text-align: left;background-color: #f0f8ff;}#sk-028cb397-ea0f-4147-acdf-464ae1b79272 div.sk-toggleable__content pre {margin: 0.2em;color: black;border-radius: 0.25em;background-color: #f0f8ff;}#sk-028cb397-ea0f-4147-acdf-464ae1b79272 input.sk-toggleable__control:checked~div.sk-toggleable__content {max-height: 200px;max-width: 100%;overflow: auto;}#sk-028cb397-ea0f-4147-acdf-464ae1b79272 input.sk-toggleable__control:checked~label.sk-toggleable__label-arrow:before {content: \"▾\";}#sk-028cb397-ea0f-4147-acdf-464ae1b79272 div.sk-estimator input.sk-toggleable__control:checked~label.sk-toggleable__label {background-color: #d4ebff;}#sk-028cb397-ea0f-4147-acdf-464ae1b79272 div.sk-label input.sk-toggleable__control:checked~label.sk-toggleable__label {background-color: #d4ebff;}#sk-028cb397-ea0f-4147-acdf-464ae1b79272 input.sk-hidden--visually {border: 0;clip: rect(1px 1px 1px 1px);clip: rect(1px, 1px, 1px, 1px);height: 1px;margin: -1px;overflow: hidden;padding: 0;position: absolute;width: 1px;}#sk-028cb397-ea0f-4147-acdf-464ae1b79272 div.sk-estimator {font-family: monospace;background-color: #f0f8ff;border: 1px dotted black;border-radius: 0.25em;box-sizing: border-box;margin-bottom: 0.5em;}#sk-028cb397-ea0f-4147-acdf-464ae1b79272 div.sk-estimator:hover {background-color: #d4ebff;}#sk-028cb397-ea0f-4147-acdf-464ae1b79272 div.sk-parallel-item::after {content: \"\";width: 100%;border-bottom: 1px solid gray;flex-grow: 1;}#sk-028cb397-ea0f-4147-acdf-464ae1b79272 div.sk-label:hover label.sk-toggleable__label {background-color: #d4ebff;}#sk-028cb397-ea0f-4147-acdf-464ae1b79272 div.sk-serial::before {content: \"\";position: absolute;border-left: 1px solid gray;box-sizing: border-box;top: 2em;bottom: 0;left: 50%;}#sk-028cb397-ea0f-4147-acdf-464ae1b79272 div.sk-serial {display: flex;flex-direction: column;align-items: center;background-color: white;padding-right: 0.2em;padding-left: 0.2em;}#sk-028cb397-ea0f-4147-acdf-464ae1b79272 div.sk-item {z-index: 1;}#sk-028cb397-ea0f-4147-acdf-464ae1b79272 div.sk-parallel {display: flex;align-items: stretch;justify-content: center;background-color: white;}#sk-028cb397-ea0f-4147-acdf-464ae1b79272 div.sk-parallel::before {content: \"\";position: absolute;border-left: 1px solid gray;box-sizing: border-box;top: 2em;bottom: 0;left: 50%;}#sk-028cb397-ea0f-4147-acdf-464ae1b79272 div.sk-parallel-item {display: flex;flex-direction: column;position: relative;background-color: white;}#sk-028cb397-ea0f-4147-acdf-464ae1b79272 div.sk-parallel-item:first-child::after {align-self: flex-end;width: 50%;}#sk-028cb397-ea0f-4147-acdf-464ae1b79272 div.sk-parallel-item:last-child::after {align-self: flex-start;width: 50%;}#sk-028cb397-ea0f-4147-acdf-464ae1b79272 div.sk-parallel-item:only-child::after {width: 0;}#sk-028cb397-ea0f-4147-acdf-464ae1b79272 div.sk-dashed-wrapped {border: 1px dashed gray;margin: 0 0.4em 0.5em 0.4em;box-sizing: border-box;padding-bottom: 0.4em;background-color: white;position: relative;}#sk-028cb397-ea0f-4147-acdf-464ae1b79272 div.sk-label label {font-family: monospace;font-weight: bold;background-color: white;display: inline-block;line-height: 1.2em;}#sk-028cb397-ea0f-4147-acdf-464ae1b79272 div.sk-label-container {position: relative;z-index: 2;text-align: center;}#sk-028cb397-ea0f-4147-acdf-464ae1b79272 div.sk-container {/* jupyter's `normalize.less` sets `[hidden] { display: none; }` but bootstrap.min.css set `[hidden] { display: none !important; }` so we also need the `!important` here to be able to override the default hidden behavior on the sphinx rendered scikit-learn.org. See: https://github.com/scikit-learn/scikit-learn/issues/21755 */display: inline-block !important;position: relative;}#sk-028cb397-ea0f-4147-acdf-464ae1b79272 div.sk-text-repr-fallback {display: none;}</style><div id=\"sk-028cb397-ea0f-4147-acdf-464ae1b79272\" class=\"sk-top-container\"><div class=\"sk-text-repr-fallback\"><pre>SGDRegressor(early_stopping=True, learning_rate=&#x27;constant&#x27;, max_iter=20000,\n",
       "             n_iter_no_change=10, warm_start=True)</pre><b>Please rerun this cell to show the HTML repr or trust the notebook.</b></div><div class=\"sk-container\" hidden><div class=\"sk-item\"><div class=\"sk-estimator sk-toggleable\"><input class=\"sk-toggleable__control sk-hidden--visually\" id=\"fc632bd9-99c7-40e3-94d4-9840c10fd1ba\" type=\"checkbox\" checked><label for=\"fc632bd9-99c7-40e3-94d4-9840c10fd1ba\" class=\"sk-toggleable__label sk-toggleable__label-arrow\">SGDRegressor</label><div class=\"sk-toggleable__content\"><pre>SGDRegressor(early_stopping=True, learning_rate=&#x27;constant&#x27;, max_iter=20000,\n",
       "             n_iter_no_change=10, warm_start=True)</pre></div></div></div></div></div>"
      ],
      "text/plain": [
       "SGDRegressor(early_stopping=True, learning_rate='constant', max_iter=20000,\n",
       "             n_iter_no_change=10, warm_start=True)"
      ]
     },
     "execution_count": 18,
     "metadata": {},
     "output_type": "execute_result"
    }
   ],
   "source": [
    "model = joblib.load('model.pkl')\n",
    "model"
   ]
  },
  {
   "cell_type": "markdown",
   "id": "41362180",
   "metadata": {},
   "source": [
    "# Testing on the test data"
   ]
  },
  {
   "cell_type": "code",
   "execution_count": 19,
   "id": "fcd91a52",
   "metadata": {},
   "outputs": [
    {
     "name": "stdout",
     "output_type": "stream",
     "text": [
      "The Score of the model is: 0.4758432676870423\n"
     ]
    }
   ],
   "source": [
    "# contating \n",
    "f_df = pd.concat([X_test,y_test],axis=1)\n",
    "# data cleaning\n",
    "Xf,yf = data_clean(f_df.drop(['sellingprice','vin','saledate'],axis=1),f_df['sellingprice'])\n",
    "# transforming the test data\n",
    "f= processing_pipeline.transform(Xf)\n",
    "# predicting the test data\n",
    "yff = model.predict(f)\n",
    "score = model.score(f,yf)*-1\n",
    "print('The Score of the model is:',score)"
   ]
  },
  {
   "cell_type": "code",
   "execution_count": null,
   "id": "4f9224bf",
   "metadata": {},
   "outputs": [],
   "source": []
  },
  {
   "cell_type": "code",
   "execution_count": null,
   "id": "4a54ef10",
   "metadata": {},
   "outputs": [],
   "source": []
  }
 ],
 "metadata": {
  "kernelspec": {
   "display_name": "Python 3 (ipykernel)",
   "language": "python",
   "name": "python3"
  },
  "language_info": {
   "codemirror_mode": {
    "name": "ipython",
    "version": 3
   },
   "file_extension": ".py",
   "mimetype": "text/x-python",
   "name": "python",
   "nbconvert_exporter": "python",
   "pygments_lexer": "ipython3",
   "version": "3.9.12"
  },
  "toc": {
   "base_numbering": 1,
   "nav_menu": {},
   "number_sections": false,
   "sideBar": true,
   "skip_h1_title": false,
   "title_cell": "Table of Contents",
   "title_sidebar": "Contents",
   "toc_cell": false,
   "toc_position": {},
   "toc_section_display": true,
   "toc_window_display": false
  }
 },
 "nbformat": 4,
 "nbformat_minor": 5
}
