{
 "cells": [
  {
   "cell_type": "markdown",
   "metadata": {},
   "source": [
    "# Classifier Evaluation Assignment\n",
    "\n",
    "- Complete this Jupyter Notebook.  \n",
    "- Execute the initial cells and answer the numbered questions.  \n",
    "- Don't import other libraries."
   ]
  },
  {
   "cell_type": "code",
   "execution_count": 1,
   "metadata": {},
   "outputs": [
    {
     "data": {
      "text/html": [
       "<div>\n",
       "<style scoped>\n",
       "    .dataframe tbody tr th:only-of-type {\n",
       "        vertical-align: middle;\n",
       "    }\n",
       "\n",
       "    .dataframe tbody tr th {\n",
       "        vertical-align: top;\n",
       "    }\n",
       "\n",
       "    .dataframe thead th {\n",
       "        text-align: right;\n",
       "    }\n",
       "</style>\n",
       "<table border=\"1\" class=\"dataframe\">\n",
       "  <thead>\n",
       "    <tr style=\"text-align: right;\">\n",
       "      <th></th>\n",
       "      <th>actual</th>\n",
       "      <th>prob</th>\n",
       "    </tr>\n",
       "  </thead>\n",
       "  <tbody>\n",
       "    <tr>\n",
       "      <th>0</th>\n",
       "      <td>0.0</td>\n",
       "      <td>0.380052</td>\n",
       "    </tr>\n",
       "    <tr>\n",
       "      <th>1</th>\n",
       "      <td>1.0</td>\n",
       "      <td>0.827923</td>\n",
       "    </tr>\n",
       "    <tr>\n",
       "      <th>2</th>\n",
       "      <td>1.0</td>\n",
       "      <td>0.929093</td>\n",
       "    </tr>\n",
       "    <tr>\n",
       "      <th>3</th>\n",
       "      <td>1.0</td>\n",
       "      <td>0.472508</td>\n",
       "    </tr>\n",
       "    <tr>\n",
       "      <th>4</th>\n",
       "      <td>1.0</td>\n",
       "      <td>0.906988</td>\n",
       "    </tr>\n",
       "  </tbody>\n",
       "</table>\n",
       "</div>"
      ],
      "text/plain": [
       "   actual      prob\n",
       "0     0.0  0.380052\n",
       "1     1.0  0.827923\n",
       "2     1.0  0.929093\n",
       "3     1.0  0.472508\n",
       "4     1.0  0.906988"
      ]
     },
     "execution_count": 1,
     "metadata": {},
     "output_type": "execute_result"
    }
   ],
   "source": [
    "import pandas as pd\n",
    "import numpy as np\n",
    "import matplotlib.pyplot as plt\n",
    "%matplotlib inline\n",
    "\n",
    "results = pd.read_csv('https://raw.githubusercontent.com/msaricaumbc/DS_data/master/ds602/lab-evaluation-data.csv')\n",
    "results.head()"
   ]
  },
  {
   "cell_type": "markdown",
   "metadata": {},
   "source": [
    "## Data Definitions\n",
    "- `actual`: Whether the event was true or not. A value of 1.0 is True and 0.0 is False.  \n",
    "- `prob`: The probability that the event was True. This is estimated from a classification model."
   ]
  },
  {
   "cell_type": "markdown",
   "metadata": {},
   "source": [
    "## Question 1\n",
    "- Determine the distribution of the actual event.\n",
    "- Would you be concerned about bias due to imbalance?"
   ]
  },
  {
   "cell_type": "code",
   "execution_count": 2,
   "metadata": {},
   "outputs": [
    {
     "data": {
      "text/plain": [
       "<AxesSubplot:>"
      ]
     },
     "execution_count": 2,
     "metadata": {},
     "output_type": "execute_result"
    },
    {
     "data": {
      "image/png": "[encoded data removed]",
      "text/plain": [
       "<Figure size 432x288 with 1 Axes>"
      ]
     },
     "metadata": {
      "needs_background": "light"
     },
     "output_type": "display_data"
    }
   ],
   "source": [
    "results['actual'].hist()"
   ]
  },
  {
   "cell_type": "code",
   "execution_count": 3,
   "metadata": {},
   "outputs": [
    {
     "data": {
      "text/plain": [
       "1.0    3000\n",
       "0.0    2000\n",
       "Name: actual, dtype: int64"
      ]
     },
     "execution_count": 3,
     "metadata": {},
     "output_type": "execute_result"
    }
   ],
   "source": [
    "results['actual'].value_counts()"
   ]
  },
  {
   "cell_type": "markdown",
   "metadata": {},
   "source": [
    "### Insights from above plot\n",
    "- The data doesn't have equal number of records for each of the classes (0 and 1) and this makes the data imbalanced\n",
    "- Since the precentage split of classes is in the 60% and 40% ratio this should not limit the model from learning the underlying patters in both the classes"
   ]
  },
  {
   "cell_type": "markdown",
   "metadata": {},
   "source": [
    "## Question 2\n",
    "- Create a histogram that shows the distribution of the probabilities for the True and False classes.  \n",
    "- Describe what you observe."
   ]
  },
  {
   "cell_type": "code",
   "execution_count": 4,
   "metadata": {},
   "outputs": [
    {
     "data": {
      "image/png": "[encoded data removed]",
      "text/plain": [
       "<Figure size 432x288 with 1 Axes>"
      ]
     },
     "metadata": {
      "needs_background": "light"
     },
     "output_type": "display_data"
    }
   ],
   "source": [
    "results['prob'].hist()\n",
    "plt.show()"
   ]
  },
  {
   "cell_type": "code",
   "execution_count": 5,
   "metadata": {},
   "outputs": [
    {
     "data": {
      "image/png": "[encoded data removed]",
      "text/plain": [
       "<Figure size 432x288 with 1 Axes>"
      ]
     },
     "metadata": {
      "needs_background": "light"
     },
     "output_type": "display_data"
    }
   ],
   "source": [
    "results[results['actual'] ==1]['prob'].hist()\n",
    "plt.title('Distribution of True class')\n",
    "plt.show()"
   ]
  },
  {
   "cell_type": "markdown",
   "metadata": {},
   "source": [
    "- Since the probabilities belong to True class the plot is left tailed\n",
    "- The left part of the histogram are the outcomes whose actual value is 1 but predicted to have less probality to be 1\n",
    "- The right part of the histogram are the outcomes whose actual value is 1 and predicted to have more probality to be 1"
   ]
  },
  {
   "cell_type": "code",
   "execution_count": 6,
   "metadata": {},
   "outputs": [
    {
     "data": {
      "image/png": "[encoded data removed]",
      "text/plain": [
       "<Figure size 432x288 with 1 Axes>"
      ]
     },
     "metadata": {
      "needs_background": "light"
     },
     "output_type": "display_data"
    }
   ],
   "source": [
    "results[results['actual'] ==0]['prob'].hist()\n",
    "plt.title('Distribution of False class')\n",
    "plt.show()"
   ]
  },
  {
   "cell_type": "markdown",
   "metadata": {},
   "source": [
    "- Since the probabilities belong to True class the plot is right tailed\n",
    "- The left part of the histogram are the outcomes whose actual value is 0 and predicted to have less probality to be 1\n",
    "- The right part of the histogram are the outcomes whose actual value is 0 but predicted to have more probality to be 1"
   ]
  },
  {
   "cell_type": "markdown",
   "metadata": {},
   "source": [
    "## Question 3\n",
    "- Create a simple confusion matrix. Use `0.5` as the threshold for whether an observation should be considered True or False.  \n",
    "- Comment on what you observe."
   ]
  },
  {
   "cell_type": "code",
   "execution_count": 7,
   "metadata": {},
   "outputs": [
    {
     "data": {
      "text/plain": [
       "0       0\n",
       "1       1\n",
       "2       1\n",
       "3       0\n",
       "4       1\n",
       "       ..\n",
       "4995    0\n",
       "4996    1\n",
       "4997    1\n",
       "4998    0\n",
       "4999    1\n",
       "Name: pred, Length: 5000, dtype: int64"
      ]
     },
     "execution_count": 7,
     "metadata": {},
     "output_type": "execute_result"
    }
   ],
   "source": [
    "results['pred'] = results['prob'].apply(lambda x : 1 if x>0.5 else 0 )\n",
    "results['pred']"
   ]
  },
  {
   "cell_type": "code",
   "execution_count": 8,
   "metadata": {},
   "outputs": [
    {
     "data": {
      "text/html": [
       "<div>\n",
       "<style scoped>\n",
       "    .dataframe tbody tr th:only-of-type {\n",
       "        vertical-align: middle;\n",
       "    }\n",
       "\n",
       "    .dataframe tbody tr th {\n",
       "        vertical-align: top;\n",
       "    }\n",
       "\n",
       "    .dataframe thead th {\n",
       "        text-align: right;\n",
       "    }\n",
       "</style>\n",
       "<table border=\"1\" class=\"dataframe\">\n",
       "  <thead>\n",
       "    <tr style=\"text-align: right;\">\n",
       "      <th></th>\n",
       "      <th>actual</th>\n",
       "      <th>pred</th>\n",
       "    </tr>\n",
       "  </thead>\n",
       "  <tbody>\n",
       "    <tr>\n",
       "      <th>0</th>\n",
       "      <td>0.0</td>\n",
       "      <td>0</td>\n",
       "    </tr>\n",
       "    <tr>\n",
       "      <th>1</th>\n",
       "      <td>1.0</td>\n",
       "      <td>1</td>\n",
       "    </tr>\n",
       "    <tr>\n",
       "      <th>2</th>\n",
       "      <td>1.0</td>\n",
       "      <td>1</td>\n",
       "    </tr>\n",
       "    <tr>\n",
       "      <th>3</th>\n",
       "      <td>1.0</td>\n",
       "      <td>0</td>\n",
       "    </tr>\n",
       "    <tr>\n",
       "      <th>4</th>\n",
       "      <td>1.0</td>\n",
       "      <td>1</td>\n",
       "    </tr>\n",
       "    <tr>\n",
       "      <th>...</th>\n",
       "      <td>...</td>\n",
       "      <td>...</td>\n",
       "    </tr>\n",
       "    <tr>\n",
       "      <th>4995</th>\n",
       "      <td>0.0</td>\n",
       "      <td>0</td>\n",
       "    </tr>\n",
       "    <tr>\n",
       "      <th>4996</th>\n",
       "      <td>1.0</td>\n",
       "      <td>1</td>\n",
       "    </tr>\n",
       "    <tr>\n",
       "      <th>4997</th>\n",
       "      <td>1.0</td>\n",
       "      <td>1</td>\n",
       "    </tr>\n",
       "    <tr>\n",
       "      <th>4998</th>\n",
       "      <td>0.0</td>\n",
       "      <td>0</td>\n",
       "    </tr>\n",
       "    <tr>\n",
       "      <th>4999</th>\n",
       "      <td>1.0</td>\n",
       "      <td>1</td>\n",
       "    </tr>\n",
       "  </tbody>\n",
       "</table>\n",
       "<p>5000 rows × 2 columns</p>\n",
       "</div>"
      ],
      "text/plain": [
       "      actual  pred\n",
       "0        0.0     0\n",
       "1        1.0     1\n",
       "2        1.0     1\n",
       "3        1.0     0\n",
       "4        1.0     1\n",
       "...      ...   ...\n",
       "4995     0.0     0\n",
       "4996     1.0     1\n",
       "4997     1.0     1\n",
       "4998     0.0     0\n",
       "4999     1.0     1\n",
       "\n",
       "[5000 rows x 2 columns]"
      ]
     },
     "execution_count": 8,
     "metadata": {},
     "output_type": "execute_result"
    }
   ],
   "source": [
    "results[['actual','pred']]"
   ]
  },
  {
   "cell_type": "code",
   "execution_count": 9,
   "metadata": {},
   "outputs": [],
   "source": [
    "tp = 0\n",
    "tn = 0\n",
    "fp = 0\n",
    "fn = 0\n",
    "#the confusion matrix has 2 classes: 0,1\n",
    "#1=positive, 0=negative\n",
    "for i in range(len(results['actual'])):\n",
    "    if results['actual'][i] == results['pred'][i]:\n",
    "        if results['actual'][i] == 1:\n",
    "            tp += 1\n",
    "        else:\n",
    "            tn += 1\n",
    "    else:\n",
    "        if results['actual'][i] == 0:\n",
    "            fp += 1\n",
    "        else:\n",
    "            fn += 1\n",
    "matrix = np.zeros((2,2),int)\n",
    "matrix[0,0] = tp\n",
    "matrix[0,1] = fp\n",
    "matrix[1,0] = fn\n",
    "matrix[1,1] = tn "
   ]
  },
  {
   "cell_type": "code",
   "execution_count": 10,
   "metadata": {},
   "outputs": [
    {
     "data": {
      "text/plain": [
       "array([[2623,  210],\n",
       "       [ 377, 1790]])"
      ]
     },
     "execution_count": 10,
     "metadata": {},
     "output_type": "execute_result"
    }
   ],
   "source": [
    "matrix"
   ]
  },
  {
   "cell_type": "markdown",
   "metadata": {},
   "source": [
    "### Insights from above matrix\n",
    "- <b>True Positives</b>:For 2623 occasions, the model predicted True(1) while the actual value was True(1).\n",
    "- <b>False Positives</b>:For 210 occasions, the model predicted True(1) while the actual value was False(0).\n",
    "- <b>False Negatives</b>:For 377 occasions, the model predicted False(0) while the actual value was True(1)\n",
    "- <b>True Negatives</b>:For 1790 occasions, the model predicted False(0) while the actual value was False(0).\n",
    "- TP > TN as the data set is biased towards majority class (True or 1) "
   ]
  },
  {
   "cell_type": "markdown",
   "metadata": {},
   "source": [
    "## Question 4\n",
    "- Calculate the accuracy, precision, and recall `without` using any pre-built functions.\n",
    "- Which measure would you use if this was your model and why?"
   ]
  },
  {
   "cell_type": "code",
   "execution_count": 11,
   "metadata": {},
   "outputs": [
    {
     "data": {
      "text/plain": [
       "0.8826"
      ]
     },
     "execution_count": 11,
     "metadata": {},
     "output_type": "execute_result"
    }
   ],
   "source": [
    "accuracy = (tp + tn)/(tp + tn + fp + fn)\n",
    "accuracy"
   ]
  },
  {
   "cell_type": "markdown",
   "metadata": {},
   "source": [
    "### Precision & Recall for 1 class"
   ]
  },
  {
   "cell_type": "code",
   "execution_count": 12,
   "metadata": {},
   "outputs": [
    {
     "name": "stdout",
     "output_type": "stream",
     "text": [
      "Precision for class 1: 0.9258736321920226\n",
      "Recall for class 1: 0.8743333333333333\n"
     ]
    }
   ],
   "source": [
    "precision_1 = tp/(tp + fp)\n",
    "recall_1 = tp / (tp + fn)\n",
    "print('Precision for class 1:',precision_1)\n",
    "print(\"Recall for class 1:\",recall_1)"
   ]
  },
  {
   "cell_type": "markdown",
   "metadata": {},
   "source": [
    "### Precision & Recall for 0 class"
   ]
  },
  {
   "cell_type": "code",
   "execution_count": 13,
   "metadata": {},
   "outputs": [
    {
     "name": "stdout",
     "output_type": "stream",
     "text": [
      "Precision for class 0: 0.8260267651130595\n",
      "Recall for class 0: 0.895\n"
     ]
    }
   ],
   "source": [
    "precision_0 = tn/(tn + fn)\n",
    "recall_0 = tn / (tn + fp)\n",
    "print('Precision for class 0:',precision_0)\n",
    "print(\"Recall for class 0:\",recall_0)"
   ]
  },
  {
   "cell_type": "markdown",
   "metadata": {},
   "source": [
    "- It is difficult to decide which metric has greater impact without knowing the usecase of the model\n",
    "- For the cancer detection models, we concentrate on decreasing  false negative rate for which recall has greater impact than precision\n",
    "- For the spam detection models, we concentrate on decreasing  false positive rate for which precision has greater impact than recall\n",
    "- From the confusion matrix the rate of FPR & FNR are almost equal to 11%. So accuracy might be good metric to measure "
   ]
  },
  {
   "cell_type": "markdown",
   "metadata": {},
   "source": [
    "## Question 5\n",
    "- Construct a ROC curve plot.  \n",
    "- Comment on the fit of the model based on this chart."
   ]
  },
  {
   "cell_type": "code",
   "execution_count": 14,
   "metadata": {},
   "outputs": [],
   "source": [
    "def tpr_fpr(condition_array, actual_vals):\n",
    "    tp = np.equal(condition_array, 1) & np.equal(actual_vals, 1)\n",
    "    tn = np.equal(condition_array, 0) & np.equal(actual_vals, 0)\n",
    "    fp = np.equal(condition_array, 1) & np.equal(actual_vals, 0)\n",
    "    fn = np.equal(condition_array, 0) & np.equal(actual_vals, 1)\n",
    "\n",
    "    tpr = sum(tp) / (sum(tp) + sum(fn))\n",
    "    fpr = sum(fp) / (sum(fp) + sum(tn))\n",
    "\n",
    "    return tpr, fpr"
   ]
  },
  {
   "cell_type": "code",
   "execution_count": 15,
   "metadata": {},
   "outputs": [],
   "source": [
    "def roc(prob, actual_vals):\n",
    "    # assuming partitions = 100\n",
    "    thresholds = np.linspace(0, 1, 101)\n",
    "    tpr_list = []\n",
    "    fpr_list = []\n",
    "    for thresh in thresholds:\n",
    "        preds = (prob >= thresh).astype(int)\n",
    "        tp = np.sum((preds == 1) & (actual_vals == 1))\n",
    "        tn = np.sum((preds == 0) & (actual_vals == 0))\n",
    "        fp = np.sum((preds == 1) & (actual_vals == 0))\n",
    "        fn = np.sum((preds == 0) & (actual_vals == 1))\n",
    "        tpr = tp / (tp + fn)\n",
    "        fpr = fp / (fp + tn)\n",
    "        tpr_list.append(tpr)\n",
    "        fpr_list.append(fpr)\n",
    "    roc = np.column_stack((fpr_list, tpr_list))\n",
    "    return roc"
   ]
  },
  {
   "cell_type": "code",
   "execution_count": 16,
   "metadata": {},
   "outputs": [
    {
     "data": {
      "image/png": "[encoded data removed]",
      "text/plain": [
       "<Figure size 432x288 with 1 Axes>"
      ]
     },
     "metadata": {
      "needs_background": "light"
     },
     "output_type": "display_data"
    }
   ],
   "source": [
    "roc_curve = roc(results['prob'],results['actual'])\n",
    "plt.plot(roc_curve[:,0],roc_curve[:,1],color='red')\n",
    "plt.title('ROC Curve',fontsize=15)\n",
    "plt.xlabel('False Positive Rate')\n",
    "plt.ylabel('True Positive Rate')\n",
    "plt.plot([0, 1], [0, 1], color='navy', linestyle='--')\n",
    "plt.show()"
   ]
  },
  {
   "cell_type": "markdown",
   "metadata": {},
   "source": [
    "### Insights from above plot\n",
    "- Since there is lot of area under the curve, the model performance is not bad\n",
    "- But there may be models that might give more TPR than FNR occupying larger area under the curves  "
   ]
  }
 ],
 "metadata": {
  "kernelspec": {
   "display_name": "Python 3 (ipykernel)",
   "language": "python",
   "name": "python3"
  },
  "language_info": {
   "codemirror_mode": {
    "name": "ipython",
    "version": 3
   },
   "file_extension": ".py",
   "mimetype": "text/x-python",
   "name": "python",
   "nbconvert_exporter": "python",
   "pygments_lexer": "ipython3",
   "version": "3.9.12"
  },
  "toc": {
   "base_numbering": 1,
   "nav_menu": {},
   "number_sections": false,
   "sideBar": true,
   "skip_h1_title": false,
   "title_cell": "Table of Contents",
   "title_sidebar": "Contents",
   "toc_cell": false,
   "toc_position": {},
   "toc_section_display": true,
   "toc_window_display": false
  }
 },
 "nbformat": 4,
 "nbformat_minor": 4
}
