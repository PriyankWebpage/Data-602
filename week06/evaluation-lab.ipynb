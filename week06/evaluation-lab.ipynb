{
 "cells": [
  {
   "cell_type": "markdown",
   "id": "0b3c2eb6",
   "metadata": {},
   "source": [
    "# Classifier Evaluation Lab\n",
    "\n",
    "* Copy&paste your model for homework5 model\n",
    "* Add grid search and train\n",
    "* Compare performance\n",
    "* Which one is better? Explain?"
   ]
  },
  {
   "cell_type": "code",
   "execution_count": 1,
   "id": "8c03dd9a",
   "metadata": {},
   "outputs": [
    {
     "data": {
      "text/html": [
       "<div>\n",
       "<style scoped>\n",
       "    .dataframe tbody tr th:only-of-type {\n",
       "        vertical-align: middle;\n",
       "    }\n",
       "\n",
       "    .dataframe tbody tr th {\n",
       "        vertical-align: top;\n",
       "    }\n",
       "\n",
       "    .dataframe thead th {\n",
       "        text-align: right;\n",
       "    }\n",
       "</style>\n",
       "<table border=\"1\" class=\"dataframe\">\n",
       "  <thead>\n",
       "    <tr style=\"text-align: right;\">\n",
       "      <th></th>\n",
       "      <th>left_company</th>\n",
       "      <th>age</th>\n",
       "      <th>frequency_of_travel</th>\n",
       "      <th>department</th>\n",
       "      <th>commuting_distance</th>\n",
       "      <th>education</th>\n",
       "      <th>satisfaction_with_environment</th>\n",
       "      <th>gender</th>\n",
       "      <th>seniority_level</th>\n",
       "      <th>position</th>\n",
       "      <th>satisfaction_with_job</th>\n",
       "      <th>married_or_single</th>\n",
       "      <th>last_raise_pct</th>\n",
       "      <th>last_performance_rating</th>\n",
       "      <th>total_years_working</th>\n",
       "      <th>years_at_company</th>\n",
       "      <th>years_in_current_job</th>\n",
       "      <th>years_since_last_promotion</th>\n",
       "      <th>years_with_current_supervisor</th>\n",
       "    </tr>\n",
       "  </thead>\n",
       "  <tbody>\n",
       "    <tr>\n",
       "      <th>0</th>\n",
       "      <td>No</td>\n",
       "      <td>37</td>\n",
       "      <td>Travel_Rarely</td>\n",
       "      <td>Sales</td>\n",
       "      <td>16</td>\n",
       "      <td>4</td>\n",
       "      <td>4</td>\n",
       "      <td>Male</td>\n",
       "      <td>2</td>\n",
       "      <td>Sales Executive</td>\n",
       "      <td>3</td>\n",
       "      <td>Divorced</td>\n",
       "      <td>19</td>\n",
       "      <td>3</td>\n",
       "      <td>9</td>\n",
       "      <td>1</td>\n",
       "      <td>0</td>\n",
       "      <td>0</td>\n",
       "      <td>0</td>\n",
       "    </tr>\n",
       "    <tr>\n",
       "      <th>1</th>\n",
       "      <td>No</td>\n",
       "      <td>39</td>\n",
       "      <td>Travel_Rarely</td>\n",
       "      <td>Research &amp; Development</td>\n",
       "      <td>3</td>\n",
       "      <td>2</td>\n",
       "      <td>3</td>\n",
       "      <td>Male</td>\n",
       "      <td>2</td>\n",
       "      <td>Laboratory Technician</td>\n",
       "      <td>3</td>\n",
       "      <td>Divorced</td>\n",
       "      <td>15</td>\n",
       "      <td>3</td>\n",
       "      <td>11</td>\n",
       "      <td>10</td>\n",
       "      <td>8</td>\n",
       "      <td>0</td>\n",
       "      <td>7</td>\n",
       "    </tr>\n",
       "    <tr>\n",
       "      <th>2</th>\n",
       "      <td>No</td>\n",
       "      <td>52</td>\n",
       "      <td>Travel_Frequently</td>\n",
       "      <td>Research &amp; Development</td>\n",
       "      <td>25</td>\n",
       "      <td>4</td>\n",
       "      <td>3</td>\n",
       "      <td>Female</td>\n",
       "      <td>4</td>\n",
       "      <td>Manufacturing Director</td>\n",
       "      <td>4</td>\n",
       "      <td>Married</td>\n",
       "      <td>22</td>\n",
       "      <td>4</td>\n",
       "      <td>31</td>\n",
       "      <td>9</td>\n",
       "      <td>8</td>\n",
       "      <td>0</td>\n",
       "      <td>0</td>\n",
       "    </tr>\n",
       "    <tr>\n",
       "      <th>3</th>\n",
       "      <td>No</td>\n",
       "      <td>50</td>\n",
       "      <td>Non-Travel</td>\n",
       "      <td>Sales</td>\n",
       "      <td>1</td>\n",
       "      <td>3</td>\n",
       "      <td>4</td>\n",
       "      <td>Female</td>\n",
       "      <td>2</td>\n",
       "      <td>Sales Executive</td>\n",
       "      <td>3</td>\n",
       "      <td>Married</td>\n",
       "      <td>12</td>\n",
       "      <td>3</td>\n",
       "      <td>19</td>\n",
       "      <td>18</td>\n",
       "      <td>7</td>\n",
       "      <td>0</td>\n",
       "      <td>13</td>\n",
       "    </tr>\n",
       "    <tr>\n",
       "      <th>4</th>\n",
       "      <td>No</td>\n",
       "      <td>44</td>\n",
       "      <td>Travel_Rarely</td>\n",
       "      <td>Research &amp; Development</td>\n",
       "      <td>4</td>\n",
       "      <td>3</td>\n",
       "      <td>4</td>\n",
       "      <td>Male</td>\n",
       "      <td>2</td>\n",
       "      <td>Healthcare Representative</td>\n",
       "      <td>2</td>\n",
       "      <td>Single</td>\n",
       "      <td>12</td>\n",
       "      <td>3</td>\n",
       "      <td>10</td>\n",
       "      <td>5</td>\n",
       "      <td>2</td>\n",
       "      <td>2</td>\n",
       "      <td>3</td>\n",
       "    </tr>\n",
       "  </tbody>\n",
       "</table>\n",
       "</div>"
      ],
      "text/plain": [
       "  left_company  age frequency_of_travel              department  \\\n",
       "0           No   37       Travel_Rarely                   Sales   \n",
       "1           No   39       Travel_Rarely  Research & Development   \n",
       "2           No   52   Travel_Frequently  Research & Development   \n",
       "3           No   50          Non-Travel                   Sales   \n",
       "4           No   44       Travel_Rarely  Research & Development   \n",
       "\n",
       "   commuting_distance  education  satisfaction_with_environment  gender  \\\n",
       "0                  16          4                              4    Male   \n",
       "1                   3          2                              3    Male   \n",
       "2                  25          4                              3  Female   \n",
       "3                   1          3                              4  Female   \n",
       "4                   4          3                              4    Male   \n",
       "\n",
       "   seniority_level                   position  satisfaction_with_job  \\\n",
       "0                2            Sales Executive                      3   \n",
       "1                2      Laboratory Technician                      3   \n",
       "2                4     Manufacturing Director                      4   \n",
       "3                2            Sales Executive                      3   \n",
       "4                2  Healthcare Representative                      2   \n",
       "\n",
       "  married_or_single  last_raise_pct  last_performance_rating  \\\n",
       "0          Divorced              19                        3   \n",
       "1          Divorced              15                        3   \n",
       "2           Married              22                        4   \n",
       "3           Married              12                        3   \n",
       "4            Single              12                        3   \n",
       "\n",
       "   total_years_working  years_at_company  years_in_current_job  \\\n",
       "0                    9                 1                     0   \n",
       "1                   11                10                     8   \n",
       "2                   31                 9                     8   \n",
       "3                   19                18                     7   \n",
       "4                   10                 5                     2   \n",
       "\n",
       "   years_since_last_promotion  years_with_current_supervisor  \n",
       "0                           0                              0  \n",
       "1                           0                              7  \n",
       "2                           0                              0  \n",
       "3                           0                             13  \n",
       "4                           2                              3  "
      ]
     },
     "execution_count": 1,
     "metadata": {},
     "output_type": "execute_result"
    }
   ],
   "source": [
    "import pandas as pd\n",
    "import numpy as np\n",
    "import matplotlib.pyplot as plt\n",
    "%matplotlib inline\n",
    "\n",
    "df = pd.read_csv('https://raw.githubusercontent.com/msaricaumbc/DS_data/master/ds602/log_reg/employee-turnover-balanced.csv')\n",
    "df.head()"
   ]
  },
  {
   "cell_type": "code",
   "execution_count": 2,
   "id": "4e6540c5",
   "metadata": {},
   "outputs": [],
   "source": [
    "numerical_vars = ['age','commuting_distance','last_raise_pct','total_years_working','years_at_company','years_in_current_job','years_since_last_promotion','years_with_current_supervisor']\n",
    "categorical_vars = ['frequency_of_travel', 'department','education','satisfaction_with_environment','gender','seniority_level','position','satisfaction_with_job','married_or_single','last_performance_rating']"
   ]
  },
  {
   "cell_type": "code",
   "execution_count": 3,
   "id": "bce0bcf8",
   "metadata": {},
   "outputs": [],
   "source": [
    "from sklearn.model_selection import train_test_split\n",
    "\n",
    "X = df.drop(['years_at_company','left_company','years_in_current_job'],axis='columns')\n",
    "y = df['left_company']\n",
    "X_train, X_test, y_train, y_test = train_test_split(X, y, test_size=0.2,random_state=124)"
   ]
  },
  {
   "cell_type": "code",
   "execution_count": 4,
   "id": "b3e08a00",
   "metadata": {},
   "outputs": [],
   "source": [
    "# created new numerical features list after droping 'years_at_company' and 'years_in_current_job' features\n",
    "new_numerical_vars = ['age','commuting_distance','last_raise_pct','total_years_working','years_since_last_promotion','years_with_current_supervisor']"
   ]
  },
  {
   "cell_type": "code",
   "execution_count": 5,
   "id": "f85a533e",
   "metadata": {},
   "outputs": [],
   "source": [
    "from sklearn import set_config\n",
    "from sklearn.pipeline import Pipeline\n",
    "from sklearn.impute import SimpleImputer\n",
    "from sklearn.preprocessing import StandardScaler\n",
    "from sklearn.preprocessing import OneHotEncoder"
   ]
  },
  {
   "cell_type": "code",
   "execution_count": 6,
   "id": "f1b6f1ce",
   "metadata": {},
   "outputs": [
    {
     "data": {
      "text/html": [
       "<style>#sk-04f84939-e65e-41d9-ad91-cdb7ef0f6842 {color: black;background-color: white;}#sk-04f84939-e65e-41d9-ad91-cdb7ef0f6842 pre{padding: 0;}#sk-04f84939-e65e-41d9-ad91-cdb7ef0f6842 div.sk-toggleable {background-color: white;}#sk-04f84939-e65e-41d9-ad91-cdb7ef0f6842 label.sk-toggleable__label {cursor: pointer;display: block;width: 100%;margin-bottom: 0;padding: 0.3em;box-sizing: border-box;text-align: center;}#sk-04f84939-e65e-41d9-ad91-cdb7ef0f6842 label.sk-toggleable__label-arrow:before {content: \"▸\";float: left;margin-right: 0.25em;color: #696969;}#sk-04f84939-e65e-41d9-ad91-cdb7ef0f6842 label.sk-toggleable__label-arrow:hover:before {color: black;}#sk-04f84939-e65e-41d9-ad91-cdb7ef0f6842 div.sk-estimator:hover label.sk-toggleable__label-arrow:before {color: black;}#sk-04f84939-e65e-41d9-ad91-cdb7ef0f6842 div.sk-toggleable__content {max-height: 0;max-width: 0;overflow: hidden;text-align: left;background-color: #f0f8ff;}#sk-04f84939-e65e-41d9-ad91-cdb7ef0f6842 div.sk-toggleable__content pre {margin: 0.2em;color: black;border-radius: 0.25em;background-color: #f0f8ff;}#sk-04f84939-e65e-41d9-ad91-cdb7ef0f6842 input.sk-toggleable__control:checked~div.sk-toggleable__content {max-height: 200px;max-width: 100%;overflow: auto;}#sk-04f84939-e65e-41d9-ad91-cdb7ef0f6842 input.sk-toggleable__control:checked~label.sk-toggleable__label-arrow:before {content: \"▾\";}#sk-04f84939-e65e-41d9-ad91-cdb7ef0f6842 div.sk-estimator input.sk-toggleable__control:checked~label.sk-toggleable__label {background-color: #d4ebff;}#sk-04f84939-e65e-41d9-ad91-cdb7ef0f6842 div.sk-label input.sk-toggleable__control:checked~label.sk-toggleable__label {background-color: #d4ebff;}#sk-04f84939-e65e-41d9-ad91-cdb7ef0f6842 input.sk-hidden--visually {border: 0;clip: rect(1px 1px 1px 1px);clip: rect(1px, 1px, 1px, 1px);height: 1px;margin: -1px;overflow: hidden;padding: 0;position: absolute;width: 1px;}#sk-04f84939-e65e-41d9-ad91-cdb7ef0f6842 div.sk-estimator {font-family: monospace;background-color: #f0f8ff;border: 1px dotted black;border-radius: 0.25em;box-sizing: border-box;margin-bottom: 0.5em;}#sk-04f84939-e65e-41d9-ad91-cdb7ef0f6842 div.sk-estimator:hover {background-color: #d4ebff;}#sk-04f84939-e65e-41d9-ad91-cdb7ef0f6842 div.sk-parallel-item::after {content: \"\";width: 100%;border-bottom: 1px solid gray;flex-grow: 1;}#sk-04f84939-e65e-41d9-ad91-cdb7ef0f6842 div.sk-label:hover label.sk-toggleable__label {background-color: #d4ebff;}#sk-04f84939-e65e-41d9-ad91-cdb7ef0f6842 div.sk-serial::before {content: \"\";position: absolute;border-left: 1px solid gray;box-sizing: border-box;top: 2em;bottom: 0;left: 50%;}#sk-04f84939-e65e-41d9-ad91-cdb7ef0f6842 div.sk-serial {display: flex;flex-direction: column;align-items: center;background-color: white;padding-right: 0.2em;padding-left: 0.2em;}#sk-04f84939-e65e-41d9-ad91-cdb7ef0f6842 div.sk-item {z-index: 1;}#sk-04f84939-e65e-41d9-ad91-cdb7ef0f6842 div.sk-parallel {display: flex;align-items: stretch;justify-content: center;background-color: white;}#sk-04f84939-e65e-41d9-ad91-cdb7ef0f6842 div.sk-parallel::before {content: \"\";position: absolute;border-left: 1px solid gray;box-sizing: border-box;top: 2em;bottom: 0;left: 50%;}#sk-04f84939-e65e-41d9-ad91-cdb7ef0f6842 div.sk-parallel-item {display: flex;flex-direction: column;position: relative;background-color: white;}#sk-04f84939-e65e-41d9-ad91-cdb7ef0f6842 div.sk-parallel-item:first-child::after {align-self: flex-end;width: 50%;}#sk-04f84939-e65e-41d9-ad91-cdb7ef0f6842 div.sk-parallel-item:last-child::after {align-self: flex-start;width: 50%;}#sk-04f84939-e65e-41d9-ad91-cdb7ef0f6842 div.sk-parallel-item:only-child::after {width: 0;}#sk-04f84939-e65e-41d9-ad91-cdb7ef0f6842 div.sk-dashed-wrapped {border: 1px dashed gray;margin: 0 0.4em 0.5em 0.4em;box-sizing: border-box;padding-bottom: 0.4em;background-color: white;position: relative;}#sk-04f84939-e65e-41d9-ad91-cdb7ef0f6842 div.sk-label label {font-family: monospace;font-weight: bold;background-color: white;display: inline-block;line-height: 1.2em;}#sk-04f84939-e65e-41d9-ad91-cdb7ef0f6842 div.sk-label-container {position: relative;z-index: 2;text-align: center;}#sk-04f84939-e65e-41d9-ad91-cdb7ef0f6842 div.sk-container {/* jupyter's `normalize.less` sets `[hidden] { display: none; }` but bootstrap.min.css set `[hidden] { display: none !important; }` so we also need the `!important` here to be able to override the default hidden behavior on the sphinx rendered scikit-learn.org. See: https://github.com/scikit-learn/scikit-learn/issues/21755 */display: inline-block !important;position: relative;}#sk-04f84939-e65e-41d9-ad91-cdb7ef0f6842 div.sk-text-repr-fallback {display: none;}</style><div id=\"sk-04f84939-e65e-41d9-ad91-cdb7ef0f6842\" class=\"sk-top-container\"><div class=\"sk-text-repr-fallback\"><pre>Pipeline(steps=[(&#x27;impute_missing&#x27;, SimpleImputer(strategy=&#x27;median&#x27;)),\n",
       "                (&#x27;standardize_num&#x27;, StandardScaler())])</pre><b>Please rerun this cell to show the HTML repr or trust the notebook.</b></div><div class=\"sk-container\" hidden><div class=\"sk-item sk-dashed-wrapped\"><div class=\"sk-label-container\"><div class=\"sk-label sk-toggleable\"><input class=\"sk-toggleable__control sk-hidden--visually\" id=\"df9d8174-bf94-4cc0-b8d4-6885b2044740\" type=\"checkbox\" ><label for=\"df9d8174-bf94-4cc0-b8d4-6885b2044740\" class=\"sk-toggleable__label sk-toggleable__label-arrow\">Pipeline</label><div class=\"sk-toggleable__content\"><pre>Pipeline(steps=[(&#x27;impute_missing&#x27;, SimpleImputer(strategy=&#x27;median&#x27;)),\n",
       "                (&#x27;standardize_num&#x27;, StandardScaler())])</pre></div></div></div><div class=\"sk-serial\"><div class=\"sk-item\"><div class=\"sk-estimator sk-toggleable\"><input class=\"sk-toggleable__control sk-hidden--visually\" id=\"61b51493-c222-477f-ae88-8b1754854992\" type=\"checkbox\" ><label for=\"61b51493-c222-477f-ae88-8b1754854992\" class=\"sk-toggleable__label sk-toggleable__label-arrow\">SimpleImputer</label><div class=\"sk-toggleable__content\"><pre>SimpleImputer(strategy=&#x27;median&#x27;)</pre></div></div></div><div class=\"sk-item\"><div class=\"sk-estimator sk-toggleable\"><input class=\"sk-toggleable__control sk-hidden--visually\" id=\"cff6b9e7-7271-4bb7-b91c-97fa6c1e7338\" type=\"checkbox\" ><label for=\"cff6b9e7-7271-4bb7-b91c-97fa6c1e7338\" class=\"sk-toggleable__label sk-toggleable__label-arrow\">StandardScaler</label><div class=\"sk-toggleable__content\"><pre>StandardScaler()</pre></div></div></div></div></div></div></div>"
      ],
      "text/plain": [
       "Pipeline(steps=[('impute_missing', SimpleImputer(strategy='median')),\n",
       "                ('standardize_num', StandardScaler())])"
      ]
     },
     "execution_count": 6,
     "metadata": {},
     "output_type": "execute_result"
    }
   ],
   "source": [
    "numerical_pipeline = Pipeline([('impute_missing', SimpleImputer(strategy='median')),\n",
    "                           ('standardize_num', StandardScaler())\n",
    "                        ])\n",
    "set_config(display='diagram')\n",
    "numerical_pipeline"
   ]
  },
  {
   "cell_type": "code",
   "execution_count": 7,
   "id": "b7c6f95c",
   "metadata": {},
   "outputs": [
    {
     "name": "stdout",
     "output_type": "stream",
     "text": [
      "Actual numerical rows and columns: (800, 6)\n",
      "Transformed numerical rows and columns: (800, 6)\n"
     ]
    }
   ],
   "source": [
    "transformed_numerical_rows_columns = numerical_pipeline.fit_transform(X_train[new_numerical_vars]).shape\n",
    "actual_numerical_rows_columns = X_train[new_numerical_vars].shape\n",
    "print(\"Actual numerical rows and columns:\",actual_numerical_rows_columns)\n",
    "print(\"Transformed numerical rows and columns:\",transformed_numerical_rows_columns)"
   ]
  },
  {
   "cell_type": "code",
   "execution_count": 8,
   "id": "9f0c66bb",
   "metadata": {},
   "outputs": [
    {
     "data": {
      "text/html": [
       "<style>#sk-2e94c39c-9e19-4c37-a3f7-bd12a19db20c {color: black;background-color: white;}#sk-2e94c39c-9e19-4c37-a3f7-bd12a19db20c pre{padding: 0;}#sk-2e94c39c-9e19-4c37-a3f7-bd12a19db20c div.sk-toggleable {background-color: white;}#sk-2e94c39c-9e19-4c37-a3f7-bd12a19db20c label.sk-toggleable__label {cursor: pointer;display: block;width: 100%;margin-bottom: 0;padding: 0.3em;box-sizing: border-box;text-align: center;}#sk-2e94c39c-9e19-4c37-a3f7-bd12a19db20c label.sk-toggleable__label-arrow:before {content: \"▸\";float: left;margin-right: 0.25em;color: #696969;}#sk-2e94c39c-9e19-4c37-a3f7-bd12a19db20c label.sk-toggleable__label-arrow:hover:before {color: black;}#sk-2e94c39c-9e19-4c37-a3f7-bd12a19db20c div.sk-estimator:hover label.sk-toggleable__label-arrow:before {color: black;}#sk-2e94c39c-9e19-4c37-a3f7-bd12a19db20c div.sk-toggleable__content {max-height: 0;max-width: 0;overflow: hidden;text-align: left;background-color: #f0f8ff;}#sk-2e94c39c-9e19-4c37-a3f7-bd12a19db20c div.sk-toggleable__content pre {margin: 0.2em;color: black;border-radius: 0.25em;background-color: #f0f8ff;}#sk-2e94c39c-9e19-4c37-a3f7-bd12a19db20c input.sk-toggleable__control:checked~div.sk-toggleable__content {max-height: 200px;max-width: 100%;overflow: auto;}#sk-2e94c39c-9e19-4c37-a3f7-bd12a19db20c input.sk-toggleable__control:checked~label.sk-toggleable__label-arrow:before {content: \"▾\";}#sk-2e94c39c-9e19-4c37-a3f7-bd12a19db20c div.sk-estimator input.sk-toggleable__control:checked~label.sk-toggleable__label {background-color: #d4ebff;}#sk-2e94c39c-9e19-4c37-a3f7-bd12a19db20c div.sk-label input.sk-toggleable__control:checked~label.sk-toggleable__label {background-color: #d4ebff;}#sk-2e94c39c-9e19-4c37-a3f7-bd12a19db20c input.sk-hidden--visually {border: 0;clip: rect(1px 1px 1px 1px);clip: rect(1px, 1px, 1px, 1px);height: 1px;margin: -1px;overflow: hidden;padding: 0;position: absolute;width: 1px;}#sk-2e94c39c-9e19-4c37-a3f7-bd12a19db20c div.sk-estimator {font-family: monospace;background-color: #f0f8ff;border: 1px dotted black;border-radius: 0.25em;box-sizing: border-box;margin-bottom: 0.5em;}#sk-2e94c39c-9e19-4c37-a3f7-bd12a19db20c div.sk-estimator:hover {background-color: #d4ebff;}#sk-2e94c39c-9e19-4c37-a3f7-bd12a19db20c div.sk-parallel-item::after {content: \"\";width: 100%;border-bottom: 1px solid gray;flex-grow: 1;}#sk-2e94c39c-9e19-4c37-a3f7-bd12a19db20c div.sk-label:hover label.sk-toggleable__label {background-color: #d4ebff;}#sk-2e94c39c-9e19-4c37-a3f7-bd12a19db20c div.sk-serial::before {content: \"\";position: absolute;border-left: 1px solid gray;box-sizing: border-box;top: 2em;bottom: 0;left: 50%;}#sk-2e94c39c-9e19-4c37-a3f7-bd12a19db20c div.sk-serial {display: flex;flex-direction: column;align-items: center;background-color: white;padding-right: 0.2em;padding-left: 0.2em;}#sk-2e94c39c-9e19-4c37-a3f7-bd12a19db20c div.sk-item {z-index: 1;}#sk-2e94c39c-9e19-4c37-a3f7-bd12a19db20c div.sk-parallel {display: flex;align-items: stretch;justify-content: center;background-color: white;}#sk-2e94c39c-9e19-4c37-a3f7-bd12a19db20c div.sk-parallel::before {content: \"\";position: absolute;border-left: 1px solid gray;box-sizing: border-box;top: 2em;bottom: 0;left: 50%;}#sk-2e94c39c-9e19-4c37-a3f7-bd12a19db20c div.sk-parallel-item {display: flex;flex-direction: column;position: relative;background-color: white;}#sk-2e94c39c-9e19-4c37-a3f7-bd12a19db20c div.sk-parallel-item:first-child::after {align-self: flex-end;width: 50%;}#sk-2e94c39c-9e19-4c37-a3f7-bd12a19db20c div.sk-parallel-item:last-child::after {align-self: flex-start;width: 50%;}#sk-2e94c39c-9e19-4c37-a3f7-bd12a19db20c div.sk-parallel-item:only-child::after {width: 0;}#sk-2e94c39c-9e19-4c37-a3f7-bd12a19db20c div.sk-dashed-wrapped {border: 1px dashed gray;margin: 0 0.4em 0.5em 0.4em;box-sizing: border-box;padding-bottom: 0.4em;background-color: white;position: relative;}#sk-2e94c39c-9e19-4c37-a3f7-bd12a19db20c div.sk-label label {font-family: monospace;font-weight: bold;background-color: white;display: inline-block;line-height: 1.2em;}#sk-2e94c39c-9e19-4c37-a3f7-bd12a19db20c div.sk-label-container {position: relative;z-index: 2;text-align: center;}#sk-2e94c39c-9e19-4c37-a3f7-bd12a19db20c div.sk-container {/* jupyter's `normalize.less` sets `[hidden] { display: none; }` but bootstrap.min.css set `[hidden] { display: none !important; }` so we also need the `!important` here to be able to override the default hidden behavior on the sphinx rendered scikit-learn.org. See: https://github.com/scikit-learn/scikit-learn/issues/21755 */display: inline-block !important;position: relative;}#sk-2e94c39c-9e19-4c37-a3f7-bd12a19db20c div.sk-text-repr-fallback {display: none;}</style><div id=\"sk-2e94c39c-9e19-4c37-a3f7-bd12a19db20c\" class=\"sk-top-container\"><div class=\"sk-text-repr-fallback\"><pre>Pipeline(steps=[(&#x27;impute_missing_cats&#x27;,\n",
       "                 SimpleImputer(strategy=&#x27;most_frequent&#x27;)),\n",
       "                (&#x27;create_dummies_cats&#x27;,\n",
       "                 OneHotEncoder(drop=&#x27;first&#x27;, handle_unknown=&#x27;ignore&#x27;))])</pre><b>Please rerun this cell to show the HTML repr or trust the notebook.</b></div><div class=\"sk-container\" hidden><div class=\"sk-item sk-dashed-wrapped\"><div class=\"sk-label-container\"><div class=\"sk-label sk-toggleable\"><input class=\"sk-toggleable__control sk-hidden--visually\" id=\"ed24c91d-9d0c-4b5f-aff4-9a3508dd5bc2\" type=\"checkbox\" ><label for=\"ed24c91d-9d0c-4b5f-aff4-9a3508dd5bc2\" class=\"sk-toggleable__label sk-toggleable__label-arrow\">Pipeline</label><div class=\"sk-toggleable__content\"><pre>Pipeline(steps=[(&#x27;impute_missing_cats&#x27;,\n",
       "                 SimpleImputer(strategy=&#x27;most_frequent&#x27;)),\n",
       "                (&#x27;create_dummies_cats&#x27;,\n",
       "                 OneHotEncoder(drop=&#x27;first&#x27;, handle_unknown=&#x27;ignore&#x27;))])</pre></div></div></div><div class=\"sk-serial\"><div class=\"sk-item\"><div class=\"sk-estimator sk-toggleable\"><input class=\"sk-toggleable__control sk-hidden--visually\" id=\"a95e5cd3-f5dd-4b9f-9365-56a5693a8047\" type=\"checkbox\" ><label for=\"a95e5cd3-f5dd-4b9f-9365-56a5693a8047\" class=\"sk-toggleable__label sk-toggleable__label-arrow\">SimpleImputer</label><div class=\"sk-toggleable__content\"><pre>SimpleImputer(strategy=&#x27;most_frequent&#x27;)</pre></div></div></div><div class=\"sk-item\"><div class=\"sk-estimator sk-toggleable\"><input class=\"sk-toggleable__control sk-hidden--visually\" id=\"5432c48a-1b09-4a89-b541-98e328fb2438\" type=\"checkbox\" ><label for=\"5432c48a-1b09-4a89-b541-98e328fb2438\" class=\"sk-toggleable__label sk-toggleable__label-arrow\">OneHotEncoder</label><div class=\"sk-toggleable__content\"><pre>OneHotEncoder(drop=&#x27;first&#x27;, handle_unknown=&#x27;ignore&#x27;)</pre></div></div></div></div></div></div></div>"
      ],
      "text/plain": [
       "Pipeline(steps=[('impute_missing_cats',\n",
       "                 SimpleImputer(strategy='most_frequent')),\n",
       "                ('create_dummies_cats',\n",
       "                 OneHotEncoder(drop='first', handle_unknown='ignore'))])"
      ]
     },
     "execution_count": 8,
     "metadata": {},
     "output_type": "execute_result"
    }
   ],
   "source": [
    "categorical_pipeline = Pipeline([('impute_missing_cats', SimpleImputer(strategy='most_frequent')),\n",
    "                          ('create_dummies_cats', OneHotEncoder(handle_unknown='ignore', drop='first'))])\n",
    "set_config(display='diagram')\n",
    "categorical_pipeline"
   ]
  },
  {
   "cell_type": "code",
   "execution_count": 9,
   "id": "b0111a26",
   "metadata": {},
   "outputs": [
    {
     "name": "stdout",
     "output_type": "stream",
     "text": [
      "Actual categorical columns: 30\n",
      "Transformed categorical columns: 30\n"
     ]
    }
   ],
   "source": [
    "transformed_categorical_columns = categorical_pipeline.fit_transform(X_train[categorical_vars]).shape[1]\n",
    "\n",
    "# the columns that are created after passing into OneHotEncoder\n",
    "actual_categorical_columns = categorical_pipeline.named_steps['create_dummies_cats'].get_feature_names_out().shape[0]\n",
    "\n",
    "print(\"Actual categorical columns:\",actual_categorical_columns)\n",
    "print(\"Transformed categorical columns:\",transformed_categorical_columns)"
   ]
  },
  {
   "cell_type": "code",
   "execution_count": 10,
   "id": "a5f0061c",
   "metadata": {},
   "outputs": [
    {
     "data": {
      "text/plain": [
       "True"
      ]
     },
     "execution_count": 10,
     "metadata": {},
     "output_type": "execute_result"
    }
   ],
   "source": [
    "transformed_categorical_columns == actual_categorical_columns"
   ]
  },
  {
   "cell_type": "code",
   "execution_count": 11,
   "id": "ebbad35f",
   "metadata": {},
   "outputs": [
    {
     "data": {
      "text/html": [
       "<style>#sk-e157110e-56a1-4c4c-8be5-74fb688b749d {color: black;background-color: white;}#sk-e157110e-56a1-4c4c-8be5-74fb688b749d pre{padding: 0;}#sk-e157110e-56a1-4c4c-8be5-74fb688b749d div.sk-toggleable {background-color: white;}#sk-e157110e-56a1-4c4c-8be5-74fb688b749d label.sk-toggleable__label {cursor: pointer;display: block;width: 100%;margin-bottom: 0;padding: 0.3em;box-sizing: border-box;text-align: center;}#sk-e157110e-56a1-4c4c-8be5-74fb688b749d label.sk-toggleable__label-arrow:before {content: \"▸\";float: left;margin-right: 0.25em;color: #696969;}#sk-e157110e-56a1-4c4c-8be5-74fb688b749d label.sk-toggleable__label-arrow:hover:before {color: black;}#sk-e157110e-56a1-4c4c-8be5-74fb688b749d div.sk-estimator:hover label.sk-toggleable__label-arrow:before {color: black;}#sk-e157110e-56a1-4c4c-8be5-74fb688b749d div.sk-toggleable__content {max-height: 0;max-width: 0;overflow: hidden;text-align: left;background-color: #f0f8ff;}#sk-e157110e-56a1-4c4c-8be5-74fb688b749d div.sk-toggleable__content pre {margin: 0.2em;color: black;border-radius: 0.25em;background-color: #f0f8ff;}#sk-e157110e-56a1-4c4c-8be5-74fb688b749d input.sk-toggleable__control:checked~div.sk-toggleable__content {max-height: 200px;max-width: 100%;overflow: auto;}#sk-e157110e-56a1-4c4c-8be5-74fb688b749d input.sk-toggleable__control:checked~label.sk-toggleable__label-arrow:before {content: \"▾\";}#sk-e157110e-56a1-4c4c-8be5-74fb688b749d div.sk-estimator input.sk-toggleable__control:checked~label.sk-toggleable__label {background-color: #d4ebff;}#sk-e157110e-56a1-4c4c-8be5-74fb688b749d div.sk-label input.sk-toggleable__control:checked~label.sk-toggleable__label {background-color: #d4ebff;}#sk-e157110e-56a1-4c4c-8be5-74fb688b749d input.sk-hidden--visually {border: 0;clip: rect(1px 1px 1px 1px);clip: rect(1px, 1px, 1px, 1px);height: 1px;margin: -1px;overflow: hidden;padding: 0;position: absolute;width: 1px;}#sk-e157110e-56a1-4c4c-8be5-74fb688b749d div.sk-estimator {font-family: monospace;background-color: #f0f8ff;border: 1px dotted black;border-radius: 0.25em;box-sizing: border-box;margin-bottom: 0.5em;}#sk-e157110e-56a1-4c4c-8be5-74fb688b749d div.sk-estimator:hover {background-color: #d4ebff;}#sk-e157110e-56a1-4c4c-8be5-74fb688b749d div.sk-parallel-item::after {content: \"\";width: 100%;border-bottom: 1px solid gray;flex-grow: 1;}#sk-e157110e-56a1-4c4c-8be5-74fb688b749d div.sk-label:hover label.sk-toggleable__label {background-color: #d4ebff;}#sk-e157110e-56a1-4c4c-8be5-74fb688b749d div.sk-serial::before {content: \"\";position: absolute;border-left: 1px solid gray;box-sizing: border-box;top: 2em;bottom: 0;left: 50%;}#sk-e157110e-56a1-4c4c-8be5-74fb688b749d div.sk-serial {display: flex;flex-direction: column;align-items: center;background-color: white;padding-right: 0.2em;padding-left: 0.2em;}#sk-e157110e-56a1-4c4c-8be5-74fb688b749d div.sk-item {z-index: 1;}#sk-e157110e-56a1-4c4c-8be5-74fb688b749d div.sk-parallel {display: flex;align-items: stretch;justify-content: center;background-color: white;}#sk-e157110e-56a1-4c4c-8be5-74fb688b749d div.sk-parallel::before {content: \"\";position: absolute;border-left: 1px solid gray;box-sizing: border-box;top: 2em;bottom: 0;left: 50%;}#sk-e157110e-56a1-4c4c-8be5-74fb688b749d div.sk-parallel-item {display: flex;flex-direction: column;position: relative;background-color: white;}#sk-e157110e-56a1-4c4c-8be5-74fb688b749d div.sk-parallel-item:first-child::after {align-self: flex-end;width: 50%;}#sk-e157110e-56a1-4c4c-8be5-74fb688b749d div.sk-parallel-item:last-child::after {align-self: flex-start;width: 50%;}#sk-e157110e-56a1-4c4c-8be5-74fb688b749d div.sk-parallel-item:only-child::after {width: 0;}#sk-e157110e-56a1-4c4c-8be5-74fb688b749d div.sk-dashed-wrapped {border: 1px dashed gray;margin: 0 0.4em 0.5em 0.4em;box-sizing: border-box;padding-bottom: 0.4em;background-color: white;position: relative;}#sk-e157110e-56a1-4c4c-8be5-74fb688b749d div.sk-label label {font-family: monospace;font-weight: bold;background-color: white;display: inline-block;line-height: 1.2em;}#sk-e157110e-56a1-4c4c-8be5-74fb688b749d div.sk-label-container {position: relative;z-index: 2;text-align: center;}#sk-e157110e-56a1-4c4c-8be5-74fb688b749d div.sk-container {/* jupyter's `normalize.less` sets `[hidden] { display: none; }` but bootstrap.min.css set `[hidden] { display: none !important; }` so we also need the `!important` here to be able to override the default hidden behavior on the sphinx rendered scikit-learn.org. See: https://github.com/scikit-learn/scikit-learn/issues/21755 */display: inline-block !important;position: relative;}#sk-e157110e-56a1-4c4c-8be5-74fb688b749d div.sk-text-repr-fallback {display: none;}</style><div id=\"sk-e157110e-56a1-4c4c-8be5-74fb688b749d\" class=\"sk-top-container\"><div class=\"sk-text-repr-fallback\"><pre>ColumnTransformer(transformers=[(&#x27;proc_numeric&#x27;,\n",
       "                                 Pipeline(steps=[(&#x27;impute_missing&#x27;,\n",
       "                                                  SimpleImputer(strategy=&#x27;median&#x27;)),\n",
       "                                                 (&#x27;standardize_num&#x27;,\n",
       "                                                  StandardScaler())]),\n",
       "                                 [&#x27;age&#x27;, &#x27;commuting_distance&#x27;, &#x27;last_raise_pct&#x27;,\n",
       "                                  &#x27;total_years_working&#x27;,\n",
       "                                  &#x27;years_since_last_promotion&#x27;,\n",
       "                                  &#x27;years_with_current_supervisor&#x27;]),\n",
       "                                (&#x27;create_dummies&#x27;,\n",
       "                                 Pipeline(steps=[(&#x27;impute_missing_cats&#x27;,\n",
       "                                                  SimpleImputer(strategy=&#x27;most_frequent&#x27;)),\n",
       "                                                 (&#x27;create_dummies_cats&#x27;,\n",
       "                                                  OneHotEncoder(drop=&#x27;first&#x27;,\n",
       "                                                                handle_unknown=&#x27;ignore&#x27;))]),\n",
       "                                 [&#x27;frequency_of_travel&#x27;, &#x27;department&#x27;,\n",
       "                                  &#x27;education&#x27;, &#x27;satisfaction_with_environment&#x27;,\n",
       "                                  &#x27;gender&#x27;, &#x27;seniority_level&#x27;, &#x27;position&#x27;,\n",
       "                                  &#x27;satisfaction_with_job&#x27;, &#x27;married_or_single&#x27;,\n",
       "                                  &#x27;last_performance_rating&#x27;])])</pre><b>Please rerun this cell to show the HTML repr or trust the notebook.</b></div><div class=\"sk-container\" hidden><div class=\"sk-item sk-dashed-wrapped\"><div class=\"sk-label-container\"><div class=\"sk-label sk-toggleable\"><input class=\"sk-toggleable__control sk-hidden--visually\" id=\"ebf83418-761f-4efc-888c-2e3f07ea7c01\" type=\"checkbox\" ><label for=\"ebf83418-761f-4efc-888c-2e3f07ea7c01\" class=\"sk-toggleable__label sk-toggleable__label-arrow\">ColumnTransformer</label><div class=\"sk-toggleable__content\"><pre>ColumnTransformer(transformers=[(&#x27;proc_numeric&#x27;,\n",
       "                                 Pipeline(steps=[(&#x27;impute_missing&#x27;,\n",
       "                                                  SimpleImputer(strategy=&#x27;median&#x27;)),\n",
       "                                                 (&#x27;standardize_num&#x27;,\n",
       "                                                  StandardScaler())]),\n",
       "                                 [&#x27;age&#x27;, &#x27;commuting_distance&#x27;, &#x27;last_raise_pct&#x27;,\n",
       "                                  &#x27;total_years_working&#x27;,\n",
       "                                  &#x27;years_since_last_promotion&#x27;,\n",
       "                                  &#x27;years_with_current_supervisor&#x27;]),\n",
       "                                (&#x27;create_dummies&#x27;,\n",
       "                                 Pipeline(steps=[(&#x27;impute_missing_cats&#x27;,\n",
       "                                                  SimpleImputer(strategy=&#x27;most_frequent&#x27;)),\n",
       "                                                 (&#x27;create_dummies_cats&#x27;,\n",
       "                                                  OneHotEncoder(drop=&#x27;first&#x27;,\n",
       "                                                                handle_unknown=&#x27;ignore&#x27;))]),\n",
       "                                 [&#x27;frequency_of_travel&#x27;, &#x27;department&#x27;,\n",
       "                                  &#x27;education&#x27;, &#x27;satisfaction_with_environment&#x27;,\n",
       "                                  &#x27;gender&#x27;, &#x27;seniority_level&#x27;, &#x27;position&#x27;,\n",
       "                                  &#x27;satisfaction_with_job&#x27;, &#x27;married_or_single&#x27;,\n",
       "                                  &#x27;last_performance_rating&#x27;])])</pre></div></div></div><div class=\"sk-parallel\"><div class=\"sk-parallel-item\"><div class=\"sk-item\"><div class=\"sk-label-container\"><div class=\"sk-label sk-toggleable\"><input class=\"sk-toggleable__control sk-hidden--visually\" id=\"0d1713ca-1d58-44a2-8fea-c383241b1bdf\" type=\"checkbox\" ><label for=\"0d1713ca-1d58-44a2-8fea-c383241b1bdf\" class=\"sk-toggleable__label sk-toggleable__label-arrow\">proc_numeric</label><div class=\"sk-toggleable__content\"><pre>[&#x27;age&#x27;, &#x27;commuting_distance&#x27;, &#x27;last_raise_pct&#x27;, &#x27;total_years_working&#x27;, &#x27;years_since_last_promotion&#x27;, &#x27;years_with_current_supervisor&#x27;]</pre></div></div></div><div class=\"sk-serial\"><div class=\"sk-item\"><div class=\"sk-serial\"><div class=\"sk-item\"><div class=\"sk-estimator sk-toggleable\"><input class=\"sk-toggleable__control sk-hidden--visually\" id=\"5335cbcc-4879-471e-96e0-2a6579c88a11\" type=\"checkbox\" ><label for=\"5335cbcc-4879-471e-96e0-2a6579c88a11\" class=\"sk-toggleable__label sk-toggleable__label-arrow\">SimpleImputer</label><div class=\"sk-toggleable__content\"><pre>SimpleImputer(strategy=&#x27;median&#x27;)</pre></div></div></div><div class=\"sk-item\"><div class=\"sk-estimator sk-toggleable\"><input class=\"sk-toggleable__control sk-hidden--visually\" id=\"42283d11-77a6-4b97-bf74-be4224e2b9ea\" type=\"checkbox\" ><label for=\"42283d11-77a6-4b97-bf74-be4224e2b9ea\" class=\"sk-toggleable__label sk-toggleable__label-arrow\">StandardScaler</label><div class=\"sk-toggleable__content\"><pre>StandardScaler()</pre></div></div></div></div></div></div></div></div><div class=\"sk-parallel-item\"><div class=\"sk-item\"><div class=\"sk-label-container\"><div class=\"sk-label sk-toggleable\"><input class=\"sk-toggleable__control sk-hidden--visually\" id=\"7d36f5cf-0bff-4c75-a32f-2999ab3e34ff\" type=\"checkbox\" ><label for=\"7d36f5cf-0bff-4c75-a32f-2999ab3e34ff\" class=\"sk-toggleable__label sk-toggleable__label-arrow\">create_dummies</label><div class=\"sk-toggleable__content\"><pre>[&#x27;frequency_of_travel&#x27;, &#x27;department&#x27;, &#x27;education&#x27;, &#x27;satisfaction_with_environment&#x27;, &#x27;gender&#x27;, &#x27;seniority_level&#x27;, &#x27;position&#x27;, &#x27;satisfaction_with_job&#x27;, &#x27;married_or_single&#x27;, &#x27;last_performance_rating&#x27;]</pre></div></div></div><div class=\"sk-serial\"><div class=\"sk-item\"><div class=\"sk-serial\"><div class=\"sk-item\"><div class=\"sk-estimator sk-toggleable\"><input class=\"sk-toggleable__control sk-hidden--visually\" id=\"efc7f49a-096d-44a4-859a-e4161a0fbb91\" type=\"checkbox\" ><label for=\"efc7f49a-096d-44a4-859a-e4161a0fbb91\" class=\"sk-toggleable__label sk-toggleable__label-arrow\">SimpleImputer</label><div class=\"sk-toggleable__content\"><pre>SimpleImputer(strategy=&#x27;most_frequent&#x27;)</pre></div></div></div><div class=\"sk-item\"><div class=\"sk-estimator sk-toggleable\"><input class=\"sk-toggleable__control sk-hidden--visually\" id=\"fb63936e-c0d6-43e2-9cf8-3eb18fbb2fbd\" type=\"checkbox\" ><label for=\"fb63936e-c0d6-43e2-9cf8-3eb18fbb2fbd\" class=\"sk-toggleable__label sk-toggleable__label-arrow\">OneHotEncoder</label><div class=\"sk-toggleable__content\"><pre>OneHotEncoder(drop=&#x27;first&#x27;, handle_unknown=&#x27;ignore&#x27;)</pre></div></div></div></div></div></div></div></div></div></div></div></div>"
      ],
      "text/plain": [
       "ColumnTransformer(transformers=[('proc_numeric',\n",
       "                                 Pipeline(steps=[('impute_missing',\n",
       "                                                  SimpleImputer(strategy='median')),\n",
       "                                                 ('standardize_num',\n",
       "                                                  StandardScaler())]),\n",
       "                                 ['age', 'commuting_distance', 'last_raise_pct',\n",
       "                                  'total_years_working',\n",
       "                                  'years_since_last_promotion',\n",
       "                                  'years_with_current_supervisor']),\n",
       "                                ('create_dummies',\n",
       "                                 Pipeline(steps=[('impute_missing_cats',\n",
       "                                                  SimpleImputer(strategy='most_frequent')),\n",
       "                                                 ('create_dummies_cats',\n",
       "                                                  OneHotEncoder(drop='first',\n",
       "                                                                handle_unknown='ignore'))]),\n",
       "                                 ['frequency_of_travel', 'department',\n",
       "                                  'education', 'satisfaction_with_environment',\n",
       "                                  'gender', 'seniority_level', 'position',\n",
       "                                  'satisfaction_with_job', 'married_or_single',\n",
       "                                  'last_performance_rating'])])"
      ]
     },
     "execution_count": 11,
     "metadata": {},
     "output_type": "execute_result"
    }
   ],
   "source": [
    "from sklearn.compose import ColumnTransformer\n",
    "processing_pipeline = ColumnTransformer(transformers=[('proc_numeric', numerical_pipeline, new_numerical_vars),\n",
    "                                                      ('create_dummies', categorical_pipeline, categorical_vars)])\n",
    "\n",
    "processing_pipeline"
   ]
  },
  {
   "cell_type": "code",
   "execution_count": 12,
   "id": "14e0a799",
   "metadata": {},
   "outputs": [
    {
     "data": {
      "text/html": [
       "<style>#sk-a231eb71-3216-4460-ac4a-d608854726fc {color: black;background-color: white;}#sk-a231eb71-3216-4460-ac4a-d608854726fc pre{padding: 0;}#sk-a231eb71-3216-4460-ac4a-d608854726fc div.sk-toggleable {background-color: white;}#sk-a231eb71-3216-4460-ac4a-d608854726fc label.sk-toggleable__label {cursor: pointer;display: block;width: 100%;margin-bottom: 0;padding: 0.3em;box-sizing: border-box;text-align: center;}#sk-a231eb71-3216-4460-ac4a-d608854726fc label.sk-toggleable__label-arrow:before {content: \"▸\";float: left;margin-right: 0.25em;color: #696969;}#sk-a231eb71-3216-4460-ac4a-d608854726fc label.sk-toggleable__label-arrow:hover:before {color: black;}#sk-a231eb71-3216-4460-ac4a-d608854726fc div.sk-estimator:hover label.sk-toggleable__label-arrow:before {color: black;}#sk-a231eb71-3216-4460-ac4a-d608854726fc div.sk-toggleable__content {max-height: 0;max-width: 0;overflow: hidden;text-align: left;background-color: #f0f8ff;}#sk-a231eb71-3216-4460-ac4a-d608854726fc div.sk-toggleable__content pre {margin: 0.2em;color: black;border-radius: 0.25em;background-color: #f0f8ff;}#sk-a231eb71-3216-4460-ac4a-d608854726fc input.sk-toggleable__control:checked~div.sk-toggleable__content {max-height: 200px;max-width: 100%;overflow: auto;}#sk-a231eb71-3216-4460-ac4a-d608854726fc input.sk-toggleable__control:checked~label.sk-toggleable__label-arrow:before {content: \"▾\";}#sk-a231eb71-3216-4460-ac4a-d608854726fc div.sk-estimator input.sk-toggleable__control:checked~label.sk-toggleable__label {background-color: #d4ebff;}#sk-a231eb71-3216-4460-ac4a-d608854726fc div.sk-label input.sk-toggleable__control:checked~label.sk-toggleable__label {background-color: #d4ebff;}#sk-a231eb71-3216-4460-ac4a-d608854726fc input.sk-hidden--visually {border: 0;clip: rect(1px 1px 1px 1px);clip: rect(1px, 1px, 1px, 1px);height: 1px;margin: -1px;overflow: hidden;padding: 0;position: absolute;width: 1px;}#sk-a231eb71-3216-4460-ac4a-d608854726fc div.sk-estimator {font-family: monospace;background-color: #f0f8ff;border: 1px dotted black;border-radius: 0.25em;box-sizing: border-box;margin-bottom: 0.5em;}#sk-a231eb71-3216-4460-ac4a-d608854726fc div.sk-estimator:hover {background-color: #d4ebff;}#sk-a231eb71-3216-4460-ac4a-d608854726fc div.sk-parallel-item::after {content: \"\";width: 100%;border-bottom: 1px solid gray;flex-grow: 1;}#sk-a231eb71-3216-4460-ac4a-d608854726fc div.sk-label:hover label.sk-toggleable__label {background-color: #d4ebff;}#sk-a231eb71-3216-4460-ac4a-d608854726fc div.sk-serial::before {content: \"\";position: absolute;border-left: 1px solid gray;box-sizing: border-box;top: 2em;bottom: 0;left: 50%;}#sk-a231eb71-3216-4460-ac4a-d608854726fc div.sk-serial {display: flex;flex-direction: column;align-items: center;background-color: white;padding-right: 0.2em;padding-left: 0.2em;}#sk-a231eb71-3216-4460-ac4a-d608854726fc div.sk-item {z-index: 1;}#sk-a231eb71-3216-4460-ac4a-d608854726fc div.sk-parallel {display: flex;align-items: stretch;justify-content: center;background-color: white;}#sk-a231eb71-3216-4460-ac4a-d608854726fc div.sk-parallel::before {content: \"\";position: absolute;border-left: 1px solid gray;box-sizing: border-box;top: 2em;bottom: 0;left: 50%;}#sk-a231eb71-3216-4460-ac4a-d608854726fc div.sk-parallel-item {display: flex;flex-direction: column;position: relative;background-color: white;}#sk-a231eb71-3216-4460-ac4a-d608854726fc div.sk-parallel-item:first-child::after {align-self: flex-end;width: 50%;}#sk-a231eb71-3216-4460-ac4a-d608854726fc div.sk-parallel-item:last-child::after {align-self: flex-start;width: 50%;}#sk-a231eb71-3216-4460-ac4a-d608854726fc div.sk-parallel-item:only-child::after {width: 0;}#sk-a231eb71-3216-4460-ac4a-d608854726fc div.sk-dashed-wrapped {border: 1px dashed gray;margin: 0 0.4em 0.5em 0.4em;box-sizing: border-box;padding-bottom: 0.4em;background-color: white;position: relative;}#sk-a231eb71-3216-4460-ac4a-d608854726fc div.sk-label label {font-family: monospace;font-weight: bold;background-color: white;display: inline-block;line-height: 1.2em;}#sk-a231eb71-3216-4460-ac4a-d608854726fc div.sk-label-container {position: relative;z-index: 2;text-align: center;}#sk-a231eb71-3216-4460-ac4a-d608854726fc div.sk-container {/* jupyter's `normalize.less` sets `[hidden] { display: none; }` but bootstrap.min.css set `[hidden] { display: none !important; }` so we also need the `!important` here to be able to override the default hidden behavior on the sphinx rendered scikit-learn.org. See: https://github.com/scikit-learn/scikit-learn/issues/21755 */display: inline-block !important;position: relative;}#sk-a231eb71-3216-4460-ac4a-d608854726fc div.sk-text-repr-fallback {display: none;}</style><div id=\"sk-a231eb71-3216-4460-ac4a-d608854726fc\" class=\"sk-top-container\"><div class=\"sk-text-repr-fallback\"><pre>Pipeline(steps=[(&#x27;data_processing&#x27;,\n",
       "                 ColumnTransformer(transformers=[(&#x27;proc_numeric&#x27;,\n",
       "                                                  Pipeline(steps=[(&#x27;impute_missing&#x27;,\n",
       "                                                                   SimpleImputer(strategy=&#x27;median&#x27;)),\n",
       "                                                                  (&#x27;standardize_num&#x27;,\n",
       "                                                                   StandardScaler())]),\n",
       "                                                  [&#x27;age&#x27;, &#x27;commuting_distance&#x27;,\n",
       "                                                   &#x27;last_raise_pct&#x27;,\n",
       "                                                   &#x27;total_years_working&#x27;,\n",
       "                                                   &#x27;years_since_last_promotion&#x27;,\n",
       "                                                   &#x27;years_with_current_supervisor&#x27;]),\n",
       "                                                 (&#x27;create_dummies&#x27;,\n",
       "                                                  Pipeline(ste...ng_cats&#x27;,\n",
       "                                                                   SimpleImputer(strategy=&#x27;most_frequent&#x27;)),\n",
       "                                                                  (&#x27;create_dummies_cats&#x27;,\n",
       "                                                                   OneHotEncoder(drop=&#x27;first&#x27;,\n",
       "                                                                                 handle_unknown=&#x27;ignore&#x27;))]),\n",
       "                                                  [&#x27;frequency_of_travel&#x27;,\n",
       "                                                   &#x27;department&#x27;, &#x27;education&#x27;,\n",
       "                                                   &#x27;satisfaction_with_environment&#x27;,\n",
       "                                                   &#x27;gender&#x27;, &#x27;seniority_level&#x27;,\n",
       "                                                   &#x27;position&#x27;,\n",
       "                                                   &#x27;satisfaction_with_job&#x27;,\n",
       "                                                   &#x27;married_or_single&#x27;,\n",
       "                                                   &#x27;last_performance_rating&#x27;])])),\n",
       "                (&#x27;lm&#x27;, LogisticRegression())])</pre><b>Please rerun this cell to show the HTML repr or trust the notebook.</b></div><div class=\"sk-container\" hidden><div class=\"sk-item sk-dashed-wrapped\"><div class=\"sk-label-container\"><div class=\"sk-label sk-toggleable\"><input class=\"sk-toggleable__control sk-hidden--visually\" id=\"e955b6e1-8871-4789-bf6e-5250f5e50d1a\" type=\"checkbox\" ><label for=\"e955b6e1-8871-4789-bf6e-5250f5e50d1a\" class=\"sk-toggleable__label sk-toggleable__label-arrow\">Pipeline</label><div class=\"sk-toggleable__content\"><pre>Pipeline(steps=[(&#x27;data_processing&#x27;,\n",
       "                 ColumnTransformer(transformers=[(&#x27;proc_numeric&#x27;,\n",
       "                                                  Pipeline(steps=[(&#x27;impute_missing&#x27;,\n",
       "                                                                   SimpleImputer(strategy=&#x27;median&#x27;)),\n",
       "                                                                  (&#x27;standardize_num&#x27;,\n",
       "                                                                   StandardScaler())]),\n",
       "                                                  [&#x27;age&#x27;, &#x27;commuting_distance&#x27;,\n",
       "                                                   &#x27;last_raise_pct&#x27;,\n",
       "                                                   &#x27;total_years_working&#x27;,\n",
       "                                                   &#x27;years_since_last_promotion&#x27;,\n",
       "                                                   &#x27;years_with_current_supervisor&#x27;]),\n",
       "                                                 (&#x27;create_dummies&#x27;,\n",
       "                                                  Pipeline(ste...ng_cats&#x27;,\n",
       "                                                                   SimpleImputer(strategy=&#x27;most_frequent&#x27;)),\n",
       "                                                                  (&#x27;create_dummies_cats&#x27;,\n",
       "                                                                   OneHotEncoder(drop=&#x27;first&#x27;,\n",
       "                                                                                 handle_unknown=&#x27;ignore&#x27;))]),\n",
       "                                                  [&#x27;frequency_of_travel&#x27;,\n",
       "                                                   &#x27;department&#x27;, &#x27;education&#x27;,\n",
       "                                                   &#x27;satisfaction_with_environment&#x27;,\n",
       "                                                   &#x27;gender&#x27;, &#x27;seniority_level&#x27;,\n",
       "                                                   &#x27;position&#x27;,\n",
       "                                                   &#x27;satisfaction_with_job&#x27;,\n",
       "                                                   &#x27;married_or_single&#x27;,\n",
       "                                                   &#x27;last_performance_rating&#x27;])])),\n",
       "                (&#x27;lm&#x27;, LogisticRegression())])</pre></div></div></div><div class=\"sk-serial\"><div class=\"sk-item sk-dashed-wrapped\"><div class=\"sk-label-container\"><div class=\"sk-label sk-toggleable\"><input class=\"sk-toggleable__control sk-hidden--visually\" id=\"fec67212-9b1d-4037-aeb7-c081bc75b4eb\" type=\"checkbox\" ><label for=\"fec67212-9b1d-4037-aeb7-c081bc75b4eb\" class=\"sk-toggleable__label sk-toggleable__label-arrow\">data_processing: ColumnTransformer</label><div class=\"sk-toggleable__content\"><pre>ColumnTransformer(transformers=[(&#x27;proc_numeric&#x27;,\n",
       "                                 Pipeline(steps=[(&#x27;impute_missing&#x27;,\n",
       "                                                  SimpleImputer(strategy=&#x27;median&#x27;)),\n",
       "                                                 (&#x27;standardize_num&#x27;,\n",
       "                                                  StandardScaler())]),\n",
       "                                 [&#x27;age&#x27;, &#x27;commuting_distance&#x27;, &#x27;last_raise_pct&#x27;,\n",
       "                                  &#x27;total_years_working&#x27;,\n",
       "                                  &#x27;years_since_last_promotion&#x27;,\n",
       "                                  &#x27;years_with_current_supervisor&#x27;]),\n",
       "                                (&#x27;create_dummies&#x27;,\n",
       "                                 Pipeline(steps=[(&#x27;impute_missing_cats&#x27;,\n",
       "                                                  SimpleImputer(strategy=&#x27;most_frequent&#x27;)),\n",
       "                                                 (&#x27;create_dummies_cats&#x27;,\n",
       "                                                  OneHotEncoder(drop=&#x27;first&#x27;,\n",
       "                                                                handle_unknown=&#x27;ignore&#x27;))]),\n",
       "                                 [&#x27;frequency_of_travel&#x27;, &#x27;department&#x27;,\n",
       "                                  &#x27;education&#x27;, &#x27;satisfaction_with_environment&#x27;,\n",
       "                                  &#x27;gender&#x27;, &#x27;seniority_level&#x27;, &#x27;position&#x27;,\n",
       "                                  &#x27;satisfaction_with_job&#x27;, &#x27;married_or_single&#x27;,\n",
       "                                  &#x27;last_performance_rating&#x27;])])</pre></div></div></div><div class=\"sk-parallel\"><div class=\"sk-parallel-item\"><div class=\"sk-item\"><div class=\"sk-label-container\"><div class=\"sk-label sk-toggleable\"><input class=\"sk-toggleable__control sk-hidden--visually\" id=\"f3f8a96b-3a70-4f13-8f70-0dfc30cdbe12\" type=\"checkbox\" ><label for=\"f3f8a96b-3a70-4f13-8f70-0dfc30cdbe12\" class=\"sk-toggleable__label sk-toggleable__label-arrow\">proc_numeric</label><div class=\"sk-toggleable__content\"><pre>[&#x27;age&#x27;, &#x27;commuting_distance&#x27;, &#x27;last_raise_pct&#x27;, &#x27;total_years_working&#x27;, &#x27;years_since_last_promotion&#x27;, &#x27;years_with_current_supervisor&#x27;]</pre></div></div></div><div class=\"sk-serial\"><div class=\"sk-item\"><div class=\"sk-serial\"><div class=\"sk-item\"><div class=\"sk-estimator sk-toggleable\"><input class=\"sk-toggleable__control sk-hidden--visually\" id=\"118e43a8-21ad-4c5f-94cb-897609d46df2\" type=\"checkbox\" ><label for=\"118e43a8-21ad-4c5f-94cb-897609d46df2\" class=\"sk-toggleable__label sk-toggleable__label-arrow\">SimpleImputer</label><div class=\"sk-toggleable__content\"><pre>SimpleImputer(strategy=&#x27;median&#x27;)</pre></div></div></div><div class=\"sk-item\"><div class=\"sk-estimator sk-toggleable\"><input class=\"sk-toggleable__control sk-hidden--visually\" id=\"4fd304a0-e87a-4515-a8dc-6303a49f5e89\" type=\"checkbox\" ><label for=\"4fd304a0-e87a-4515-a8dc-6303a49f5e89\" class=\"sk-toggleable__label sk-toggleable__label-arrow\">StandardScaler</label><div class=\"sk-toggleable__content\"><pre>StandardScaler()</pre></div></div></div></div></div></div></div></div><div class=\"sk-parallel-item\"><div class=\"sk-item\"><div class=\"sk-label-container\"><div class=\"sk-label sk-toggleable\"><input class=\"sk-toggleable__control sk-hidden--visually\" id=\"31dd2ac3-8f21-4a4a-9b93-54a6a5f858b4\" type=\"checkbox\" ><label for=\"31dd2ac3-8f21-4a4a-9b93-54a6a5f858b4\" class=\"sk-toggleable__label sk-toggleable__label-arrow\">create_dummies</label><div class=\"sk-toggleable__content\"><pre>[&#x27;frequency_of_travel&#x27;, &#x27;department&#x27;, &#x27;education&#x27;, &#x27;satisfaction_with_environment&#x27;, &#x27;gender&#x27;, &#x27;seniority_level&#x27;, &#x27;position&#x27;, &#x27;satisfaction_with_job&#x27;, &#x27;married_or_single&#x27;, &#x27;last_performance_rating&#x27;]</pre></div></div></div><div class=\"sk-serial\"><div class=\"sk-item\"><div class=\"sk-serial\"><div class=\"sk-item\"><div class=\"sk-estimator sk-toggleable\"><input class=\"sk-toggleable__control sk-hidden--visually\" id=\"968da93c-fa66-4774-a304-6d267d09378c\" type=\"checkbox\" ><label for=\"968da93c-fa66-4774-a304-6d267d09378c\" class=\"sk-toggleable__label sk-toggleable__label-arrow\">SimpleImputer</label><div class=\"sk-toggleable__content\"><pre>SimpleImputer(strategy=&#x27;most_frequent&#x27;)</pre></div></div></div><div class=\"sk-item\"><div class=\"sk-estimator sk-toggleable\"><input class=\"sk-toggleable__control sk-hidden--visually\" id=\"5870715d-2c2e-4b67-92bc-40ae01e34619\" type=\"checkbox\" ><label for=\"5870715d-2c2e-4b67-92bc-40ae01e34619\" class=\"sk-toggleable__label sk-toggleable__label-arrow\">OneHotEncoder</label><div class=\"sk-toggleable__content\"><pre>OneHotEncoder(drop=&#x27;first&#x27;, handle_unknown=&#x27;ignore&#x27;)</pre></div></div></div></div></div></div></div></div></div></div><div class=\"sk-item\"><div class=\"sk-estimator sk-toggleable\"><input class=\"sk-toggleable__control sk-hidden--visually\" id=\"5e0c58a2-5c2e-47af-b5e1-2fc8693dab2a\" type=\"checkbox\" ><label for=\"5e0c58a2-5c2e-47af-b5e1-2fc8693dab2a\" class=\"sk-toggleable__label sk-toggleable__label-arrow\">LogisticRegression</label><div class=\"sk-toggleable__content\"><pre>LogisticRegression()</pre></div></div></div></div></div></div></div>"
      ],
      "text/plain": [
       "Pipeline(steps=[('data_processing',\n",
       "                 ColumnTransformer(transformers=[('proc_numeric',\n",
       "                                                  Pipeline(steps=[('impute_missing',\n",
       "                                                                   SimpleImputer(strategy='median')),\n",
       "                                                                  ('standardize_num',\n",
       "                                                                   StandardScaler())]),\n",
       "                                                  ['age', 'commuting_distance',\n",
       "                                                   'last_raise_pct',\n",
       "                                                   'total_years_working',\n",
       "                                                   'years_since_last_promotion',\n",
       "                                                   'years_with_current_supervisor']),\n",
       "                                                 ('create_dummies',\n",
       "                                                  Pipeline(ste...ng_cats',\n",
       "                                                                   SimpleImputer(strategy='most_frequent')),\n",
       "                                                                  ('create_dummies_cats',\n",
       "                                                                   OneHotEncoder(drop='first',\n",
       "                                                                                 handle_unknown='ignore'))]),\n",
       "                                                  ['frequency_of_travel',\n",
       "                                                   'department', 'education',\n",
       "                                                   'satisfaction_with_environment',\n",
       "                                                   'gender', 'seniority_level',\n",
       "                                                   'position',\n",
       "                                                   'satisfaction_with_job',\n",
       "                                                   'married_or_single',\n",
       "                                                   'last_performance_rating'])])),\n",
       "                ('lm', LogisticRegression())])"
      ]
     },
     "execution_count": 12,
     "metadata": {},
     "output_type": "execute_result"
    }
   ],
   "source": [
    "from sklearn.linear_model import LogisticRegression\n",
    "\n",
    "modeling_pipeline = Pipeline([('data_processing', processing_pipeline), \n",
    "                              ('lm', LogisticRegression())\n",
    "                             ])\n",
    "modeling_pipeline.fit(X_train, y_train)"
   ]
  },
  {
   "cell_type": "code",
   "execution_count": 13,
   "id": "0e9f38db",
   "metadata": {},
   "outputs": [
    {
     "name": "stdout",
     "output_type": "stream",
     "text": [
      "Scores on Training Data\n",
      "\n",
      "              precision    recall  f1-score   support\n",
      "\n",
      "          No       0.77      0.75      0.76       407\n",
      "         Yes       0.75      0.77      0.76       393\n",
      "\n",
      "    accuracy                           0.76       800\n",
      "   macro avg       0.76      0.76      0.76       800\n",
      "weighted avg       0.76      0.76      0.76       800\n",
      "\n"
     ]
    }
   ],
   "source": [
    "from sklearn.metrics import classification_report\n",
    "predictions_train = modeling_pipeline.predict(X_train)\n",
    "training_score = classification_report(y_train, predictions_train)\n",
    "print('Scores on Training Data\\n')\n",
    "print(training_score)"
   ]
  },
  {
   "cell_type": "code",
   "execution_count": 14,
   "id": "c10b9891",
   "metadata": {},
   "outputs": [
    {
     "name": "stdout",
     "output_type": "stream",
     "text": [
      "Scores on Testing Data\n",
      "\n",
      "              precision    recall  f1-score   support\n",
      "\n",
      "          No       0.68      0.63      0.66        93\n",
      "         Yes       0.70      0.74      0.72       107\n",
      "\n",
      "    accuracy                           0.69       200\n",
      "   macro avg       0.69      0.69      0.69       200\n",
      "weighted avg       0.69      0.69      0.69       200\n",
      "\n"
     ]
    }
   ],
   "source": [
    "predictions_test = modeling_pipeline.predict(X_test)\n",
    "testing_score = classification_report(y_test, predictions_test)\n",
    "print('Scores on Testing Data\\n')\n",
    "print(testing_score)"
   ]
  },
  {
   "cell_type": "markdown",
   "id": "8c249a01",
   "metadata": {},
   "source": [
    "# Applied GridSearchCv"
   ]
  },
  {
   "cell_type": "code",
   "execution_count": 15,
   "id": "a059ba41",
   "metadata": {},
   "outputs": [],
   "source": [
    "from sklearn.model_selection import GridSearchCV\n",
    "\n",
    "param_grid =  {\n",
    "    'lm__penalty' : ['l2'],\n",
    "    'lm__C'       : [0.01, 0.1, 1],\n",
    "    'lm__solver'  : ['newton-cg', 'lbfgs', 'liblinear'],\n",
    "    #'lm__weight': [None, 'balanced']\n",
    "}\n",
    "grid_search = GridSearchCV(estimator=modeling_pipeline, param_grid=param_grid, cv=10,scoring='accuracy')\n",
    "gcv = grid_search.fit(X_train, y_train)"
   ]
  },
  {
   "cell_type": "code",
   "execution_count": 17,
   "id": "1eccb07b",
   "metadata": {},
   "outputs": [],
   "source": [
    "y_pred_gcv_train = gcv.predict(X_train)"
   ]
  },
  {
   "cell_type": "code",
   "execution_count": 18,
   "id": "0de91cc2",
   "metadata": {},
   "outputs": [
    {
     "name": "stdout",
     "output_type": "stream",
     "text": [
      "Scores on Training Data with GCV\n",
      "\n",
      "              precision    recall  f1-score   support\n",
      "\n",
      "          No       0.77      0.75      0.76       407\n",
      "         Yes       0.75      0.77      0.76       393\n",
      "\n",
      "    accuracy                           0.76       800\n",
      "   macro avg       0.76      0.76      0.76       800\n",
      "weighted avg       0.76      0.76      0.76       800\n",
      "\n"
     ]
    }
   ],
   "source": [
    "training_score_gcv = classification_report(y_train, y_pred_gcv_train)\n",
    "print('Scores on Training Data with GCV\\n')\n",
    "print(training_score_gcv)"
   ]
  },
  {
   "cell_type": "code",
   "execution_count": 19,
   "id": "916cedb9",
   "metadata": {},
   "outputs": [],
   "source": [
    "y_pred_gcv_test = gcv.predict(X_test)"
   ]
  },
  {
   "cell_type": "code",
   "execution_count": 20,
   "id": "a69ccff2",
   "metadata": {},
   "outputs": [
    {
     "name": "stdout",
     "output_type": "stream",
     "text": [
      "Scores on Testing Data with GCV\n",
      "\n",
      "              precision    recall  f1-score   support\n",
      "\n",
      "          No       0.67      0.63      0.65        93\n",
      "         Yes       0.70      0.73      0.71       107\n",
      "\n",
      "    accuracy                           0.69       200\n",
      "   macro avg       0.68      0.68      0.68       200\n",
      "weighted avg       0.68      0.69      0.68       200\n",
      "\n"
     ]
    }
   ],
   "source": [
    "testing_score_gcv = classification_report(y_test, y_pred_gcv_test)\n",
    "print('Scores on Testing Data with GCV\\n')\n",
    "print(testing_score_gcv)"
   ]
  },
  {
   "cell_type": "code",
   "execution_count": 16,
   "id": "e391c7b4",
   "metadata": {},
   "outputs": [
    {
     "name": "stdout",
     "output_type": "stream",
     "text": [
      "Best parameters: {'lm__C': 1, 'lm__penalty': 'l2', 'lm__solver': 'liblinear'}\n",
      "Best score: 0.7125000000000001\n"
     ]
    }
   ],
   "source": [
    "print(\"Best parameters:\", gcv.best_params_)\n",
    "print(\"Best score:\", gcv.best_score_)"
   ]
  },
  {
   "cell_type": "markdown",
   "id": "a512c087",
   "metadata": {},
   "source": [
    "- GridSearchCV has not broght any drastic noticeable change, score has changed by 2%\n",
    "- The accuracy is almost same \n",
    "- precision  and recall are also almost same \n",
    "- After the tuning the model, the GridSearchCV gave best paramaters"
   ]
  }
 ],
 "metadata": {
  "kernelspec": {
   "display_name": "Python 3 (ipykernel)",
   "language": "python",
   "name": "python3"
  },
  "language_info": {
   "codemirror_mode": {
    "name": "ipython",
    "version": 3
   },
   "file_extension": ".py",
   "mimetype": "text/x-python",
   "name": "python",
   "nbconvert_exporter": "python",
   "pygments_lexer": "ipython3",
   "version": "3.9.12"
  },
  "toc": {
   "base_numbering": 1,
   "nav_menu": {},
   "number_sections": false,
   "sideBar": true,
   "skip_h1_title": false,
   "title_cell": "Table of Contents",
   "title_sidebar": "Contents",
   "toc_cell": false,
   "toc_position": {},
   "toc_section_display": true,
   "toc_window_display": false
  }
 },
 "nbformat": 4,
 "nbformat_minor": 5
}
